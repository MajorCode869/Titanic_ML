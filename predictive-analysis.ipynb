{
 "cells": [
  {
   "cell_type": "code",
   "execution_count": 1,
   "id": "81597975",
   "metadata": {
    "_cell_guid": "b1076dfc-b9ad-4769-8c92-a6c4dae69d19",
    "_uuid": "8f2839f25d086af736a60e9eeb907d3b93b6e0e5",
    "execution": {
     "iopub.execute_input": "2022-07-12T15:23:28.433125Z",
     "iopub.status.busy": "2022-07-12T15:23:28.432666Z",
     "iopub.status.idle": "2022-07-12T15:23:28.449097Z",
     "shell.execute_reply": "2022-07-12T15:23:28.448119Z"
    },
    "papermill": {
     "duration": 0.034306,
     "end_time": "2022-07-12T15:23:28.451745",
     "exception": false,
     "start_time": "2022-07-12T15:23:28.417439",
     "status": "completed"
    },
    "tags": []
   },
   "outputs": [
    {
     "name": "stdout",
     "output_type": "stream",
     "text": [
      "/kaggle/input/titanic/train.csv\n",
      "/kaggle/input/titanic/test.csv\n",
      "/kaggle/input/titanic/gender_submission.csv\n"
     ]
    }
   ],
   "source": [
    "# This Python 3 environment comes with many helpful analytics libraries installed\n",
    "# It is defined by the kaggle/python Docker image: https://github.com/kaggle/docker-python\n",
    "# For example, here's several helpful packages to load\n",
    "\n",
    "import numpy as np # linear algebra\n",
    "import pandas as pd # data processing, CSV file I/O (e.g. pd.read_csv)\n",
    "\n",
    "# Input data files are available in the read-only \"../input/\" directory\n",
    "# For example, running this (by clicking run or pressing Shift+Enter) will list all files under the input directory\n",
    "\n",
    "import os\n",
    "for dirname, _, filenames in os.walk('/kaggle/input'):\n",
    "    for filename in filenames:\n",
    "        print(os.path.join(dirname, filename))\n",
    "\n",
    "# You can write up to 20GB to the current directory (/kaggle/working/) that gets preserved as output when you create a version using \"Save & Run All\" \n",
    "# You can also write temporary files to /kaggle/temp/, but they won't be saved outside of the current session"
   ]
  },
  {
   "cell_type": "code",
   "execution_count": 2,
   "id": "5adfc91d",
   "metadata": {
    "execution": {
     "iopub.execute_input": "2022-07-12T15:23:28.478557Z",
     "iopub.status.busy": "2022-07-12T15:23:28.478125Z",
     "iopub.status.idle": "2022-07-12T15:23:30.223995Z",
     "shell.execute_reply": "2022-07-12T15:23:30.222919Z"
    },
    "papermill": {
     "duration": 1.762274,
     "end_time": "2022-07-12T15:23:30.226601",
     "exception": false,
     "start_time": "2022-07-12T15:23:28.464327",
     "status": "completed"
    },
    "tags": []
   },
   "outputs": [],
   "source": [
    "import numpy as np\n",
    "import pandas as pd\n",
    "import matplotlib.pyplot as plt\n",
    "import seaborn as sns\n",
    "%matplotlib inline\n",
    "pd.set_option('display.max_columns', None)\n",
    "sns.set(style='whitegrid')\n",
    "\n",
    "from sklearn.experimental import enable_iterative_imputer\n",
    "from sklearn.ensemble import RandomForestClassifier\n",
    "from sklearn.preprocessing import OneHotEncoder, LabelEncoder, StandardScaler\n",
    "from sklearn.impute import SimpleImputer, IterativeImputer\n",
    "from sklearn.metrics import roc_curve, auc\n",
    "from sklearn.model_selection import cross_val_score, StratifiedKFold\n",
    "from sklearn.pipeline import Pipeline\n",
    "\n"
   ]
  },
  {
   "cell_type": "code",
   "execution_count": 3,
   "id": "d9c5118a",
   "metadata": {
    "execution": {
     "iopub.execute_input": "2022-07-12T15:23:30.254758Z",
     "iopub.status.busy": "2022-07-12T15:23:30.253338Z",
     "iopub.status.idle": "2022-07-12T15:23:30.296499Z",
     "shell.execute_reply": "2022-07-12T15:23:30.295448Z"
    },
    "papermill": {
     "duration": 0.060476,
     "end_time": "2022-07-12T15:23:30.300018",
     "exception": false,
     "start_time": "2022-07-12T15:23:30.239542",
     "status": "completed"
    },
    "tags": []
   },
   "outputs": [],
   "source": [
    "df_train=pd.read_csv('../input/titanic/train.csv')\n",
    "df_test=pd.read_csv('../input/titanic/test.csv')\n",
    "df_all=pd.concat([df_train,df_test],axis=0)\n",
    "\n"
   ]
  },
  {
   "cell_type": "code",
   "execution_count": 4,
   "id": "e26f68bd",
   "metadata": {
    "execution": {
     "iopub.execute_input": "2022-07-12T15:23:30.328715Z",
     "iopub.status.busy": "2022-07-12T15:23:30.327568Z",
     "iopub.status.idle": "2022-07-12T15:23:30.366738Z",
     "shell.execute_reply": "2022-07-12T15:23:30.365417Z"
    },
    "papermill": {
     "duration": 0.057532,
     "end_time": "2022-07-12T15:23:30.369655",
     "exception": false,
     "start_time": "2022-07-12T15:23:30.312123",
     "status": "completed"
    },
    "tags": []
   },
   "outputs": [
    {
     "data": {
      "text/html": [
       "<div>\n",
       "<style scoped>\n",
       "    .dataframe tbody tr th:only-of-type {\n",
       "        vertical-align: middle;\n",
       "    }\n",
       "\n",
       "    .dataframe tbody tr th {\n",
       "        vertical-align: top;\n",
       "    }\n",
       "\n",
       "    .dataframe thead th {\n",
       "        text-align: right;\n",
       "    }\n",
       "</style>\n",
       "<table border=\"1\" class=\"dataframe\">\n",
       "  <thead>\n",
       "    <tr style=\"text-align: right;\">\n",
       "      <th></th>\n",
       "      <th>PassengerId</th>\n",
       "      <th>Survived</th>\n",
       "      <th>Pclass</th>\n",
       "      <th>Name</th>\n",
       "      <th>Sex</th>\n",
       "      <th>Age</th>\n",
       "      <th>SibSp</th>\n",
       "      <th>Parch</th>\n",
       "      <th>Ticket</th>\n",
       "      <th>Fare</th>\n",
       "      <th>Cabin</th>\n",
       "      <th>Embarked</th>\n",
       "    </tr>\n",
       "  </thead>\n",
       "  <tbody>\n",
       "    <tr>\n",
       "      <th>0</th>\n",
       "      <td>1</td>\n",
       "      <td>0.0</td>\n",
       "      <td>3</td>\n",
       "      <td>Braund, Mr. Owen Harris</td>\n",
       "      <td>male</td>\n",
       "      <td>22.0</td>\n",
       "      <td>1</td>\n",
       "      <td>0</td>\n",
       "      <td>A/5 21171</td>\n",
       "      <td>7.2500</td>\n",
       "      <td>NaN</td>\n",
       "      <td>S</td>\n",
       "    </tr>\n",
       "    <tr>\n",
       "      <th>1</th>\n",
       "      <td>2</td>\n",
       "      <td>1.0</td>\n",
       "      <td>1</td>\n",
       "      <td>Cumings, Mrs. John Bradley (Florence Briggs Th...</td>\n",
       "      <td>female</td>\n",
       "      <td>38.0</td>\n",
       "      <td>1</td>\n",
       "      <td>0</td>\n",
       "      <td>PC 17599</td>\n",
       "      <td>71.2833</td>\n",
       "      <td>C85</td>\n",
       "      <td>C</td>\n",
       "    </tr>\n",
       "    <tr>\n",
       "      <th>2</th>\n",
       "      <td>3</td>\n",
       "      <td>1.0</td>\n",
       "      <td>3</td>\n",
       "      <td>Heikkinen, Miss. Laina</td>\n",
       "      <td>female</td>\n",
       "      <td>26.0</td>\n",
       "      <td>0</td>\n",
       "      <td>0</td>\n",
       "      <td>STON/O2. 3101282</td>\n",
       "      <td>7.9250</td>\n",
       "      <td>NaN</td>\n",
       "      <td>S</td>\n",
       "    </tr>\n",
       "    <tr>\n",
       "      <th>3</th>\n",
       "      <td>4</td>\n",
       "      <td>1.0</td>\n",
       "      <td>1</td>\n",
       "      <td>Futrelle, Mrs. Jacques Heath (Lily May Peel)</td>\n",
       "      <td>female</td>\n",
       "      <td>35.0</td>\n",
       "      <td>1</td>\n",
       "      <td>0</td>\n",
       "      <td>113803</td>\n",
       "      <td>53.1000</td>\n",
       "      <td>C123</td>\n",
       "      <td>S</td>\n",
       "    </tr>\n",
       "    <tr>\n",
       "      <th>4</th>\n",
       "      <td>5</td>\n",
       "      <td>0.0</td>\n",
       "      <td>3</td>\n",
       "      <td>Allen, Mr. William Henry</td>\n",
       "      <td>male</td>\n",
       "      <td>35.0</td>\n",
       "      <td>0</td>\n",
       "      <td>0</td>\n",
       "      <td>373450</td>\n",
       "      <td>8.0500</td>\n",
       "      <td>NaN</td>\n",
       "      <td>S</td>\n",
       "    </tr>\n",
       "    <tr>\n",
       "      <th>...</th>\n",
       "      <td>...</td>\n",
       "      <td>...</td>\n",
       "      <td>...</td>\n",
       "      <td>...</td>\n",
       "      <td>...</td>\n",
       "      <td>...</td>\n",
       "      <td>...</td>\n",
       "      <td>...</td>\n",
       "      <td>...</td>\n",
       "      <td>...</td>\n",
       "      <td>...</td>\n",
       "      <td>...</td>\n",
       "    </tr>\n",
       "    <tr>\n",
       "      <th>1304</th>\n",
       "      <td>1305</td>\n",
       "      <td>NaN</td>\n",
       "      <td>3</td>\n",
       "      <td>Spector, Mr. Woolf</td>\n",
       "      <td>male</td>\n",
       "      <td>NaN</td>\n",
       "      <td>0</td>\n",
       "      <td>0</td>\n",
       "      <td>A.5. 3236</td>\n",
       "      <td>8.0500</td>\n",
       "      <td>NaN</td>\n",
       "      <td>S</td>\n",
       "    </tr>\n",
       "    <tr>\n",
       "      <th>1305</th>\n",
       "      <td>1306</td>\n",
       "      <td>NaN</td>\n",
       "      <td>1</td>\n",
       "      <td>Oliva y Ocana, Dona. Fermina</td>\n",
       "      <td>female</td>\n",
       "      <td>39.0</td>\n",
       "      <td>0</td>\n",
       "      <td>0</td>\n",
       "      <td>PC 17758</td>\n",
       "      <td>108.9000</td>\n",
       "      <td>C105</td>\n",
       "      <td>C</td>\n",
       "    </tr>\n",
       "    <tr>\n",
       "      <th>1306</th>\n",
       "      <td>1307</td>\n",
       "      <td>NaN</td>\n",
       "      <td>3</td>\n",
       "      <td>Saether, Mr. Simon Sivertsen</td>\n",
       "      <td>male</td>\n",
       "      <td>38.5</td>\n",
       "      <td>0</td>\n",
       "      <td>0</td>\n",
       "      <td>SOTON/O.Q. 3101262</td>\n",
       "      <td>7.2500</td>\n",
       "      <td>NaN</td>\n",
       "      <td>S</td>\n",
       "    </tr>\n",
       "    <tr>\n",
       "      <th>1307</th>\n",
       "      <td>1308</td>\n",
       "      <td>NaN</td>\n",
       "      <td>3</td>\n",
       "      <td>Ware, Mr. Frederick</td>\n",
       "      <td>male</td>\n",
       "      <td>NaN</td>\n",
       "      <td>0</td>\n",
       "      <td>0</td>\n",
       "      <td>359309</td>\n",
       "      <td>8.0500</td>\n",
       "      <td>NaN</td>\n",
       "      <td>S</td>\n",
       "    </tr>\n",
       "    <tr>\n",
       "      <th>1308</th>\n",
       "      <td>1309</td>\n",
       "      <td>NaN</td>\n",
       "      <td>3</td>\n",
       "      <td>Peter, Master. Michael J</td>\n",
       "      <td>male</td>\n",
       "      <td>NaN</td>\n",
       "      <td>1</td>\n",
       "      <td>1</td>\n",
       "      <td>2668</td>\n",
       "      <td>22.3583</td>\n",
       "      <td>NaN</td>\n",
       "      <td>C</td>\n",
       "    </tr>\n",
       "  </tbody>\n",
       "</table>\n",
       "<p>1309 rows × 12 columns</p>\n",
       "</div>"
      ],
      "text/plain": [
       "      PassengerId  Survived  Pclass  \\\n",
       "0               1       0.0       3   \n",
       "1               2       1.0       1   \n",
       "2               3       1.0       3   \n",
       "3               4       1.0       1   \n",
       "4               5       0.0       3   \n",
       "...           ...       ...     ...   \n",
       "1304         1305       NaN       3   \n",
       "1305         1306       NaN       1   \n",
       "1306         1307       NaN       3   \n",
       "1307         1308       NaN       3   \n",
       "1308         1309       NaN       3   \n",
       "\n",
       "                                                   Name     Sex   Age  SibSp  \\\n",
       "0                               Braund, Mr. Owen Harris    male  22.0      1   \n",
       "1     Cumings, Mrs. John Bradley (Florence Briggs Th...  female  38.0      1   \n",
       "2                                Heikkinen, Miss. Laina  female  26.0      0   \n",
       "3          Futrelle, Mrs. Jacques Heath (Lily May Peel)  female  35.0      1   \n",
       "4                              Allen, Mr. William Henry    male  35.0      0   \n",
       "...                                                 ...     ...   ...    ...   \n",
       "1304                                 Spector, Mr. Woolf    male   NaN      0   \n",
       "1305                       Oliva y Ocana, Dona. Fermina  female  39.0      0   \n",
       "1306                       Saether, Mr. Simon Sivertsen    male  38.5      0   \n",
       "1307                                Ware, Mr. Frederick    male   NaN      0   \n",
       "1308                           Peter, Master. Michael J    male   NaN      1   \n",
       "\n",
       "      Parch              Ticket      Fare Cabin Embarked  \n",
       "0         0           A/5 21171    7.2500   NaN        S  \n",
       "1         0            PC 17599   71.2833   C85        C  \n",
       "2         0    STON/O2. 3101282    7.9250   NaN        S  \n",
       "3         0              113803   53.1000  C123        S  \n",
       "4         0              373450    8.0500   NaN        S  \n",
       "...     ...                 ...       ...   ...      ...  \n",
       "1304      0           A.5. 3236    8.0500   NaN        S  \n",
       "1305      0            PC 17758  108.9000  C105        C  \n",
       "1306      0  SOTON/O.Q. 3101262    7.2500   NaN        S  \n",
       "1307      0              359309    8.0500   NaN        S  \n",
       "1308      1                2668   22.3583   NaN        C  \n",
       "\n",
       "[1309 rows x 12 columns]"
      ]
     },
     "execution_count": 4,
     "metadata": {},
     "output_type": "execute_result"
    }
   ],
   "source": [
    "df_all.reset_index(drop=True,inplace=True)\n",
    "df_all"
   ]
  },
  {
   "cell_type": "markdown",
   "id": "7d270056",
   "metadata": {
    "papermill": {
     "duration": 0.014797,
     "end_time": "2022-07-12T15:23:30.397849",
     "exception": false,
     "start_time": "2022-07-12T15:23:30.383052",
     "status": "completed"
    },
    "tags": []
   },
   "source": [
    "### 1.Now we will start basic EDA"
   ]
  },
  {
   "cell_type": "code",
   "execution_count": 5,
   "id": "19e4d52a",
   "metadata": {
    "execution": {
     "iopub.execute_input": "2022-07-12T15:23:30.428626Z",
     "iopub.status.busy": "2022-07-12T15:23:30.427771Z",
     "iopub.status.idle": "2022-07-12T15:23:30.436888Z",
     "shell.execute_reply": "2022-07-12T15:23:30.435472Z"
    },
    "papermill": {
     "duration": 0.02834,
     "end_time": "2022-07-12T15:23:30.440252",
     "exception": false,
     "start_time": "2022-07-12T15:23:30.411912",
     "status": "completed"
    },
    "tags": []
   },
   "outputs": [
    {
     "name": "stdout",
     "output_type": "stream",
     "text": [
      "Number of Training Examples = 891\n",
      "Number of Testing Examples = 418\n",
      "Columns of training data:  Index(['PassengerId', 'Survived', 'Pclass', 'Name', 'Sex', 'Age', 'SibSp',\n",
      "       'Parch', 'Ticket', 'Fare', 'Cabin', 'Embarked'],\n",
      "      dtype='object') Number of columns: 12\n",
      "Columns of testing data:  Index(['PassengerId', 'Pclass', 'Name', 'Sex', 'Age', 'SibSp', 'Parch',\n",
      "       'Ticket', 'Fare', 'Cabin', 'Embarked'],\n",
      "      dtype='object') Number of columns: 11\n",
      "The extra column in training data is {'Survived'}\n"
     ]
    }
   ],
   "source": [
    "print('Number of Training Examples =',df_train.shape[0])\n",
    "print('Number of Testing Examples =',df_test.shape[0])\n",
    "print('Columns of training data: ',df_train.columns,'Number of columns:',len(df_train.columns))\n",
    "print('Columns of testing data: ',df_test.columns,'Number of columns:',len(df_test.columns))\n",
    "print('The extra column in training data is',set(df_train.columns)-set(df_test.columns))"
   ]
  },
  {
   "cell_type": "markdown",
   "id": "aab41236",
   "metadata": {
    "papermill": {
     "duration": 0.012283,
     "end_time": "2022-07-12T15:23:30.465296",
     "exception": false,
     "start_time": "2022-07-12T15:23:30.453013",
     "status": "completed"
    },
    "tags": []
   },
   "source": [
    "The target variable here is **Survived**"
   ]
  },
  {
   "cell_type": "code",
   "execution_count": 6,
   "id": "4d3be4fd",
   "metadata": {
    "execution": {
     "iopub.execute_input": "2022-07-12T15:23:30.493168Z",
     "iopub.status.busy": "2022-07-12T15:23:30.492110Z",
     "iopub.status.idle": "2022-07-12T15:23:30.506570Z",
     "shell.execute_reply": "2022-07-12T15:23:30.505113Z"
    },
    "papermill": {
     "duration": 0.031855,
     "end_time": "2022-07-12T15:23:30.509515",
     "exception": false,
     "start_time": "2022-07-12T15:23:30.477660",
     "status": "completed"
    },
    "tags": []
   },
   "outputs": [
    {
     "name": "stdout",
     "output_type": "stream",
     "text": [
      "3    709\n",
      "1    323\n",
      "2    277\n",
      "Name: Pclass, dtype: int64\n",
      "S    914\n",
      "C    270\n",
      "Q    123\n",
      "Name: Embarked, dtype: int64\n"
     ]
    }
   ],
   "source": [
    "print(df_all.Pclass.value_counts())\n",
    "print(df_all.Embarked.value_counts())"
   ]
  },
  {
   "cell_type": "markdown",
   "id": "f2f9cbdd",
   "metadata": {
    "papermill": {
     "duration": 0.01347,
     "end_time": "2022-07-12T15:23:30.536954",
     "exception": false,
     "start_time": "2022-07-12T15:23:30.523484",
     "status": "completed"
    },
    "tags": []
   },
   "source": [
    "#### 1.1 **Overview of features**\n",
    "* PassengerId has no effect on target var.\n",
    "* Survived is the target variable(0 or 1):\n",
    "    * 1=Survived\n",
    "    * 0=Deceased\n",
    "* Pclass( Passenger Class) is a categorical variable(ordinal) having 3 unique values (1,2,3):\n",
    "    * 1=Upper Class\n",
    "    * 2=Middle Class\n",
    "    * 3=Lower Class\n",
    "* Name, Sex and Age are self-explanatory\n",
    "* SibSp is the total number of the passengers' siblings and spouse\n",
    "* Parch is the total number of the passengers' parents and children\n",
    "* Ticket is the ticket number of the passenger\n",
    "* Fare is the passenger fare\n",
    "* Cabin is the cabin number of the passenger\n",
    "* Embarked is port of embarkation and it is a categorical feature which has 3 unique values (C, Q or S):\n",
    "     * S is Southampton\n",
    "     * C is Cherbourg\n",
    "     * Q is Queenstown"
   ]
  },
  {
   "cell_type": "code",
   "execution_count": 7,
   "id": "c7cb8ea1",
   "metadata": {
    "execution": {
     "iopub.execute_input": "2022-07-12T15:23:30.565745Z",
     "iopub.status.busy": "2022-07-12T15:23:30.564936Z",
     "iopub.status.idle": "2022-07-12T15:23:30.573560Z",
     "shell.execute_reply": "2022-07-12T15:23:30.572564Z"
    },
    "papermill": {
     "duration": 0.026651,
     "end_time": "2022-07-12T15:23:30.576216",
     "exception": false,
     "start_time": "2022-07-12T15:23:30.549565",
     "status": "completed"
    },
    "tags": []
   },
   "outputs": [],
   "source": [
    "def bar_plot(variable):\n",
    "    \"\"\"\n",
    "        input: variable ex: \"Sex\"\n",
    "        output: bar plot & value count\n",
    "    \"\"\"\n",
    "    # get feature\n",
    "    var = df_all[variable]\n",
    "    # count number of categorical variable(value/sample)\n",
    "    varValue = var.value_counts()\n",
    "    \n",
    "    # visualize\n",
    "    plt.figure(figsize = (9,3))\n",
    "    plt.bar(varValue.index, varValue)\n",
    "    plt.xticks(varValue.index, varValue.index.values)\n",
    "    plt.ylabel(\"Frequency\")\n",
    "    plt.title(variable)\n",
    "    plt.show()\n",
    "    print(\"{}: \\n {}\".format(variable,varValue))"
   ]
  },
  {
   "cell_type": "code",
   "execution_count": 8,
   "id": "41f15f59",
   "metadata": {
    "execution": {
     "iopub.execute_input": "2022-07-12T15:23:30.604658Z",
     "iopub.status.busy": "2022-07-12T15:23:30.603928Z",
     "iopub.status.idle": "2022-07-12T15:23:31.861588Z",
     "shell.execute_reply": "2022-07-12T15:23:31.859695Z"
    },
    "papermill": {
     "duration": 1.275761,
     "end_time": "2022-07-12T15:23:31.864368",
     "exception": false,
     "start_time": "2022-07-12T15:23:30.588607",
     "status": "completed"
    },
    "tags": []
   },
   "outputs": [
    {
     "data": {
      "image/png": "[encoded data removed]",
      "text/plain": [
       "<Figure size 648x216 with 1 Axes>"
      ]
     },
     "metadata": {},
     "output_type": "display_data"
    },
    {
     "name": "stdout",
     "output_type": "stream",
     "text": [
      "Survived: \n",
      " 0.0    549\n",
      "1.0    342\n",
      "Name: Survived, dtype: int64\n"
     ]
    },
    {
     "data": {
      "image/png": "[encoded data removed]",
      "text/plain": [
       "<Figure size 648x216 with 1 Axes>"
      ]
     },
     "metadata": {},
     "output_type": "display_data"
    },
    {
     "name": "stdout",
     "output_type": "stream",
     "text": [
      "Sex: \n",
      " male      843\n",
      "female    466\n",
      "Name: Sex, dtype: int64\n"
     ]
    },
    {
     "data": {
      "image/png": "[encoded data removed]",
      "text/plain": [
       "<Figure size 648x216 with 1 Axes>"
      ]
     },
     "metadata": {},
     "output_type": "display_data"
    },
    {
     "name": "stdout",
     "output_type": "stream",
     "text": [
      "Pclass: \n",
      " 3    709\n",
      "1    323\n",
      "2    277\n",
      "Name: Pclass, dtype: int64\n"
     ]
    },
    {
     "data": {
      "image/png": "[encoded data removed]",
      "text/plain": [
       "<Figure size 648x216 with 1 Axes>"
      ]
     },
     "metadata": {},
     "output_type": "display_data"
    },
    {
     "name": "stdout",
     "output_type": "stream",
     "text": [
      "Embarked: \n",
      " S    914\n",
      "C    270\n",
      "Q    123\n",
      "Name: Embarked, dtype: int64\n"
     ]
    },
    {
     "data": {
      "image/png": "[encoded data removed]",
      "text/plain": [
       "<Figure size 648x216 with 1 Axes>"
      ]
     },
     "metadata": {},
     "output_type": "display_data"
    },
    {
     "name": "stdout",
     "output_type": "stream",
     "text": [
      "SibSp: \n",
      " 0    891\n",
      "1    319\n",
      "2     42\n",
      "4     22\n",
      "3     20\n",
      "8      9\n",
      "5      6\n",
      "Name: SibSp, dtype: int64\n"
     ]
    },
    {
     "data": {
      "image/png": "[encoded data removed]",
      "text/plain": [
       "<Figure size 648x216 with 1 Axes>"
      ]
     },
     "metadata": {},
     "output_type": "display_data"
    },
    {
     "name": "stdout",
     "output_type": "stream",
     "text": [
      "Parch: \n",
      " 0    1002\n",
      "1     170\n",
      "2     113\n",
      "3       8\n",
      "5       6\n",
      "4       6\n",
      "6       2\n",
      "9       2\n",
      "Name: Parch, dtype: int64\n"
     ]
    }
   ],
   "source": [
    "category1 = [\"Survived\",\"Sex\",\"Pclass\",\"Embarked\",\"SibSp\", \"Parch\"]\n",
    "for c in category1:\n",
    "    bar_plot(c)"
   ]
  },
  {
   "cell_type": "code",
   "execution_count": 9,
   "id": "ef42894f",
   "metadata": {
    "execution": {
     "iopub.execute_input": "2022-07-12T15:23:31.897368Z",
     "iopub.status.busy": "2022-07-12T15:23:31.896116Z",
     "iopub.status.idle": "2022-07-12T15:23:31.912235Z",
     "shell.execute_reply": "2022-07-12T15:23:31.910431Z"
    },
    "papermill": {
     "duration": 0.03811,
     "end_time": "2022-07-12T15:23:31.917407",
     "exception": false,
     "start_time": "2022-07-12T15:23:31.879297",
     "status": "completed"
    },
    "tags": []
   },
   "outputs": [
    {
     "name": "stdout",
     "output_type": "stream",
     "text": [
      "C23 C25 C27        6\n",
      "G6                 5\n",
      "B57 B59 B63 B66    5\n",
      "C22 C26            4\n",
      "F33                4\n",
      "                  ..\n",
      "A14                1\n",
      "E63                1\n",
      "E12                1\n",
      "E38                1\n",
      "C105               1\n",
      "Name: Cabin, Length: 186, dtype: int64 \n",
      "\n",
      "Connolly, Miss. Kate                                   2\n",
      "Kelly, Mr. James                                       2\n",
      "Braund, Mr. Owen Harris                                1\n",
      "Johnson, Master. Harold Theodor                        1\n",
      "Gustafsson, Mr. Alfred Ossian                          1\n",
      "                                                      ..\n",
      "Carter, Miss. Lucile Polk                              1\n",
      "Silvey, Mr. William Baird                              1\n",
      "Kallio, Mr. Nikolai Erland                             1\n",
      "Louch, Mrs. Charles Alexander (Alice Adelaide Slow)    1\n",
      "Peter, Master. Michael J                               1\n",
      "Name: Name, Length: 1307, dtype: int64 \n",
      "\n",
      "CA. 2343        11\n",
      "CA 2144          8\n",
      "1601             8\n",
      "PC 17608         7\n",
      "S.O.C. 14879     7\n",
      "                ..\n",
      "113792           1\n",
      "36209            1\n",
      "323592           1\n",
      "315089           1\n",
      "359309           1\n",
      "Name: Ticket, Length: 929, dtype: int64 \n",
      "\n"
     ]
    }
   ],
   "source": [
    "\n",
    "\n",
    "category2 = [\"Cabin\", \"Name\", \"Ticket\"]\n",
    "for c in category2:\n",
    "    print(\"{} \\n\".format(df_all[c].value_counts()))\n",
    "\n"
   ]
  },
  {
   "cell_type": "code",
   "execution_count": 10,
   "id": "fb845134",
   "metadata": {
    "execution": {
     "iopub.execute_input": "2022-07-12T15:23:31.950249Z",
     "iopub.status.busy": "2022-07-12T15:23:31.949119Z",
     "iopub.status.idle": "2022-07-12T15:23:31.956098Z",
     "shell.execute_reply": "2022-07-12T15:23:31.955273Z"
    },
    "papermill": {
     "duration": 0.025522,
     "end_time": "2022-07-12T15:23:31.958527",
     "exception": false,
     "start_time": "2022-07-12T15:23:31.933005",
     "status": "completed"
    },
    "tags": []
   },
   "outputs": [],
   "source": [
    "def plot_hist(variable):\n",
    "    plt.figure(figsize = (9,3))\n",
    "    plt.hist(df_all[variable], bins = 50)\n",
    "    plt.xlabel(variable)\n",
    "    plt.ylabel(\"Frequency\")\n",
    "    plt.title(\"{} distribution with hist\".format(variable))\n",
    "    plt.show()\n",
    "    "
   ]
  },
  {
   "cell_type": "code",
   "execution_count": 11,
   "id": "2b023afe",
   "metadata": {
    "execution": {
     "iopub.execute_input": "2022-07-12T15:23:31.990682Z",
     "iopub.status.busy": "2022-07-12T15:23:31.990236Z",
     "iopub.status.idle": "2022-07-12T15:23:33.049991Z",
     "shell.execute_reply": "2022-07-12T15:23:33.048538Z"
    },
    "papermill": {
     "duration": 1.079507,
     "end_time": "2022-07-12T15:23:33.052682",
     "exception": false,
     "start_time": "2022-07-12T15:23:31.973175",
     "status": "completed"
    },
    "tags": []
   },
   "outputs": [
    {
     "data": {
      "image/png": "[encoded data removed]",
      "text/plain": [
       "<Figure size 648x216 with 1 Axes>"
      ]
     },
     "metadata": {},
     "output_type": "display_data"
    },
    {
     "data": {
      "image/png": "[encoded data removed]",
      "text/plain": [
       "<Figure size 648x216 with 1 Axes>"
      ]
     },
     "metadata": {},
     "output_type": "display_data"
    },
    {
     "data": {
      "image/png": "[encoded data removed]",
      "text/plain": [
       "<Figure size 648x216 with 1 Axes>"
      ]
     },
     "metadata": {},
     "output_type": "display_data"
    }
   ],
   "source": [
    "numericVar = [\"Fare\", \"Age\",\"PassengerId\"]\n",
    "for n in numericVar:\n",
    "    plot_hist(n)"
   ]
  },
  {
   "cell_type": "code",
   "execution_count": null,
   "id": "1b740807",
   "metadata": {
    "papermill": {
     "duration": 0.016406,
     "end_time": "2022-07-12T15:23:33.086730",
     "exception": false,
     "start_time": "2022-07-12T15:23:33.070324",
     "status": "completed"
    },
    "tags": []
   },
   "outputs": [],
   "source": []
  },
  {
   "cell_type": "markdown",
   "id": "ad5ee7b9",
   "metadata": {
    "papermill": {
     "duration": 0.015528,
     "end_time": "2022-07-12T15:23:33.118689",
     "exception": false,
     "start_time": "2022-07-12T15:23:33.103161",
     "status": "completed"
    },
    "tags": []
   },
   "source": [
    "One can see the types of features"
   ]
  },
  {
   "cell_type": "markdown",
   "id": "057a4e27",
   "metadata": {
    "papermill": {
     "duration": 0.015515,
     "end_time": "2022-07-12T15:23:33.149707",
     "exception": false,
     "start_time": "2022-07-12T15:23:33.134192",
     "status": "completed"
    },
    "tags": []
   },
   "source": []
  },
  {
   "cell_type": "code",
   "execution_count": 12,
   "id": "82c157df",
   "metadata": {
    "execution": {
     "iopub.execute_input": "2022-07-12T15:23:33.184773Z",
     "iopub.status.busy": "2022-07-12T15:23:33.184287Z",
     "iopub.status.idle": "2022-07-12T15:23:33.190471Z",
     "shell.execute_reply": "2022-07-12T15:23:33.189474Z"
    },
    "papermill": {
     "duration": 0.027481,
     "end_time": "2022-07-12T15:23:33.192969",
     "exception": false,
     "start_time": "2022-07-12T15:23:33.165488",
     "status": "completed"
    },
    "tags": []
   },
   "outputs": [],
   "source": [
    "\n",
    "features_obj=[]\n",
    "features_num=[]\n",
    "for features in df_all.columns:\n",
    "    if df_all[features].dtype=='object':\n",
    "        features_obj.append(features)\n",
    "    else:\n",
    "        features_num.append(features)\n"
   ]
  },
  {
   "cell_type": "markdown",
   "id": "c76353bf",
   "metadata": {
    "papermill": {
     "duration": 0.016084,
     "end_time": "2022-07-12T15:23:33.225929",
     "exception": false,
     "start_time": "2022-07-12T15:23:33.209845",
     "status": "completed"
    },
    "tags": []
   },
   "source": [
    "**Here we have segregated the types of features**"
   ]
  },
  {
   "cell_type": "code",
   "execution_count": 13,
   "id": "56cac0d7",
   "metadata": {
    "execution": {
     "iopub.execute_input": "2022-07-12T15:23:33.261686Z",
     "iopub.status.busy": "2022-07-12T15:23:33.260939Z",
     "iopub.status.idle": "2022-07-12T15:23:33.267309Z",
     "shell.execute_reply": "2022-07-12T15:23:33.265873Z"
    },
    "papermill": {
     "duration": 0.027728,
     "end_time": "2022-07-12T15:23:33.270295",
     "exception": false,
     "start_time": "2022-07-12T15:23:33.242567",
     "status": "completed"
    },
    "tags": []
   },
   "outputs": [
    {
     "name": "stdout",
     "output_type": "stream",
     "text": [
      "String Features : ['Name', 'Sex', 'Ticket', 'Cabin', 'Embarked']\n",
      "Numerical Features : ['PassengerId', 'Survived', 'Pclass', 'Age', 'SibSp', 'Parch', 'Fare']\n"
     ]
    }
   ],
   "source": [
    "print('String Features :', features_obj)\n",
    "print('Numerical Features :',features_num )"
   ]
  },
  {
   "cell_type": "code",
   "execution_count": 14,
   "id": "ba495c45",
   "metadata": {
    "execution": {
     "iopub.execute_input": "2022-07-12T15:23:33.307993Z",
     "iopub.status.busy": "2022-07-12T15:23:33.307023Z",
     "iopub.status.idle": "2022-07-12T15:23:33.328182Z",
     "shell.execute_reply": "2022-07-12T15:23:33.326688Z"
    },
    "papermill": {
     "duration": 0.04378,
     "end_time": "2022-07-12T15:23:33.330928",
     "exception": false,
     "start_time": "2022-07-12T15:23:33.287148",
     "status": "completed"
    },
    "tags": []
   },
   "outputs": [
    {
     "data": {
      "text/html": [
       "<div>\n",
       "<style scoped>\n",
       "    .dataframe tbody tr th:only-of-type {\n",
       "        vertical-align: middle;\n",
       "    }\n",
       "\n",
       "    .dataframe tbody tr th {\n",
       "        vertical-align: top;\n",
       "    }\n",
       "\n",
       "    .dataframe thead th {\n",
       "        text-align: right;\n",
       "    }\n",
       "</style>\n",
       "<table border=\"1\" class=\"dataframe\">\n",
       "  <thead>\n",
       "    <tr style=\"text-align: right;\">\n",
       "      <th></th>\n",
       "      <th>PassengerId</th>\n",
       "      <th>Survived</th>\n",
       "      <th>Pclass</th>\n",
       "      <th>Age</th>\n",
       "      <th>SibSp</th>\n",
       "      <th>Parch</th>\n",
       "      <th>Fare</th>\n",
       "    </tr>\n",
       "  </thead>\n",
       "  <tbody>\n",
       "    <tr>\n",
       "      <th>PassengerId</th>\n",
       "      <td>1.000000</td>\n",
       "      <td>-0.005007</td>\n",
       "      <td>-0.038354</td>\n",
       "      <td>0.028814</td>\n",
       "      <td>-0.055224</td>\n",
       "      <td>0.008942</td>\n",
       "      <td>0.031428</td>\n",
       "    </tr>\n",
       "    <tr>\n",
       "      <th>Survived</th>\n",
       "      <td>-0.005007</td>\n",
       "      <td>1.000000</td>\n",
       "      <td>-0.338481</td>\n",
       "      <td>-0.077221</td>\n",
       "      <td>-0.035322</td>\n",
       "      <td>0.081629</td>\n",
       "      <td>0.257307</td>\n",
       "    </tr>\n",
       "    <tr>\n",
       "      <th>Pclass</th>\n",
       "      <td>-0.038354</td>\n",
       "      <td>-0.338481</td>\n",
       "      <td>1.000000</td>\n",
       "      <td>-0.408106</td>\n",
       "      <td>0.060832</td>\n",
       "      <td>0.018322</td>\n",
       "      <td>-0.558629</td>\n",
       "    </tr>\n",
       "    <tr>\n",
       "      <th>Age</th>\n",
       "      <td>0.028814</td>\n",
       "      <td>-0.077221</td>\n",
       "      <td>-0.408106</td>\n",
       "      <td>1.000000</td>\n",
       "      <td>-0.243699</td>\n",
       "      <td>-0.150917</td>\n",
       "      <td>0.178740</td>\n",
       "    </tr>\n",
       "    <tr>\n",
       "      <th>SibSp</th>\n",
       "      <td>-0.055224</td>\n",
       "      <td>-0.035322</td>\n",
       "      <td>0.060832</td>\n",
       "      <td>-0.243699</td>\n",
       "      <td>1.000000</td>\n",
       "      <td>0.373587</td>\n",
       "      <td>0.160238</td>\n",
       "    </tr>\n",
       "    <tr>\n",
       "      <th>Parch</th>\n",
       "      <td>0.008942</td>\n",
       "      <td>0.081629</td>\n",
       "      <td>0.018322</td>\n",
       "      <td>-0.150917</td>\n",
       "      <td>0.373587</td>\n",
       "      <td>1.000000</td>\n",
       "      <td>0.221539</td>\n",
       "    </tr>\n",
       "    <tr>\n",
       "      <th>Fare</th>\n",
       "      <td>0.031428</td>\n",
       "      <td>0.257307</td>\n",
       "      <td>-0.558629</td>\n",
       "      <td>0.178740</td>\n",
       "      <td>0.160238</td>\n",
       "      <td>0.221539</td>\n",
       "      <td>1.000000</td>\n",
       "    </tr>\n",
       "  </tbody>\n",
       "</table>\n",
       "</div>"
      ],
      "text/plain": [
       "             PassengerId  Survived    Pclass       Age     SibSp     Parch  \\\n",
       "PassengerId     1.000000 -0.005007 -0.038354  0.028814 -0.055224  0.008942   \n",
       "Survived       -0.005007  1.000000 -0.338481 -0.077221 -0.035322  0.081629   \n",
       "Pclass         -0.038354 -0.338481  1.000000 -0.408106  0.060832  0.018322   \n",
       "Age             0.028814 -0.077221 -0.408106  1.000000 -0.243699 -0.150917   \n",
       "SibSp          -0.055224 -0.035322  0.060832 -0.243699  1.000000  0.373587   \n",
       "Parch           0.008942  0.081629  0.018322 -0.150917  0.373587  1.000000   \n",
       "Fare            0.031428  0.257307 -0.558629  0.178740  0.160238  0.221539   \n",
       "\n",
       "                 Fare  \n",
       "PassengerId  0.031428  \n",
       "Survived     0.257307  \n",
       "Pclass      -0.558629  \n",
       "Age          0.178740  \n",
       "SibSp        0.160238  \n",
       "Parch        0.221539  \n",
       "Fare         1.000000  "
      ]
     },
     "execution_count": 14,
     "metadata": {},
     "output_type": "execute_result"
    }
   ],
   "source": [
    "df_all.corr()"
   ]
  },
  {
   "cell_type": "code",
   "execution_count": 15,
   "id": "cfd6209b",
   "metadata": {
    "execution": {
     "iopub.execute_input": "2022-07-12T15:23:33.366564Z",
     "iopub.status.busy": "2022-07-12T15:23:33.365713Z",
     "iopub.status.idle": "2022-07-12T15:23:33.387273Z",
     "shell.execute_reply": "2022-07-12T15:23:33.385717Z"
    },
    "papermill": {
     "duration": 0.042316,
     "end_time": "2022-07-12T15:23:33.390215",
     "exception": false,
     "start_time": "2022-07-12T15:23:33.347899",
     "status": "completed"
    },
    "tags": []
   },
   "outputs": [
    {
     "name": "stdout",
     "output_type": "stream",
     "text": [
      "<class 'pandas.core.frame.DataFrame'>\n",
      "RangeIndex: 1309 entries, 0 to 1308\n",
      "Data columns (total 12 columns):\n",
      " #   Column       Non-Null Count  Dtype  \n",
      "---  ------       --------------  -----  \n",
      " 0   PassengerId  1309 non-null   int64  \n",
      " 1   Survived     891 non-null    float64\n",
      " 2   Pclass       1309 non-null   int64  \n",
      " 3   Name         1309 non-null   object \n",
      " 4   Sex          1309 non-null   object \n",
      " 5   Age          1046 non-null   float64\n",
      " 6   SibSp        1309 non-null   int64  \n",
      " 7   Parch        1309 non-null   int64  \n",
      " 8   Ticket       1309 non-null   object \n",
      " 9   Fare         1308 non-null   float64\n",
      " 10  Cabin        295 non-null    object \n",
      " 11  Embarked     1307 non-null   object \n",
      "dtypes: float64(3), int64(4), object(5)\n",
      "memory usage: 122.8+ KB\n"
     ]
    }
   ],
   "source": [
    "df_all.info()"
   ]
  },
  {
   "cell_type": "markdown",
   "id": "c1af1c30",
   "metadata": {
    "papermill": {
     "duration": 0.015714,
     "end_time": "2022-07-12T15:23:33.422218",
     "exception": false,
     "start_time": "2022-07-12T15:23:33.406504",
     "status": "completed"
    },
    "tags": []
   },
   "source": [
    "Do some univariate analysis before filling out/Tableau"
   ]
  },
  {
   "cell_type": "code",
   "execution_count": null,
   "id": "a1b12585",
   "metadata": {
    "papermill": {
     "duration": 0.018061,
     "end_time": "2022-07-12T15:23:33.458274",
     "exception": false,
     "start_time": "2022-07-12T15:23:33.440213",
     "status": "completed"
    },
    "tags": []
   },
   "outputs": [],
   "source": []
  },
  {
   "cell_type": "markdown",
   "id": "8351a964",
   "metadata": {
    "papermill": {
     "duration": 0.017451,
     "end_time": "2022-07-12T15:23:33.492169",
     "exception": false,
     "start_time": "2022-07-12T15:23:33.474718",
     "status": "completed"
    },
    "tags": []
   },
   "source": [
    "**1.2 Missing Values**\n",
    "It is convenient to work on concatenated training and test set while dealing with missing values, otherwise filled data may overfit to training or test set samples. \n",
    "The count of missing values in Age, Embarked and Fare are smaller compared to total sample, but roughly 80% of the Cabin is missing. Missing values in **Age, Embarked and Fare** can be filled with *descriptive statistical measures* but that wouldn't work for Cabin.\n",
    "\n",
    "Studying correlations will help us a lot.\n"
   ]
  },
  {
   "cell_type": "code",
   "execution_count": 16,
   "id": "4ab8aec1",
   "metadata": {
    "execution": {
     "iopub.execute_input": "2022-07-12T15:23:33.528263Z",
     "iopub.status.busy": "2022-07-12T15:23:33.527839Z",
     "iopub.status.idle": "2022-07-12T15:23:33.539101Z",
     "shell.execute_reply": "2022-07-12T15:23:33.537534Z"
    },
    "papermill": {
     "duration": 0.032255,
     "end_time": "2022-07-12T15:23:33.542333",
     "exception": false,
     "start_time": "2022-07-12T15:23:33.510078",
     "status": "completed"
    },
    "tags": []
   },
   "outputs": [
    {
     "name": "stdout",
     "output_type": "stream",
     "text": [
      "PassengerId  percent missing value: 0.0\n",
      "Survived  percent missing value: 31.932773109243698\n",
      "Pclass  percent missing value: 0.0\n",
      "Name  percent missing value: 0.0\n",
      "Sex  percent missing value: 0.0\n",
      "Age  percent missing value: 20.091673032849503\n",
      "SibSp  percent missing value: 0.0\n",
      "Parch  percent missing value: 0.0\n",
      "Ticket  percent missing value: 0.0\n",
      "Fare  percent missing value: 0.07639419404125286\n",
      "Cabin  percent missing value: 77.46371275783041\n",
      "Embarked  percent missing value: 0.15278838808250572\n"
     ]
    }
   ],
   "source": [
    "for feature in df_all.columns:\n",
    "    print(feature,' percent missing value:',100*df_all[feature].isnull().sum()/df_all.shape[0])"
   ]
  },
  {
   "cell_type": "code",
   "execution_count": 17,
   "id": "3324e304",
   "metadata": {
    "execution": {
     "iopub.execute_input": "2022-07-12T15:23:33.578102Z",
     "iopub.status.busy": "2022-07-12T15:23:33.576717Z",
     "iopub.status.idle": "2022-07-12T15:23:34.163950Z",
     "shell.execute_reply": "2022-07-12T15:23:34.162684Z"
    },
    "papermill": {
     "duration": 0.607798,
     "end_time": "2022-07-12T15:23:34.166874",
     "exception": false,
     "start_time": "2022-07-12T15:23:33.559076",
     "status": "completed"
    },
    "tags": []
   },
   "outputs": [
    {
     "data": {
      "text/plain": [
       "Text(0.5, 1.0, 'Pearson Correlation Heatmap')"
      ]
     },
     "execution_count": 17,
     "metadata": {},
     "output_type": "execute_result"
    },
    {
     "data": {
      "image/png": "[encoded data removed]",
      "text/plain": [
       "<Figure size 1152x432 with 2 Axes>"
      ]
     },
     "metadata": {},
     "output_type": "display_data"
    }
   ],
   "source": [
    "plt.figure(figsize=(16,6))\n",
    "heatmap=sns.heatmap(df_all.corr(),vmin=-1,vmax=1,annot=True,cmap='BrBG')\n",
    "heatmap.set_title('Pearson Correlation Heatmap',fontdict={'fontsize':18},pad=12)\n"
   ]
  },
  {
   "cell_type": "markdown",
   "id": "a186f0df",
   "metadata": {
    "papermill": {
     "duration": 0.018283,
     "end_time": "2022-07-12T15:23:34.205019",
     "exception": false,
     "start_time": "2022-07-12T15:23:34.186736",
     "status": "completed"
    },
    "tags": []
   },
   "source": [
    "**1.2.1 Age**\n",
    "Missing values in Age are filled with"
   ]
  },
  {
   "cell_type": "code",
   "execution_count": 18,
   "id": "74334768",
   "metadata": {
    "execution": {
     "iopub.execute_input": "2022-07-12T15:23:34.242271Z",
     "iopub.status.busy": "2022-07-12T15:23:34.241830Z",
     "iopub.status.idle": "2022-07-12T15:23:34.491020Z",
     "shell.execute_reply": "2022-07-12T15:23:34.489814Z"
    },
    "papermill": {
     "duration": 0.271422,
     "end_time": "2022-07-12T15:23:34.493629",
     "exception": false,
     "start_time": "2022-07-12T15:23:34.222207",
     "status": "completed"
    },
    "tags": []
   },
   "outputs": [
    {
     "data": {
      "text/plain": [
       "<AxesSubplot:>"
      ]
     },
     "execution_count": 18,
     "metadata": {},
     "output_type": "execute_result"
    },
    {
     "data": {
      "image/png": "[encoded data removed]",
      "text/plain": [
       "<Figure size 432x288 with 1 Axes>"
      ]
     },
     "metadata": {},
     "output_type": "display_data"
    }
   ],
   "source": [
    "df_all.Age.hist(bins=10)"
   ]
  },
  {
   "cell_type": "markdown",
   "id": "f9bd4927",
   "metadata": {
    "papermill": {
     "duration": 0.017141,
     "end_time": "2022-07-12T15:23:34.529455",
     "exception": false,
     "start_time": "2022-07-12T15:23:34.512314",
     "status": "completed"
    },
    "tags": []
   },
   "source": [
    "You can clearly see that the younger age bracket is mostly present"
   ]
  },
  {
   "cell_type": "code",
   "execution_count": 19,
   "id": "2cd1e188",
   "metadata": {
    "execution": {
     "iopub.execute_input": "2022-07-12T15:23:34.568307Z",
     "iopub.status.busy": "2022-07-12T15:23:34.567898Z",
     "iopub.status.idle": "2022-07-12T15:23:34.596180Z",
     "shell.execute_reply": "2022-07-12T15:23:34.595282Z"
    },
    "papermill": {
     "duration": 0.050566,
     "end_time": "2022-07-12T15:23:34.598609",
     "exception": false,
     "start_time": "2022-07-12T15:23:34.548043",
     "status": "completed"
    },
    "tags": []
   },
   "outputs": [
    {
     "data": {
      "text/html": [
       "<div>\n",
       "<style scoped>\n",
       "    .dataframe tbody tr th:only-of-type {\n",
       "        vertical-align: middle;\n",
       "    }\n",
       "\n",
       "    .dataframe tbody tr th {\n",
       "        vertical-align: top;\n",
       "    }\n",
       "\n",
       "    .dataframe thead th {\n",
       "        text-align: right;\n",
       "    }\n",
       "</style>\n",
       "<table border=\"1\" class=\"dataframe\">\n",
       "  <thead>\n",
       "    <tr style=\"text-align: right;\">\n",
       "      <th></th>\n",
       "      <th>PassengerId</th>\n",
       "      <th>Survived</th>\n",
       "      <th>Pclass</th>\n",
       "      <th>Name</th>\n",
       "      <th>Sex</th>\n",
       "      <th>Age</th>\n",
       "      <th>SibSp</th>\n",
       "      <th>Parch</th>\n",
       "      <th>Ticket</th>\n",
       "      <th>Fare</th>\n",
       "      <th>Cabin</th>\n",
       "      <th>Embarked</th>\n",
       "    </tr>\n",
       "  </thead>\n",
       "  <tbody>\n",
       "    <tr>\n",
       "      <th>5</th>\n",
       "      <td>6</td>\n",
       "      <td>0.0</td>\n",
       "      <td>3</td>\n",
       "      <td>Moran, Mr. James</td>\n",
       "      <td>male</td>\n",
       "      <td>NaN</td>\n",
       "      <td>0</td>\n",
       "      <td>0</td>\n",
       "      <td>330877</td>\n",
       "      <td>8.4583</td>\n",
       "      <td>NaN</td>\n",
       "      <td>Q</td>\n",
       "    </tr>\n",
       "    <tr>\n",
       "      <th>17</th>\n",
       "      <td>18</td>\n",
       "      <td>1.0</td>\n",
       "      <td>2</td>\n",
       "      <td>Williams, Mr. Charles Eugene</td>\n",
       "      <td>male</td>\n",
       "      <td>NaN</td>\n",
       "      <td>0</td>\n",
       "      <td>0</td>\n",
       "      <td>244373</td>\n",
       "      <td>13.0000</td>\n",
       "      <td>NaN</td>\n",
       "      <td>S</td>\n",
       "    </tr>\n",
       "    <tr>\n",
       "      <th>19</th>\n",
       "      <td>20</td>\n",
       "      <td>1.0</td>\n",
       "      <td>3</td>\n",
       "      <td>Masselmani, Mrs. Fatima</td>\n",
       "      <td>female</td>\n",
       "      <td>NaN</td>\n",
       "      <td>0</td>\n",
       "      <td>0</td>\n",
       "      <td>2649</td>\n",
       "      <td>7.2250</td>\n",
       "      <td>NaN</td>\n",
       "      <td>C</td>\n",
       "    </tr>\n",
       "    <tr>\n",
       "      <th>26</th>\n",
       "      <td>27</td>\n",
       "      <td>0.0</td>\n",
       "      <td>3</td>\n",
       "      <td>Emir, Mr. Farred Chehab</td>\n",
       "      <td>male</td>\n",
       "      <td>NaN</td>\n",
       "      <td>0</td>\n",
       "      <td>0</td>\n",
       "      <td>2631</td>\n",
       "      <td>7.2250</td>\n",
       "      <td>NaN</td>\n",
       "      <td>C</td>\n",
       "    </tr>\n",
       "    <tr>\n",
       "      <th>28</th>\n",
       "      <td>29</td>\n",
       "      <td>1.0</td>\n",
       "      <td>3</td>\n",
       "      <td>O'Dwyer, Miss. Ellen \"Nellie\"</td>\n",
       "      <td>female</td>\n",
       "      <td>NaN</td>\n",
       "      <td>0</td>\n",
       "      <td>0</td>\n",
       "      <td>330959</td>\n",
       "      <td>7.8792</td>\n",
       "      <td>NaN</td>\n",
       "      <td>Q</td>\n",
       "    </tr>\n",
       "    <tr>\n",
       "      <th>...</th>\n",
       "      <td>...</td>\n",
       "      <td>...</td>\n",
       "      <td>...</td>\n",
       "      <td>...</td>\n",
       "      <td>...</td>\n",
       "      <td>...</td>\n",
       "      <td>...</td>\n",
       "      <td>...</td>\n",
       "      <td>...</td>\n",
       "      <td>...</td>\n",
       "      <td>...</td>\n",
       "      <td>...</td>\n",
       "    </tr>\n",
       "    <tr>\n",
       "      <th>1299</th>\n",
       "      <td>1300</td>\n",
       "      <td>NaN</td>\n",
       "      <td>3</td>\n",
       "      <td>Riordan, Miss. Johanna Hannah\"\"</td>\n",
       "      <td>female</td>\n",
       "      <td>NaN</td>\n",
       "      <td>0</td>\n",
       "      <td>0</td>\n",
       "      <td>334915</td>\n",
       "      <td>7.7208</td>\n",
       "      <td>NaN</td>\n",
       "      <td>Q</td>\n",
       "    </tr>\n",
       "    <tr>\n",
       "      <th>1301</th>\n",
       "      <td>1302</td>\n",
       "      <td>NaN</td>\n",
       "      <td>3</td>\n",
       "      <td>Naughton, Miss. Hannah</td>\n",
       "      <td>female</td>\n",
       "      <td>NaN</td>\n",
       "      <td>0</td>\n",
       "      <td>0</td>\n",
       "      <td>365237</td>\n",
       "      <td>7.7500</td>\n",
       "      <td>NaN</td>\n",
       "      <td>Q</td>\n",
       "    </tr>\n",
       "    <tr>\n",
       "      <th>1304</th>\n",
       "      <td>1305</td>\n",
       "      <td>NaN</td>\n",
       "      <td>3</td>\n",
       "      <td>Spector, Mr. Woolf</td>\n",
       "      <td>male</td>\n",
       "      <td>NaN</td>\n",
       "      <td>0</td>\n",
       "      <td>0</td>\n",
       "      <td>A.5. 3236</td>\n",
       "      <td>8.0500</td>\n",
       "      <td>NaN</td>\n",
       "      <td>S</td>\n",
       "    </tr>\n",
       "    <tr>\n",
       "      <th>1307</th>\n",
       "      <td>1308</td>\n",
       "      <td>NaN</td>\n",
       "      <td>3</td>\n",
       "      <td>Ware, Mr. Frederick</td>\n",
       "      <td>male</td>\n",
       "      <td>NaN</td>\n",
       "      <td>0</td>\n",
       "      <td>0</td>\n",
       "      <td>359309</td>\n",
       "      <td>8.0500</td>\n",
       "      <td>NaN</td>\n",
       "      <td>S</td>\n",
       "    </tr>\n",
       "    <tr>\n",
       "      <th>1308</th>\n",
       "      <td>1309</td>\n",
       "      <td>NaN</td>\n",
       "      <td>3</td>\n",
       "      <td>Peter, Master. Michael J</td>\n",
       "      <td>male</td>\n",
       "      <td>NaN</td>\n",
       "      <td>1</td>\n",
       "      <td>1</td>\n",
       "      <td>2668</td>\n",
       "      <td>22.3583</td>\n",
       "      <td>NaN</td>\n",
       "      <td>C</td>\n",
       "    </tr>\n",
       "  </tbody>\n",
       "</table>\n",
       "<p>263 rows × 12 columns</p>\n",
       "</div>"
      ],
      "text/plain": [
       "      PassengerId  Survived  Pclass                             Name     Sex  \\\n",
       "5               6       0.0       3                 Moran, Mr. James    male   \n",
       "17             18       1.0       2     Williams, Mr. Charles Eugene    male   \n",
       "19             20       1.0       3          Masselmani, Mrs. Fatima  female   \n",
       "26             27       0.0       3          Emir, Mr. Farred Chehab    male   \n",
       "28             29       1.0       3    O'Dwyer, Miss. Ellen \"Nellie\"  female   \n",
       "...           ...       ...     ...                              ...     ...   \n",
       "1299         1300       NaN       3  Riordan, Miss. Johanna Hannah\"\"  female   \n",
       "1301         1302       NaN       3           Naughton, Miss. Hannah  female   \n",
       "1304         1305       NaN       3               Spector, Mr. Woolf    male   \n",
       "1307         1308       NaN       3              Ware, Mr. Frederick    male   \n",
       "1308         1309       NaN       3         Peter, Master. Michael J    male   \n",
       "\n",
       "      Age  SibSp  Parch     Ticket     Fare Cabin Embarked  \n",
       "5     NaN      0      0     330877   8.4583   NaN        Q  \n",
       "17    NaN      0      0     244373  13.0000   NaN        S  \n",
       "19    NaN      0      0       2649   7.2250   NaN        C  \n",
       "26    NaN      0      0       2631   7.2250   NaN        C  \n",
       "28    NaN      0      0     330959   7.8792   NaN        Q  \n",
       "...   ...    ...    ...        ...      ...   ...      ...  \n",
       "1299  NaN      0      0     334915   7.7208   NaN        Q  \n",
       "1301  NaN      0      0     365237   7.7500   NaN        Q  \n",
       "1304  NaN      0      0  A.5. 3236   8.0500   NaN        S  \n",
       "1307  NaN      0      0     359309   8.0500   NaN        S  \n",
       "1308  NaN      1      1       2668  22.3583   NaN        C  \n",
       "\n",
       "[263 rows x 12 columns]"
      ]
     },
     "execution_count": 19,
     "metadata": {},
     "output_type": "execute_result"
    }
   ],
   "source": [
    "df_all[df_all.Age.isnull()]"
   ]
  },
  {
   "cell_type": "code",
   "execution_count": 20,
   "id": "e60a5de3",
   "metadata": {
    "execution": {
     "iopub.execute_input": "2022-07-12T15:23:34.636666Z",
     "iopub.status.busy": "2022-07-12T15:23:34.635896Z",
     "iopub.status.idle": "2022-07-12T15:23:34.649234Z",
     "shell.execute_reply": "2022-07-12T15:23:34.648401Z"
    },
    "papermill": {
     "duration": 0.034814,
     "end_time": "2022-07-12T15:23:34.651509",
     "exception": false,
     "start_time": "2022-07-12T15:23:34.616695",
     "status": "completed"
    },
    "tags": []
   },
   "outputs": [
    {
     "data": {
      "text/html": [
       "<div>\n",
       "<style scoped>\n",
       "    .dataframe tbody tr th:only-of-type {\n",
       "        vertical-align: middle;\n",
       "    }\n",
       "\n",
       "    .dataframe tbody tr th {\n",
       "        vertical-align: top;\n",
       "    }\n",
       "\n",
       "    .dataframe thead th {\n",
       "        text-align: right;\n",
       "    }\n",
       "</style>\n",
       "<table border=\"1\" class=\"dataframe\">\n",
       "  <thead>\n",
       "    <tr style=\"text-align: right;\">\n",
       "      <th></th>\n",
       "      <th>Age</th>\n",
       "    </tr>\n",
       "  </thead>\n",
       "  <tbody>\n",
       "    <tr>\n",
       "      <th>Age</th>\n",
       "      <td>1.000000</td>\n",
       "    </tr>\n",
       "    <tr>\n",
       "      <th>Fare</th>\n",
       "      <td>0.178740</td>\n",
       "    </tr>\n",
       "    <tr>\n",
       "      <th>PassengerId</th>\n",
       "      <td>0.028814</td>\n",
       "    </tr>\n",
       "    <tr>\n",
       "      <th>Survived</th>\n",
       "      <td>-0.077221</td>\n",
       "    </tr>\n",
       "    <tr>\n",
       "      <th>Parch</th>\n",
       "      <td>-0.150917</td>\n",
       "    </tr>\n",
       "    <tr>\n",
       "      <th>SibSp</th>\n",
       "      <td>-0.243699</td>\n",
       "    </tr>\n",
       "    <tr>\n",
       "      <th>Pclass</th>\n",
       "      <td>-0.408106</td>\n",
       "    </tr>\n",
       "  </tbody>\n",
       "</table>\n",
       "</div>"
      ],
      "text/plain": [
       "                  Age\n",
       "Age          1.000000\n",
       "Fare         0.178740\n",
       "PassengerId  0.028814\n",
       "Survived    -0.077221\n",
       "Parch       -0.150917\n",
       "SibSp       -0.243699\n",
       "Pclass      -0.408106"
      ]
     },
     "execution_count": 20,
     "metadata": {},
     "output_type": "execute_result"
    }
   ],
   "source": [
    "df_all.corr()[['Age']].sort_values(by='Age',ascending=False)"
   ]
  },
  {
   "cell_type": "markdown",
   "id": "eccf85e5",
   "metadata": {
    "papermill": {
     "duration": 0.020964,
     "end_time": "2022-07-12T15:23:34.690594",
     "exception": false,
     "start_time": "2022-07-12T15:23:34.669630",
     "status": "completed"
    },
    "tags": []
   },
   "source": []
  },
  {
   "cell_type": "code",
   "execution_count": 21,
   "id": "ef6f6774",
   "metadata": {
    "execution": {
     "iopub.execute_input": "2022-07-12T15:23:34.730613Z",
     "iopub.status.busy": "2022-07-12T15:23:34.729723Z",
     "iopub.status.idle": "2022-07-12T15:23:35.212173Z",
     "shell.execute_reply": "2022-07-12T15:23:35.211052Z"
    },
    "papermill": {
     "duration": 0.505702,
     "end_time": "2022-07-12T15:23:35.215209",
     "exception": false,
     "start_time": "2022-07-12T15:23:34.709507",
     "status": "completed"
    },
    "tags": []
   },
   "outputs": [
    {
     "data": {
      "image/png": "[encoded data removed]",
      "text/plain": [
       "<Figure size 576x864 with 2 Axes>"
      ]
     },
     "metadata": {},
     "output_type": "display_data"
    }
   ],
   "source": [
    "plt.figure(figsize=(8, 12))\n",
    "heatmap = sns.heatmap(df_all.corr()[['Age']].sort_values(by='Age',ascending=False), vmin=-1, vmax=1, annot=True, cmap='BrBG')\n",
    "heatmap.set_title('Features Correlating with Age', fontdict={'fontsize':18}, pad=16);"
   ]
  },
  {
   "cell_type": "markdown",
   "id": "75a5d5fd",
   "metadata": {
    "papermill": {
     "duration": 0.020731,
     "end_time": "2022-07-12T15:23:35.255807",
     "exception": false,
     "start_time": "2022-07-12T15:23:35.235076",
     "status": "completed"
    },
    "tags": []
   },
   "source": [
    "From here we can clearly assume that Pclass and Age are highly related.Therefore we will impute the missing value by median of the corresponding Pclass.\n",
    "Also you must note that the median value will also be dependent on the Sex as the corr. only considers numerical features\n"
   ]
  },
  {
   "cell_type": "code",
   "execution_count": 22,
   "id": "0c9e90ea",
   "metadata": {
    "execution": {
     "iopub.execute_input": "2022-07-12T15:23:35.297405Z",
     "iopub.status.busy": "2022-07-12T15:23:35.296764Z",
     "iopub.status.idle": "2022-07-12T15:23:35.308770Z",
     "shell.execute_reply": "2022-07-12T15:23:35.307429Z"
    },
    "papermill": {
     "duration": 0.03537,
     "end_time": "2022-07-12T15:23:35.311604",
     "exception": false,
     "start_time": "2022-07-12T15:23:35.276234",
     "status": "completed"
    },
    "tags": []
   },
   "outputs": [
    {
     "data": {
      "text/plain": [
       "Pclass  Sex   \n",
       "1       female    36.0\n",
       "        male      42.0\n",
       "2       female    28.0\n",
       "        male      29.5\n",
       "3       female    22.0\n",
       "        male      25.0\n",
       "Name: Age, dtype: float64"
      ]
     },
     "execution_count": 22,
     "metadata": {},
     "output_type": "execute_result"
    }
   ],
   "source": [
    "df_all.groupby(['Pclass','Sex'])['Age'].median()"
   ]
  },
  {
   "cell_type": "code",
   "execution_count": 23,
   "id": "e414cdca",
   "metadata": {
    "execution": {
     "iopub.execute_input": "2022-07-12T15:23:35.354816Z",
     "iopub.status.busy": "2022-07-12T15:23:35.353569Z",
     "iopub.status.idle": "2022-07-12T15:23:35.370229Z",
     "shell.execute_reply": "2022-07-12T15:23:35.369016Z"
    },
    "papermill": {
     "duration": 0.041448,
     "end_time": "2022-07-12T15:23:35.373711",
     "exception": false,
     "start_time": "2022-07-12T15:23:35.332263",
     "status": "completed"
    },
    "tags": []
   },
   "outputs": [],
   "source": [
    "df_all['Age']=df_all.groupby(['Pclass','Sex'])['Age'].apply(lambda x: x.fillna(x.median()))"
   ]
  },
  {
   "cell_type": "markdown",
   "id": "3769682f",
   "metadata": {
    "papermill": {
     "duration": 0.018684,
     "end_time": "2022-07-12T15:23:35.412176",
     "exception": false,
     "start_time": "2022-07-12T15:23:35.393492",
     "status": "completed"
    },
    "tags": []
   },
   "source": [
    "Now we have imputed the Age, let's crosscheck. We have Fare,Cabin and Embarked left out."
   ]
  },
  {
   "cell_type": "code",
   "execution_count": 24,
   "id": "07c0971e",
   "metadata": {
    "execution": {
     "iopub.execute_input": "2022-07-12T15:23:35.455558Z",
     "iopub.status.busy": "2022-07-12T15:23:35.453914Z",
     "iopub.status.idle": "2022-07-12T15:23:35.466933Z",
     "shell.execute_reply": "2022-07-12T15:23:35.465615Z"
    },
    "papermill": {
     "duration": 0.038234,
     "end_time": "2022-07-12T15:23:35.470253",
     "exception": false,
     "start_time": "2022-07-12T15:23:35.432019",
     "status": "completed"
    },
    "tags": []
   },
   "outputs": [
    {
     "data": {
      "text/plain": [
       "PassengerId       0\n",
       "Survived        418\n",
       "Pclass            0\n",
       "Name              0\n",
       "Sex               0\n",
       "Age               0\n",
       "SibSp             0\n",
       "Parch             0\n",
       "Ticket            0\n",
       "Fare              1\n",
       "Cabin          1014\n",
       "Embarked          2\n",
       "dtype: int64"
      ]
     },
     "execution_count": 24,
     "metadata": {},
     "output_type": "execute_result"
    }
   ],
   "source": [
    "df_all.isnull().sum()"
   ]
  },
  {
   "cell_type": "markdown",
   "id": "212604df",
   "metadata": {
    "papermill": {
     "duration": 0.019088,
     "end_time": "2022-07-12T15:23:35.509711",
     "exception": false,
     "start_time": "2022-07-12T15:23:35.490623",
     "status": "completed"
    },
    "tags": []
   },
   "source": [
    "**1.2.2 Embarked**"
   ]
  },
  {
   "cell_type": "code",
   "execution_count": 25,
   "id": "3c15cebc",
   "metadata": {
    "execution": {
     "iopub.execute_input": "2022-07-12T15:23:35.552674Z",
     "iopub.status.busy": "2022-07-12T15:23:35.552164Z",
     "iopub.status.idle": "2022-07-12T15:23:35.570906Z",
     "shell.execute_reply": "2022-07-12T15:23:35.569683Z"
    },
    "papermill": {
     "duration": 0.043263,
     "end_time": "2022-07-12T15:23:35.573592",
     "exception": false,
     "start_time": "2022-07-12T15:23:35.530329",
     "status": "completed"
    },
    "tags": []
   },
   "outputs": [
    {
     "data": {
      "text/html": [
       "<div>\n",
       "<style scoped>\n",
       "    .dataframe tbody tr th:only-of-type {\n",
       "        vertical-align: middle;\n",
       "    }\n",
       "\n",
       "    .dataframe tbody tr th {\n",
       "        vertical-align: top;\n",
       "    }\n",
       "\n",
       "    .dataframe thead th {\n",
       "        text-align: right;\n",
       "    }\n",
       "</style>\n",
       "<table border=\"1\" class=\"dataframe\">\n",
       "  <thead>\n",
       "    <tr style=\"text-align: right;\">\n",
       "      <th></th>\n",
       "      <th>PassengerId</th>\n",
       "      <th>Survived</th>\n",
       "      <th>Pclass</th>\n",
       "      <th>Name</th>\n",
       "      <th>Sex</th>\n",
       "      <th>Age</th>\n",
       "      <th>SibSp</th>\n",
       "      <th>Parch</th>\n",
       "      <th>Ticket</th>\n",
       "      <th>Fare</th>\n",
       "      <th>Cabin</th>\n",
       "      <th>Embarked</th>\n",
       "    </tr>\n",
       "  </thead>\n",
       "  <tbody>\n",
       "    <tr>\n",
       "      <th>61</th>\n",
       "      <td>62</td>\n",
       "      <td>1.0</td>\n",
       "      <td>1</td>\n",
       "      <td>Icard, Miss. Amelie</td>\n",
       "      <td>female</td>\n",
       "      <td>38.0</td>\n",
       "      <td>0</td>\n",
       "      <td>0</td>\n",
       "      <td>113572</td>\n",
       "      <td>80.0</td>\n",
       "      <td>B28</td>\n",
       "      <td>NaN</td>\n",
       "    </tr>\n",
       "    <tr>\n",
       "      <th>829</th>\n",
       "      <td>830</td>\n",
       "      <td>1.0</td>\n",
       "      <td>1</td>\n",
       "      <td>Stone, Mrs. George Nelson (Martha Evelyn)</td>\n",
       "      <td>female</td>\n",
       "      <td>62.0</td>\n",
       "      <td>0</td>\n",
       "      <td>0</td>\n",
       "      <td>113572</td>\n",
       "      <td>80.0</td>\n",
       "      <td>B28</td>\n",
       "      <td>NaN</td>\n",
       "    </tr>\n",
       "  </tbody>\n",
       "</table>\n",
       "</div>"
      ],
      "text/plain": [
       "     PassengerId  Survived  Pclass                                       Name  \\\n",
       "61            62       1.0       1                        Icard, Miss. Amelie   \n",
       "829          830       1.0       1  Stone, Mrs. George Nelson (Martha Evelyn)   \n",
       "\n",
       "        Sex   Age  SibSp  Parch  Ticket  Fare Cabin Embarked  \n",
       "61   female  38.0      0      0  113572  80.0   B28      NaN  \n",
       "829  female  62.0      0      0  113572  80.0   B28      NaN  "
      ]
     },
     "execution_count": 25,
     "metadata": {},
     "output_type": "execute_result"
    }
   ],
   "source": [
    "df_all[df_all.Embarked.isnull()]"
   ]
  },
  {
   "cell_type": "markdown",
   "id": "f7f776d1",
   "metadata": {
    "papermill": {
     "duration": 0.019525,
     "end_time": "2022-07-12T15:23:35.613173",
     "exception": false,
     "start_time": "2022-07-12T15:23:35.593648",
     "status": "completed"
    },
    "tags": []
   },
   "source": [
    "https://www.encyclopedia-titanica.org/titanic-survivor/amelia-icard.html\n",
    "If you refer to this article, we can clearly infer that both of these survivors boarded from Southampton    "
   ]
  },
  {
   "cell_type": "code",
   "execution_count": 26,
   "id": "7dc0bf67",
   "metadata": {
    "execution": {
     "iopub.execute_input": "2022-07-12T15:23:35.657580Z",
     "iopub.status.busy": "2022-07-12T15:23:35.656857Z",
     "iopub.status.idle": "2022-07-12T15:23:35.666880Z",
     "shell.execute_reply": "2022-07-12T15:23:35.665534Z"
    },
    "papermill": {
     "duration": 0.034618,
     "end_time": "2022-07-12T15:23:35.669725",
     "exception": false,
     "start_time": "2022-07-12T15:23:35.635107",
     "status": "completed"
    },
    "tags": []
   },
   "outputs": [
    {
     "data": {
      "text/plain": [
       "0       S\n",
       "1       C\n",
       "2       S\n",
       "3       S\n",
       "4       S\n",
       "       ..\n",
       "1304    S\n",
       "1305    C\n",
       "1306    S\n",
       "1307    S\n",
       "1308    C\n",
       "Name: Embarked, Length: 1309, dtype: object"
      ]
     },
     "execution_count": 26,
     "metadata": {},
     "output_type": "execute_result"
    }
   ],
   "source": [
    "df_all.Embarked.fillna('S')"
   ]
  },
  {
   "cell_type": "markdown",
   "id": "f83a32f8",
   "metadata": {
    "papermill": {
     "duration": 0.02444,
     "end_time": "2022-07-12T15:23:35.721416",
     "exception": false,
     "start_time": "2022-07-12T15:23:35.696976",
     "status": "completed"
    },
    "tags": []
   },
   "source": [
    "**1.2.3 Fare**\n",
    "\n",
    "We will use the same technique as before and find out the correlations."
   ]
  },
  {
   "cell_type": "code",
   "execution_count": 27,
   "id": "61e7f483",
   "metadata": {
    "execution": {
     "iopub.execute_input": "2022-07-12T15:23:35.775382Z",
     "iopub.status.busy": "2022-07-12T15:23:35.774676Z",
     "iopub.status.idle": "2022-07-12T15:23:36.038421Z",
     "shell.execute_reply": "2022-07-12T15:23:36.037012Z"
    },
    "papermill": {
     "duration": 0.292902,
     "end_time": "2022-07-12T15:23:36.041001",
     "exception": false,
     "start_time": "2022-07-12T15:23:35.748099",
     "status": "completed"
    },
    "tags": []
   },
   "outputs": [
    {
     "data": {
      "image/png": "[encoded data removed]",
      "text/plain": [
       "<Figure size 576x864 with 2 Axes>"
      ]
     },
     "metadata": {},
     "output_type": "display_data"
    }
   ],
   "source": [
    "plt.figure(figsize=(8, 12))\n",
    "heatmap = sns.heatmap(df_all.corr()[['Fare']].sort_values(by='Fare',ascending=False), vmin=-1, vmax=1, annot=True, cmap='BrBG')\n",
    "heatmap.set_title('Features Correlating with Fare', fontdict={'fontsize':18}, pad=16);"
   ]
  },
  {
   "cell_type": "markdown",
   "id": "7b6d2863",
   "metadata": {
    "papermill": {
     "duration": 0.021429,
     "end_time": "2022-07-12T15:23:36.083409",
     "exception": false,
     "start_time": "2022-07-12T15:23:36.061980",
     "status": "completed"
    },
    "tags": []
   },
   "source": [
    "We can infer that Fare is highly dependent on the Pclass & Age. Also one should not forget that Embarked and sex are equally important."
   ]
  },
  {
   "cell_type": "code",
   "execution_count": 28,
   "id": "846f6d54",
   "metadata": {
    "execution": {
     "iopub.execute_input": "2022-07-12T15:23:36.129056Z",
     "iopub.status.busy": "2022-07-12T15:23:36.128593Z",
     "iopub.status.idle": "2022-07-12T15:23:36.147411Z",
     "shell.execute_reply": "2022-07-12T15:23:36.146267Z"
    },
    "papermill": {
     "duration": 0.04444,
     "end_time": "2022-07-12T15:23:36.149814",
     "exception": false,
     "start_time": "2022-07-12T15:23:36.105374",
     "status": "completed"
    },
    "tags": []
   },
   "outputs": [
    {
     "data": {
      "text/html": [
       "<div>\n",
       "<style scoped>\n",
       "    .dataframe tbody tr th:only-of-type {\n",
       "        vertical-align: middle;\n",
       "    }\n",
       "\n",
       "    .dataframe tbody tr th {\n",
       "        vertical-align: top;\n",
       "    }\n",
       "\n",
       "    .dataframe thead th {\n",
       "        text-align: right;\n",
       "    }\n",
       "</style>\n",
       "<table border=\"1\" class=\"dataframe\">\n",
       "  <thead>\n",
       "    <tr style=\"text-align: right;\">\n",
       "      <th></th>\n",
       "      <th>PassengerId</th>\n",
       "      <th>Survived</th>\n",
       "      <th>Pclass</th>\n",
       "      <th>Name</th>\n",
       "      <th>Sex</th>\n",
       "      <th>Age</th>\n",
       "      <th>SibSp</th>\n",
       "      <th>Parch</th>\n",
       "      <th>Ticket</th>\n",
       "      <th>Fare</th>\n",
       "      <th>Cabin</th>\n",
       "      <th>Embarked</th>\n",
       "    </tr>\n",
       "  </thead>\n",
       "  <tbody>\n",
       "    <tr>\n",
       "      <th>1043</th>\n",
       "      <td>1044</td>\n",
       "      <td>NaN</td>\n",
       "      <td>3</td>\n",
       "      <td>Storey, Mr. Thomas</td>\n",
       "      <td>male</td>\n",
       "      <td>60.5</td>\n",
       "      <td>0</td>\n",
       "      <td>0</td>\n",
       "      <td>3701</td>\n",
       "      <td>NaN</td>\n",
       "      <td>NaN</td>\n",
       "      <td>S</td>\n",
       "    </tr>\n",
       "  </tbody>\n",
       "</table>\n",
       "</div>"
      ],
      "text/plain": [
       "      PassengerId  Survived  Pclass                Name   Sex   Age  SibSp  \\\n",
       "1043         1044       NaN       3  Storey, Mr. Thomas  male  60.5      0   \n",
       "\n",
       "      Parch Ticket  Fare Cabin Embarked  \n",
       "1043      0   3701   NaN   NaN        S  "
      ]
     },
     "execution_count": 28,
     "metadata": {},
     "output_type": "execute_result"
    }
   ],
   "source": [
    "df_all[df_all.Fare.isnull()]"
   ]
  },
  {
   "cell_type": "code",
   "execution_count": 29,
   "id": "70cfe38a",
   "metadata": {
    "execution": {
     "iopub.execute_input": "2022-07-12T15:23:36.194178Z",
     "iopub.status.busy": "2022-07-12T15:23:36.193630Z",
     "iopub.status.idle": "2022-07-12T15:23:36.214667Z",
     "shell.execute_reply": "2022-07-12T15:23:36.213423Z"
    },
    "papermill": {
     "duration": 0.047132,
     "end_time": "2022-07-12T15:23:36.217306",
     "exception": false,
     "start_time": "2022-07-12T15:23:36.170174",
     "status": "completed"
    },
    "tags": []
   },
   "outputs": [
    {
     "data": {
      "text/plain": [
       "Pclass  Sex     Age   Embarked\n",
       "1       female  2.0   S           151.5500\n",
       "                14.0  S           120.0000\n",
       "                15.0  S           211.3375\n",
       "                16.0  C            57.9792\n",
       "                      S            62.9500\n",
       "                                    ...   \n",
       "3       male    60.5  S                NaN\n",
       "                61.0  S             6.2375\n",
       "                65.0  Q             7.7500\n",
       "                70.5  Q             7.7500\n",
       "                74.0  S             7.7750\n",
       "Name: Fare, Length: 474, dtype: float64"
      ]
     },
     "execution_count": 29,
     "metadata": {},
     "output_type": "execute_result"
    }
   ],
   "source": [
    "df_all.groupby(['Pclass','Sex','Age','Embarked'])['Fare'].mean()"
   ]
  },
  {
   "cell_type": "markdown",
   "id": "3ff81adb",
   "metadata": {
    "papermill": {
     "duration": 0.019794,
     "end_time": "2022-07-12T15:23:36.258424",
     "exception": false,
     "start_time": "2022-07-12T15:23:36.238630",
     "status": "completed"
    },
    "tags": []
   },
   "source": [
    "We should safely fill this with 6.2375"
   ]
  },
  {
   "cell_type": "code",
   "execution_count": 30,
   "id": "5ea6dac0",
   "metadata": {
    "execution": {
     "iopub.execute_input": "2022-07-12T15:23:36.304275Z",
     "iopub.status.busy": "2022-07-12T15:23:36.303419Z",
     "iopub.status.idle": "2022-07-12T15:23:36.314979Z",
     "shell.execute_reply": "2022-07-12T15:23:36.313856Z"
    },
    "papermill": {
     "duration": 0.039099,
     "end_time": "2022-07-12T15:23:36.317566",
     "exception": false,
     "start_time": "2022-07-12T15:23:36.278467",
     "status": "completed"
    },
    "tags": []
   },
   "outputs": [
    {
     "data": {
      "text/plain": [
       "0         7.2500\n",
       "1        71.2833\n",
       "2         7.9250\n",
       "3        53.1000\n",
       "4         8.0500\n",
       "          ...   \n",
       "1304      8.0500\n",
       "1305    108.9000\n",
       "1306      7.2500\n",
       "1307      8.0500\n",
       "1308     22.3583\n",
       "Name: Fare, Length: 1309, dtype: float64"
      ]
     },
     "execution_count": 30,
     "metadata": {},
     "output_type": "execute_result"
    }
   ],
   "source": [
    "df_all.Fare.fillna(6.2375)"
   ]
  }
 ],
 "metadata": {
  "kernelspec": {
   "display_name": "Python 3",
   "language": "python",
   "name": "python3"
  },
  "language_info": {
   "codemirror_mode": {
    "name": "ipython",
    "version": 3
   },
   "file_extension": ".py",
   "mimetype": "text/x-python",
   "name": "python",
   "nbconvert_exporter": "python",
   "pygments_lexer": "ipython3",
   "version": "3.7.12"
  },
  "papermill": {
   "default_parameters": {},
   "duration": 21.010551,
   "end_time": "2022-07-12T15:23:37.364676",
   "environment_variables": {},
   "exception": null,
   "input_path": "__notebook__.ipynb",
   "output_path": "__notebook__.ipynb",
   "parameters": {},
   "start_time": "2022-07-12T15:23:16.354125",
   "version": "2.3.4"
  }
 },
 "nbformat": 4,
 "nbformat_minor": 5
}

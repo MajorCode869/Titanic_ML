{
 "cells": [
  {
   "cell_type": "code",
   "execution_count": 1,
   "id": "43edf626",
   "metadata": {
    "_cell_guid": "b1076dfc-b9ad-4769-8c92-a6c4dae69d19",
    "_uuid": "8f2839f25d086af736a60e9eeb907d3b93b6e0e5",
    "execution": {
     "iopub.execute_input": "2022-07-13T12:06:01.305704Z",
     "iopub.status.busy": "2022-07-13T12:06:01.304596Z",
     "iopub.status.idle": "2022-07-13T12:06:01.324680Z",
     "shell.execute_reply": "2022-07-13T12:06:01.323352Z"
    },
    "papermill": {
     "duration": 0.054345,
     "end_time": "2022-07-13T12:06:01.327758",
     "exception": false,
     "start_time": "2022-07-13T12:06:01.273413",
     "status": "completed"
    },
    "tags": []
   },
   "outputs": [
    {
     "name": "stdout",
     "output_type": "stream",
     "text": [
      "/kaggle/input/titanic/train.csv\n",
      "/kaggle/input/titanic/test.csv\n",
      "/kaggle/input/titanic/gender_submission.csv\n"
     ]
    }
   ],
   "source": [
    "# This Python 3 environment comes with many helpful analytics libraries installed\n",
    "# It is defined by the kaggle/python Docker image: https://github.com/kaggle/docker-python\n",
    "# For example, here's several helpful packages to load\n",
    "\n",
    "import numpy as np # linear algebra\n",
    "import pandas as pd # data processing, CSV file I/O (e.g. pd.read_csv)\n",
    "\n",
    "# Input data files are available in the read-only \"../input/\" directory\n",
    "# For example, running this (by clicking run or pressing Shift+Enter) will list all files under the input directory\n",
    "\n",
    "import os\n",
    "for dirname, _, filenames in os.walk('/kaggle/input'):\n",
    "    for filename in filenames:\n",
    "        print(os.path.join(dirname, filename))\n",
    "\n",
    "# You can write up to 20GB to the current directory (/kaggle/working/) that gets preserved as output when you create a version using \"Save & Run All\" \n",
    "# You can also write temporary files to /kaggle/temp/, but they won't be saved outside of the current session"
   ]
  },
  {
   "cell_type": "code",
   "execution_count": 2,
   "id": "c5050f57",
   "metadata": {
    "execution": {
     "iopub.execute_input": "2022-07-13T12:06:01.381898Z",
     "iopub.status.busy": "2022-07-13T12:06:01.381088Z",
     "iopub.status.idle": "2022-07-13T12:06:02.871030Z",
     "shell.execute_reply": "2022-07-13T12:06:02.869709Z"
    },
    "papermill": {
     "duration": 1.519493,
     "end_time": "2022-07-13T12:06:02.873965",
     "exception": false,
     "start_time": "2022-07-13T12:06:01.354472",
     "status": "completed"
    },
    "tags": []
   },
   "outputs": [],
   "source": [
    "import numpy as np\n",
    "import pandas as pd\n",
    "import matplotlib.pyplot as plt\n",
    "import seaborn as sns\n",
    "%matplotlib inline\n",
    "pd.set_option('display.max_columns', None)\n",
    "sns.set(style='whitegrid')\n",
    "\n",
    "from sklearn.experimental import enable_iterative_imputer\n",
    "from sklearn.ensemble import RandomForestClassifier\n",
    "from sklearn.preprocessing import OneHotEncoder, LabelEncoder, StandardScaler\n",
    "from sklearn.impute import SimpleImputer, IterativeImputer\n",
    "from sklearn.metrics import roc_curve, auc,confusion_matrix,accuracy_score\n",
    "from sklearn.model_selection import cross_val_score, StratifiedKFold,train_test_split,KFold,cross_val_predict\n",
    "from sklearn.pipeline import Pipeline\n",
    "import pylab\n",
    "import scipy.stats as stats\n",
    "SEED=42"
   ]
  },
  {
   "cell_type": "code",
   "execution_count": 3,
   "id": "a3ce2cb0",
   "metadata": {
    "execution": {
     "iopub.execute_input": "2022-07-13T12:06:02.925361Z",
     "iopub.status.busy": "2022-07-13T12:06:02.924956Z",
     "iopub.status.idle": "2022-07-13T12:06:02.971086Z",
     "shell.execute_reply": "2022-07-13T12:06:02.969707Z"
    },
    "papermill": {
     "duration": 0.075202,
     "end_time": "2022-07-13T12:06:02.974199",
     "exception": false,
     "start_time": "2022-07-13T12:06:02.898997",
     "status": "completed"
    },
    "tags": []
   },
   "outputs": [],
   "source": [
    "df_train=pd.read_csv('../input/titanic/train.csv')\n",
    "df_test=pd.read_csv('../input/titanic/test.csv')\n",
    "df_all=pd.concat([df_train,df_test],axis=0)\n",
    "\n",
    "submission_df=pd.DataFrame(columns=['PassengerId','Survived'])\n",
    "submission_df['PassengerId']=df_test['PassengerId']"
   ]
  },
  {
   "cell_type": "code",
   "execution_count": 4,
   "id": "9ff619da",
   "metadata": {
    "execution": {
     "iopub.execute_input": "2022-07-13T12:06:03.027527Z",
     "iopub.status.busy": "2022-07-13T12:06:03.027122Z",
     "iopub.status.idle": "2022-07-13T12:06:03.061650Z",
     "shell.execute_reply": "2022-07-13T12:06:03.060228Z"
    },
    "papermill": {
     "duration": 0.06449,
     "end_time": "2022-07-13T12:06:03.064388",
     "exception": false,
     "start_time": "2022-07-13T12:06:02.999898",
     "status": "completed"
    },
    "tags": []
   },
   "outputs": [
    {
     "data": {
      "text/html": [
       "<div>\n",
       "<style scoped>\n",
       "    .dataframe tbody tr th:only-of-type {\n",
       "        vertical-align: middle;\n",
       "    }\n",
       "\n",
       "    .dataframe tbody tr th {\n",
       "        vertical-align: top;\n",
       "    }\n",
       "\n",
       "    .dataframe thead th {\n",
       "        text-align: right;\n",
       "    }\n",
       "</style>\n",
       "<table border=\"1\" class=\"dataframe\">\n",
       "  <thead>\n",
       "    <tr style=\"text-align: right;\">\n",
       "      <th></th>\n",
       "      <th>PassengerId</th>\n",
       "      <th>Survived</th>\n",
       "      <th>Pclass</th>\n",
       "      <th>Name</th>\n",
       "      <th>Sex</th>\n",
       "      <th>Age</th>\n",
       "      <th>SibSp</th>\n",
       "      <th>Parch</th>\n",
       "      <th>Ticket</th>\n",
       "      <th>Fare</th>\n",
       "      <th>Cabin</th>\n",
       "      <th>Embarked</th>\n",
       "    </tr>\n",
       "  </thead>\n",
       "  <tbody>\n",
       "    <tr>\n",
       "      <th>0</th>\n",
       "      <td>1</td>\n",
       "      <td>0.0</td>\n",
       "      <td>3</td>\n",
       "      <td>Braund, Mr. Owen Harris</td>\n",
       "      <td>male</td>\n",
       "      <td>22.0</td>\n",
       "      <td>1</td>\n",
       "      <td>0</td>\n",
       "      <td>A/5 21171</td>\n",
       "      <td>7.2500</td>\n",
       "      <td>NaN</td>\n",
       "      <td>S</td>\n",
       "    </tr>\n",
       "    <tr>\n",
       "      <th>1</th>\n",
       "      <td>2</td>\n",
       "      <td>1.0</td>\n",
       "      <td>1</td>\n",
       "      <td>Cumings, Mrs. John Bradley (Florence Briggs Th...</td>\n",
       "      <td>female</td>\n",
       "      <td>38.0</td>\n",
       "      <td>1</td>\n",
       "      <td>0</td>\n",
       "      <td>PC 17599</td>\n",
       "      <td>71.2833</td>\n",
       "      <td>C85</td>\n",
       "      <td>C</td>\n",
       "    </tr>\n",
       "    <tr>\n",
       "      <th>2</th>\n",
       "      <td>3</td>\n",
       "      <td>1.0</td>\n",
       "      <td>3</td>\n",
       "      <td>Heikkinen, Miss. Laina</td>\n",
       "      <td>female</td>\n",
       "      <td>26.0</td>\n",
       "      <td>0</td>\n",
       "      <td>0</td>\n",
       "      <td>STON/O2. 3101282</td>\n",
       "      <td>7.9250</td>\n",
       "      <td>NaN</td>\n",
       "      <td>S</td>\n",
       "    </tr>\n",
       "    <tr>\n",
       "      <th>3</th>\n",
       "      <td>4</td>\n",
       "      <td>1.0</td>\n",
       "      <td>1</td>\n",
       "      <td>Futrelle, Mrs. Jacques Heath (Lily May Peel)</td>\n",
       "      <td>female</td>\n",
       "      <td>35.0</td>\n",
       "      <td>1</td>\n",
       "      <td>0</td>\n",
       "      <td>113803</td>\n",
       "      <td>53.1000</td>\n",
       "      <td>C123</td>\n",
       "      <td>S</td>\n",
       "    </tr>\n",
       "    <tr>\n",
       "      <th>4</th>\n",
       "      <td>5</td>\n",
       "      <td>0.0</td>\n",
       "      <td>3</td>\n",
       "      <td>Allen, Mr. William Henry</td>\n",
       "      <td>male</td>\n",
       "      <td>35.0</td>\n",
       "      <td>0</td>\n",
       "      <td>0</td>\n",
       "      <td>373450</td>\n",
       "      <td>8.0500</td>\n",
       "      <td>NaN</td>\n",
       "      <td>S</td>\n",
       "    </tr>\n",
       "    <tr>\n",
       "      <th>...</th>\n",
       "      <td>...</td>\n",
       "      <td>...</td>\n",
       "      <td>...</td>\n",
       "      <td>...</td>\n",
       "      <td>...</td>\n",
       "      <td>...</td>\n",
       "      <td>...</td>\n",
       "      <td>...</td>\n",
       "      <td>...</td>\n",
       "      <td>...</td>\n",
       "      <td>...</td>\n",
       "      <td>...</td>\n",
       "    </tr>\n",
       "    <tr>\n",
       "      <th>1304</th>\n",
       "      <td>1305</td>\n",
       "      <td>NaN</td>\n",
       "      <td>3</td>\n",
       "      <td>Spector, Mr. Woolf</td>\n",
       "      <td>male</td>\n",
       "      <td>NaN</td>\n",
       "      <td>0</td>\n",
       "      <td>0</td>\n",
       "      <td>A.5. 3236</td>\n",
       "      <td>8.0500</td>\n",
       "      <td>NaN</td>\n",
       "      <td>S</td>\n",
       "    </tr>\n",
       "    <tr>\n",
       "      <th>1305</th>\n",
       "      <td>1306</td>\n",
       "      <td>NaN</td>\n",
       "      <td>1</td>\n",
       "      <td>Oliva y Ocana, Dona. Fermina</td>\n",
       "      <td>female</td>\n",
       "      <td>39.0</td>\n",
       "      <td>0</td>\n",
       "      <td>0</td>\n",
       "      <td>PC 17758</td>\n",
       "      <td>108.9000</td>\n",
       "      <td>C105</td>\n",
       "      <td>C</td>\n",
       "    </tr>\n",
       "    <tr>\n",
       "      <th>1306</th>\n",
       "      <td>1307</td>\n",
       "      <td>NaN</td>\n",
       "      <td>3</td>\n",
       "      <td>Saether, Mr. Simon Sivertsen</td>\n",
       "      <td>male</td>\n",
       "      <td>38.5</td>\n",
       "      <td>0</td>\n",
       "      <td>0</td>\n",
       "      <td>SOTON/O.Q. 3101262</td>\n",
       "      <td>7.2500</td>\n",
       "      <td>NaN</td>\n",
       "      <td>S</td>\n",
       "    </tr>\n",
       "    <tr>\n",
       "      <th>1307</th>\n",
       "      <td>1308</td>\n",
       "      <td>NaN</td>\n",
       "      <td>3</td>\n",
       "      <td>Ware, Mr. Frederick</td>\n",
       "      <td>male</td>\n",
       "      <td>NaN</td>\n",
       "      <td>0</td>\n",
       "      <td>0</td>\n",
       "      <td>359309</td>\n",
       "      <td>8.0500</td>\n",
       "      <td>NaN</td>\n",
       "      <td>S</td>\n",
       "    </tr>\n",
       "    <tr>\n",
       "      <th>1308</th>\n",
       "      <td>1309</td>\n",
       "      <td>NaN</td>\n",
       "      <td>3</td>\n",
       "      <td>Peter, Master. Michael J</td>\n",
       "      <td>male</td>\n",
       "      <td>NaN</td>\n",
       "      <td>1</td>\n",
       "      <td>1</td>\n",
       "      <td>2668</td>\n",
       "      <td>22.3583</td>\n",
       "      <td>NaN</td>\n",
       "      <td>C</td>\n",
       "    </tr>\n",
       "  </tbody>\n",
       "</table>\n",
       "<p>1309 rows × 12 columns</p>\n",
       "</div>"
      ],
      "text/plain": [
       "      PassengerId  Survived  Pclass  \\\n",
       "0               1       0.0       3   \n",
       "1               2       1.0       1   \n",
       "2               3       1.0       3   \n",
       "3               4       1.0       1   \n",
       "4               5       0.0       3   \n",
       "...           ...       ...     ...   \n",
       "1304         1305       NaN       3   \n",
       "1305         1306       NaN       1   \n",
       "1306         1307       NaN       3   \n",
       "1307         1308       NaN       3   \n",
       "1308         1309       NaN       3   \n",
       "\n",
       "                                                   Name     Sex   Age  SibSp  \\\n",
       "0                               Braund, Mr. Owen Harris    male  22.0      1   \n",
       "1     Cumings, Mrs. John Bradley (Florence Briggs Th...  female  38.0      1   \n",
       "2                                Heikkinen, Miss. Laina  female  26.0      0   \n",
       "3          Futrelle, Mrs. Jacques Heath (Lily May Peel)  female  35.0      1   \n",
       "4                              Allen, Mr. William Henry    male  35.0      0   \n",
       "...                                                 ...     ...   ...    ...   \n",
       "1304                                 Spector, Mr. Woolf    male   NaN      0   \n",
       "1305                       Oliva y Ocana, Dona. Fermina  female  39.0      0   \n",
       "1306                       Saether, Mr. Simon Sivertsen    male  38.5      0   \n",
       "1307                                Ware, Mr. Frederick    male   NaN      0   \n",
       "1308                           Peter, Master. Michael J    male   NaN      1   \n",
       "\n",
       "      Parch              Ticket      Fare Cabin Embarked  \n",
       "0         0           A/5 21171    7.2500   NaN        S  \n",
       "1         0            PC 17599   71.2833   C85        C  \n",
       "2         0    STON/O2. 3101282    7.9250   NaN        S  \n",
       "3         0              113803   53.1000  C123        S  \n",
       "4         0              373450    8.0500   NaN        S  \n",
       "...     ...                 ...       ...   ...      ...  \n",
       "1304      0           A.5. 3236    8.0500   NaN        S  \n",
       "1305      0            PC 17758  108.9000  C105        C  \n",
       "1306      0  SOTON/O.Q. 3101262    7.2500   NaN        S  \n",
       "1307      0              359309    8.0500   NaN        S  \n",
       "1308      1                2668   22.3583   NaN        C  \n",
       "\n",
       "[1309 rows x 12 columns]"
      ]
     },
     "execution_count": 4,
     "metadata": {},
     "output_type": "execute_result"
    }
   ],
   "source": [
    "df_all.reset_index(drop=True,inplace=True)\n",
    "df_all"
   ]
  },
  {
   "cell_type": "markdown",
   "id": "c152df7d",
   "metadata": {
    "papermill": {
     "duration": 0.025311,
     "end_time": "2022-07-13T12:06:03.114994",
     "exception": false,
     "start_time": "2022-07-13T12:06:03.089683",
     "status": "completed"
    },
    "tags": []
   },
   "source": [
    "### 1.Now we will start basic EDA"
   ]
  },
  {
   "cell_type": "code",
   "execution_count": 5,
   "id": "1f5547eb",
   "metadata": {
    "execution": {
     "iopub.execute_input": "2022-07-13T12:06:03.168855Z",
     "iopub.status.busy": "2022-07-13T12:06:03.168010Z",
     "iopub.status.idle": "2022-07-13T12:06:03.177859Z",
     "shell.execute_reply": "2022-07-13T12:06:03.176025Z"
    },
    "papermill": {
     "duration": 0.040783,
     "end_time": "2022-07-13T12:06:03.181727",
     "exception": false,
     "start_time": "2022-07-13T12:06:03.140944",
     "status": "completed"
    },
    "tags": []
   },
   "outputs": [
    {
     "name": "stdout",
     "output_type": "stream",
     "text": [
      "Number of Training Examples = 891\n",
      "Number of Testing Examples = 418\n",
      "Columns of training data:  Index(['PassengerId', 'Survived', 'Pclass', 'Name', 'Sex', 'Age', 'SibSp',\n",
      "       'Parch', 'Ticket', 'Fare', 'Cabin', 'Embarked'],\n",
      "      dtype='object') Number of columns: 12\n",
      "Columns of testing data:  Index(['PassengerId', 'Pclass', 'Name', 'Sex', 'Age', 'SibSp', 'Parch',\n",
      "       'Ticket', 'Fare', 'Cabin', 'Embarked'],\n",
      "      dtype='object') Number of columns: 11\n",
      "The extra column in training data is {'Survived'}\n"
     ]
    }
   ],
   "source": [
    "print('Number of Training Examples =',df_train.shape[0])\n",
    "print('Number of Testing Examples =',df_test.shape[0])\n",
    "print('Columns of training data: ',df_train.columns,'Number of columns:',len(df_train.columns))\n",
    "print('Columns of testing data: ',df_test.columns,'Number of columns:',len(df_test.columns))\n",
    "print('The extra column in training data is',set(df_train.columns)-set(df_test.columns))"
   ]
  },
  {
   "cell_type": "markdown",
   "id": "5d74d523",
   "metadata": {
    "papermill": {
     "duration": 0.02546,
     "end_time": "2022-07-13T12:06:03.234038",
     "exception": false,
     "start_time": "2022-07-13T12:06:03.208578",
     "status": "completed"
    },
    "tags": []
   },
   "source": [
    "The target variable here is **Survived**"
   ]
  },
  {
   "cell_type": "code",
   "execution_count": 6,
   "id": "8ef7154a",
   "metadata": {
    "execution": {
     "iopub.execute_input": "2022-07-13T12:06:03.288240Z",
     "iopub.status.busy": "2022-07-13T12:06:03.287421Z",
     "iopub.status.idle": "2022-07-13T12:06:03.299742Z",
     "shell.execute_reply": "2022-07-13T12:06:03.297582Z"
    },
    "papermill": {
     "duration": 0.043816,
     "end_time": "2022-07-13T12:06:03.303463",
     "exception": false,
     "start_time": "2022-07-13T12:06:03.259647",
     "status": "completed"
    },
    "tags": []
   },
   "outputs": [
    {
     "name": "stdout",
     "output_type": "stream",
     "text": [
      "3    709\n",
      "1    323\n",
      "2    277\n",
      "Name: Pclass, dtype: int64\n",
      "S    914\n",
      "C    270\n",
      "Q    123\n",
      "Name: Embarked, dtype: int64\n"
     ]
    }
   ],
   "source": [
    "print(df_all.Pclass.value_counts())\n",
    "print(df_all.Embarked.value_counts())"
   ]
  },
  {
   "cell_type": "markdown",
   "id": "6f8e2d49",
   "metadata": {
    "papermill": {
     "duration": 0.025929,
     "end_time": "2022-07-13T12:06:03.356062",
     "exception": false,
     "start_time": "2022-07-13T12:06:03.330133",
     "status": "completed"
    },
    "tags": []
   },
   "source": [
    "#### 1.1 **Overview of features**\n",
    "* PassengerId has no effect on target var.\n",
    "* Survived is the target variable(0 or 1):\n",
    "    * 1=Survived\n",
    "    * 0=Deceased\n",
    "* Pclass( Passenger Class) is a categorical variable(ordinal) having 3 unique values (1,2,3):\n",
    "    * 1=Upper Class\n",
    "    * 2=Middle Class\n",
    "    * 3=Lower Class\n",
    "* Name, Sex and Age are self-explanatory\n",
    "* SibSp is the total number of the passengers' siblings and spouse\n",
    "* Parch is the total number of the passengers' parents and children\n",
    "* Ticket is the ticket number of the passenger\n",
    "* Fare is the passenger fare\n",
    "* Cabin is the cabin number of the passenger\n",
    "* Embarked is port of embarkation and it is a categorical feature which has 3 unique values (C, Q or S):\n",
    "     * S is Southampton\n",
    "     * C is Cherbourg\n",
    "     * Q is Queenstown"
   ]
  },
  {
   "cell_type": "code",
   "execution_count": 7,
   "id": "240b6587",
   "metadata": {
    "execution": {
     "iopub.execute_input": "2022-07-13T12:06:03.411111Z",
     "iopub.status.busy": "2022-07-13T12:06:03.410248Z",
     "iopub.status.idle": "2022-07-13T12:06:03.418575Z",
     "shell.execute_reply": "2022-07-13T12:06:03.417592Z"
    },
    "papermill": {
     "duration": 0.038732,
     "end_time": "2022-07-13T12:06:03.421243",
     "exception": false,
     "start_time": "2022-07-13T12:06:03.382511",
     "status": "completed"
    },
    "tags": []
   },
   "outputs": [],
   "source": [
    "def bar_plot(variable):\n",
    "    \"\"\"\n",
    "        input: variable ex: \"Sex\"\n",
    "        output: bar plot & value count\n",
    "    \"\"\"\n",
    "    # get feature\n",
    "    var = df_all[variable]\n",
    "    # count number of categorical variable(value/sample)\n",
    "    varValue = var.value_counts()\n",
    "    \n",
    "    # visualize\n",
    "    plt.figure(figsize = (9,3))\n",
    "    plt.bar(varValue.index, varValue)\n",
    "    plt.xticks(varValue.index, varValue.index.values)\n",
    "    plt.ylabel(\"Frequency\")\n",
    "    plt.title(variable)\n",
    "    plt.show()\n",
    "    print(\"{}: \\n {}\".format(variable,varValue))"
   ]
  },
  {
   "cell_type": "code",
   "execution_count": 8,
   "id": "a9bbe6f1",
   "metadata": {
    "execution": {
     "iopub.execute_input": "2022-07-13T12:06:03.476578Z",
     "iopub.status.busy": "2022-07-13T12:06:03.475649Z",
     "iopub.status.idle": "2022-07-13T12:06:04.477760Z",
     "shell.execute_reply": "2022-07-13T12:06:04.476372Z"
    },
    "papermill": {
     "duration": 1.034621,
     "end_time": "2022-07-13T12:06:04.481880",
     "exception": false,
     "start_time": "2022-07-13T12:06:03.447259",
     "status": "completed"
    },
    "tags": []
   },
   "outputs": [
    {
     "data": {
      "image/png": "[encoded data removed]",
      "text/plain": [
       "<Figure size 648x216 with 1 Axes>"
      ]
     },
     "metadata": {},
     "output_type": "display_data"
    },
    {
     "name": "stdout",
     "output_type": "stream",
     "text": [
      "Survived: \n",
      " 0.0    549\n",
      "1.0    342\n",
      "Name: Survived, dtype: int64\n"
     ]
    },
    {
     "data": {
      "image/png": "[encoded data removed]",
      "text/plain": [
       "<Figure size 648x216 with 1 Axes>"
      ]
     },
     "metadata": {},
     "output_type": "display_data"
    },
    {
     "name": "stdout",
     "output_type": "stream",
     "text": [
      "Sex: \n",
      " male      843\n",
      "female    466\n",
      "Name: Sex, dtype: int64\n"
     ]
    },
    {
     "data": {
      "image/png": "[encoded data removed]",
      "text/plain": [
       "<Figure size 648x216 with 1 Axes>"
      ]
     },
     "metadata": {},
     "output_type": "display_data"
    },
    {
     "name": "stdout",
     "output_type": "stream",
     "text": [
      "Pclass: \n",
      " 3    709\n",
      "1    323\n",
      "2    277\n",
      "Name: Pclass, dtype: int64\n"
     ]
    },
    {
     "data": {
      "image/png": "[encoded data removed]",
      "text/plain": [
       "<Figure size 648x216 with 1 Axes>"
      ]
     },
     "metadata": {},
     "output_type": "display_data"
    },
    {
     "name": "stdout",
     "output_type": "stream",
     "text": [
      "Embarked: \n",
      " S    914\n",
      "C    270\n",
      "Q    123\n",
      "Name: Embarked, dtype: int64\n"
     ]
    },
    {
     "data": {
      "image/png": "[encoded data removed]",
      "text/plain": [
       "<Figure size 648x216 with 1 Axes>"
      ]
     },
     "metadata": {},
     "output_type": "display_data"
    },
    {
     "name": "stdout",
     "output_type": "stream",
     "text": [
      "SibSp: \n",
      " 0    891\n",
      "1    319\n",
      "2     42\n",
      "4     22\n",
      "3     20\n",
      "8      9\n",
      "5      6\n",
      "Name: SibSp, dtype: int64\n"
     ]
    },
    {
     "data": {
      "image/png": "[encoded data removed]",
      "text/plain": [
       "<Figure size 648x216 with 1 Axes>"
      ]
     },
     "metadata": {},
     "output_type": "display_data"
    },
    {
     "name": "stdout",
     "output_type": "stream",
     "text": [
      "Parch: \n",
      " 0    1002\n",
      "1     170\n",
      "2     113\n",
      "3       8\n",
      "5       6\n",
      "4       6\n",
      "6       2\n",
      "9       2\n",
      "Name: Parch, dtype: int64\n"
     ]
    }
   ],
   "source": [
    "category1 = [\"Survived\",\"Sex\",\"Pclass\",\"Embarked\",\"SibSp\", \"Parch\"]\n",
    "for c in category1:\n",
    "    bar_plot(c)"
   ]
  },
  {
   "cell_type": "code",
   "execution_count": 9,
   "id": "40af473e",
   "metadata": {
    "execution": {
     "iopub.execute_input": "2022-07-13T12:06:04.541336Z",
     "iopub.status.busy": "2022-07-13T12:06:04.540482Z",
     "iopub.status.idle": "2022-07-13T12:06:04.554977Z",
     "shell.execute_reply": "2022-07-13T12:06:04.553230Z"
    },
    "papermill": {
     "duration": 0.046565,
     "end_time": "2022-07-13T12:06:04.557684",
     "exception": false,
     "start_time": "2022-07-13T12:06:04.511119",
     "status": "completed"
    },
    "tags": []
   },
   "outputs": [
    {
     "name": "stdout",
     "output_type": "stream",
     "text": [
      "C23 C25 C27        6\n",
      "G6                 5\n",
      "B57 B59 B63 B66    5\n",
      "C22 C26            4\n",
      "F33                4\n",
      "                  ..\n",
      "A14                1\n",
      "E63                1\n",
      "E12                1\n",
      "E38                1\n",
      "C105               1\n",
      "Name: Cabin, Length: 186, dtype: int64 \n",
      "\n",
      "Connolly, Miss. Kate                                   2\n",
      "Kelly, Mr. James                                       2\n",
      "Braund, Mr. Owen Harris                                1\n",
      "Johnson, Master. Harold Theodor                        1\n",
      "Gustafsson, Mr. Alfred Ossian                          1\n",
      "                                                      ..\n",
      "Carter, Miss. Lucile Polk                              1\n",
      "Silvey, Mr. William Baird                              1\n",
      "Kallio, Mr. Nikolai Erland                             1\n",
      "Louch, Mrs. Charles Alexander (Alice Adelaide Slow)    1\n",
      "Peter, Master. Michael J                               1\n",
      "Name: Name, Length: 1307, dtype: int64 \n",
      "\n",
      "CA. 2343        11\n",
      "CA 2144          8\n",
      "1601             8\n",
      "PC 17608         7\n",
      "S.O.C. 14879     7\n",
      "                ..\n",
      "113792           1\n",
      "36209            1\n",
      "323592           1\n",
      "315089           1\n",
      "359309           1\n",
      "Name: Ticket, Length: 929, dtype: int64 \n",
      "\n"
     ]
    }
   ],
   "source": [
    "\n",
    "\n",
    "category2 = [\"Cabin\", \"Name\", \"Ticket\"]\n",
    "for c in category2:\n",
    "    print(\"{} \\n\".format(df_all[c].value_counts()))\n",
    "\n"
   ]
  },
  {
   "cell_type": "code",
   "execution_count": 10,
   "id": "e2d4d5a6",
   "metadata": {
    "execution": {
     "iopub.execute_input": "2022-07-13T12:06:04.615053Z",
     "iopub.status.busy": "2022-07-13T12:06:04.614656Z",
     "iopub.status.idle": "2022-07-13T12:06:04.620551Z",
     "shell.execute_reply": "2022-07-13T12:06:04.619567Z"
    },
    "papermill": {
     "duration": 0.037382,
     "end_time": "2022-07-13T12:06:04.622838",
     "exception": false,
     "start_time": "2022-07-13T12:06:04.585456",
     "status": "completed"
    },
    "tags": []
   },
   "outputs": [],
   "source": [
    "def plot_hist(variable):\n",
    "    plt.figure(figsize = (9,3))\n",
    "    plt.hist(df_all[variable], bins = 50)\n",
    "    plt.xlabel(variable)\n",
    "    plt.ylabel(\"Frequency\")\n",
    "    plt.title(\"{} distribution with hist\".format(variable))\n",
    "    plt.show()\n",
    "    "
   ]
  },
  {
   "cell_type": "code",
   "execution_count": 11,
   "id": "e9f4ce01",
   "metadata": {
    "execution": {
     "iopub.execute_input": "2022-07-13T12:06:04.681724Z",
     "iopub.status.busy": "2022-07-13T12:06:04.680632Z",
     "iopub.status.idle": "2022-07-13T12:06:05.698734Z",
     "shell.execute_reply": "2022-07-13T12:06:05.697390Z"
    },
    "papermill": {
     "duration": 1.050663,
     "end_time": "2022-07-13T12:06:05.701500",
     "exception": false,
     "start_time": "2022-07-13T12:06:04.650837",
     "status": "completed"
    },
    "tags": []
   },
   "outputs": [
    {
     "data": {
      "image/png": "[encoded data removed]",
      "text/plain": [
       "<Figure size 648x216 with 1 Axes>"
      ]
     },
     "metadata": {},
     "output_type": "display_data"
    },
    {
     "data": {
      "image/png": "[encoded data removed]",
      "text/plain": [
       "<Figure size 648x216 with 1 Axes>"
      ]
     },
     "metadata": {},
     "output_type": "display_data"
    },
    {
     "data": {
      "image/png": "[encoded data removed]",
      "text/plain": [
       "<Figure size 648x216 with 1 Axes>"
      ]
     },
     "metadata": {},
     "output_type": "display_data"
    }
   ],
   "source": [
    "numericVar = [\"Fare\", \"Age\",\"PassengerId\"]\n",
    "for n in numericVar:\n",
    "    plot_hist(n)"
   ]
  },
  {
   "cell_type": "code",
   "execution_count": null,
   "id": "f0d53bef",
   "metadata": {
    "papermill": {
     "duration": 0.028893,
     "end_time": "2022-07-13T12:06:05.759584",
     "exception": false,
     "start_time": "2022-07-13T12:06:05.730691",
     "status": "completed"
    },
    "tags": []
   },
   "outputs": [],
   "source": []
  },
  {
   "cell_type": "markdown",
   "id": "eea927bd",
   "metadata": {
    "papermill": {
     "duration": 0.028397,
     "end_time": "2022-07-13T12:06:05.817297",
     "exception": false,
     "start_time": "2022-07-13T12:06:05.788900",
     "status": "completed"
    },
    "tags": []
   },
   "source": [
    "One can see the types of features"
   ]
  },
  {
   "cell_type": "markdown",
   "id": "55aa2bed",
   "metadata": {
    "papermill": {
     "duration": 0.028043,
     "end_time": "2022-07-13T12:06:05.874129",
     "exception": false,
     "start_time": "2022-07-13T12:06:05.846086",
     "status": "completed"
    },
    "tags": []
   },
   "source": []
  },
  {
   "cell_type": "code",
   "execution_count": 12,
   "id": "8b7fde70",
   "metadata": {
    "execution": {
     "iopub.execute_input": "2022-07-13T12:06:05.933916Z",
     "iopub.status.busy": "2022-07-13T12:06:05.933085Z",
     "iopub.status.idle": "2022-07-13T12:06:05.938959Z",
     "shell.execute_reply": "2022-07-13T12:06:05.938095Z"
    },
    "papermill": {
     "duration": 0.038545,
     "end_time": "2022-07-13T12:06:05.941191",
     "exception": false,
     "start_time": "2022-07-13T12:06:05.902646",
     "status": "completed"
    },
    "tags": []
   },
   "outputs": [],
   "source": [
    "\n",
    "features_obj=[]\n",
    "features_num=[]\n",
    "for features in df_all.columns:\n",
    "    if df_all[features].dtype=='object':\n",
    "        features_obj.append(features)\n",
    "    else:\n",
    "        features_num.append(features)\n"
   ]
  },
  {
   "cell_type": "markdown",
   "id": "3f3454a9",
   "metadata": {
    "papermill": {
     "duration": 0.027685,
     "end_time": "2022-07-13T12:06:05.996758",
     "exception": false,
     "start_time": "2022-07-13T12:06:05.969073",
     "status": "completed"
    },
    "tags": []
   },
   "source": [
    "**Here we have segregated the types of features**"
   ]
  },
  {
   "cell_type": "code",
   "execution_count": 13,
   "id": "d79c2016",
   "metadata": {
    "execution": {
     "iopub.execute_input": "2022-07-13T12:06:06.056963Z",
     "iopub.status.busy": "2022-07-13T12:06:06.056012Z",
     "iopub.status.idle": "2022-07-13T12:06:06.062539Z",
     "shell.execute_reply": "2022-07-13T12:06:06.061165Z"
    },
    "papermill": {
     "duration": 0.039757,
     "end_time": "2022-07-13T12:06:06.065215",
     "exception": false,
     "start_time": "2022-07-13T12:06:06.025458",
     "status": "completed"
    },
    "tags": []
   },
   "outputs": [
    {
     "name": "stdout",
     "output_type": "stream",
     "text": [
      "String Features : ['Name', 'Sex', 'Ticket', 'Cabin', 'Embarked']\n",
      "Numerical Features : ['PassengerId', 'Survived', 'Pclass', 'Age', 'SibSp', 'Parch', 'Fare']\n"
     ]
    }
   ],
   "source": [
    "print('String Features :', features_obj)\n",
    "print('Numerical Features :',features_num )"
   ]
  },
  {
   "cell_type": "code",
   "execution_count": 14,
   "id": "63af0a6b",
   "metadata": {
    "execution": {
     "iopub.execute_input": "2022-07-13T12:06:06.125100Z",
     "iopub.status.busy": "2022-07-13T12:06:06.124702Z",
     "iopub.status.idle": "2022-07-13T12:06:06.144584Z",
     "shell.execute_reply": "2022-07-13T12:06:06.143503Z"
    },
    "papermill": {
     "duration": 0.052602,
     "end_time": "2022-07-13T12:06:06.147043",
     "exception": false,
     "start_time": "2022-07-13T12:06:06.094441",
     "status": "completed"
    },
    "tags": []
   },
   "outputs": [
    {
     "data": {
      "text/html": [
       "<div>\n",
       "<style scoped>\n",
       "    .dataframe tbody tr th:only-of-type {\n",
       "        vertical-align: middle;\n",
       "    }\n",
       "\n",
       "    .dataframe tbody tr th {\n",
       "        vertical-align: top;\n",
       "    }\n",
       "\n",
       "    .dataframe thead th {\n",
       "        text-align: right;\n",
       "    }\n",
       "</style>\n",
       "<table border=\"1\" class=\"dataframe\">\n",
       "  <thead>\n",
       "    <tr style=\"text-align: right;\">\n",
       "      <th></th>\n",
       "      <th>PassengerId</th>\n",
       "      <th>Survived</th>\n",
       "      <th>Pclass</th>\n",
       "      <th>Age</th>\n",
       "      <th>SibSp</th>\n",
       "      <th>Parch</th>\n",
       "      <th>Fare</th>\n",
       "    </tr>\n",
       "  </thead>\n",
       "  <tbody>\n",
       "    <tr>\n",
       "      <th>PassengerId</th>\n",
       "      <td>1.000000</td>\n",
       "      <td>-0.005007</td>\n",
       "      <td>-0.038354</td>\n",
       "      <td>0.028814</td>\n",
       "      <td>-0.055224</td>\n",
       "      <td>0.008942</td>\n",
       "      <td>0.031428</td>\n",
       "    </tr>\n",
       "    <tr>\n",
       "      <th>Survived</th>\n",
       "      <td>-0.005007</td>\n",
       "      <td>1.000000</td>\n",
       "      <td>-0.338481</td>\n",
       "      <td>-0.077221</td>\n",
       "      <td>-0.035322</td>\n",
       "      <td>0.081629</td>\n",
       "      <td>0.257307</td>\n",
       "    </tr>\n",
       "    <tr>\n",
       "      <th>Pclass</th>\n",
       "      <td>-0.038354</td>\n",
       "      <td>-0.338481</td>\n",
       "      <td>1.000000</td>\n",
       "      <td>-0.408106</td>\n",
       "      <td>0.060832</td>\n",
       "      <td>0.018322</td>\n",
       "      <td>-0.558629</td>\n",
       "    </tr>\n",
       "    <tr>\n",
       "      <th>Age</th>\n",
       "      <td>0.028814</td>\n",
       "      <td>-0.077221</td>\n",
       "      <td>-0.408106</td>\n",
       "      <td>1.000000</td>\n",
       "      <td>-0.243699</td>\n",
       "      <td>-0.150917</td>\n",
       "      <td>0.178740</td>\n",
       "    </tr>\n",
       "    <tr>\n",
       "      <th>SibSp</th>\n",
       "      <td>-0.055224</td>\n",
       "      <td>-0.035322</td>\n",
       "      <td>0.060832</td>\n",
       "      <td>-0.243699</td>\n",
       "      <td>1.000000</td>\n",
       "      <td>0.373587</td>\n",
       "      <td>0.160238</td>\n",
       "    </tr>\n",
       "    <tr>\n",
       "      <th>Parch</th>\n",
       "      <td>0.008942</td>\n",
       "      <td>0.081629</td>\n",
       "      <td>0.018322</td>\n",
       "      <td>-0.150917</td>\n",
       "      <td>0.373587</td>\n",
       "      <td>1.000000</td>\n",
       "      <td>0.221539</td>\n",
       "    </tr>\n",
       "    <tr>\n",
       "      <th>Fare</th>\n",
       "      <td>0.031428</td>\n",
       "      <td>0.257307</td>\n",
       "      <td>-0.558629</td>\n",
       "      <td>0.178740</td>\n",
       "      <td>0.160238</td>\n",
       "      <td>0.221539</td>\n",
       "      <td>1.000000</td>\n",
       "    </tr>\n",
       "  </tbody>\n",
       "</table>\n",
       "</div>"
      ],
      "text/plain": [
       "             PassengerId  Survived    Pclass       Age     SibSp     Parch  \\\n",
       "PassengerId     1.000000 -0.005007 -0.038354  0.028814 -0.055224  0.008942   \n",
       "Survived       -0.005007  1.000000 -0.338481 -0.077221 -0.035322  0.081629   \n",
       "Pclass         -0.038354 -0.338481  1.000000 -0.408106  0.060832  0.018322   \n",
       "Age             0.028814 -0.077221 -0.408106  1.000000 -0.243699 -0.150917   \n",
       "SibSp          -0.055224 -0.035322  0.060832 -0.243699  1.000000  0.373587   \n",
       "Parch           0.008942  0.081629  0.018322 -0.150917  0.373587  1.000000   \n",
       "Fare            0.031428  0.257307 -0.558629  0.178740  0.160238  0.221539   \n",
       "\n",
       "                 Fare  \n",
       "PassengerId  0.031428  \n",
       "Survived     0.257307  \n",
       "Pclass      -0.558629  \n",
       "Age          0.178740  \n",
       "SibSp        0.160238  \n",
       "Parch        0.221539  \n",
       "Fare         1.000000  "
      ]
     },
     "execution_count": 14,
     "metadata": {},
     "output_type": "execute_result"
    }
   ],
   "source": [
    "df_all.corr()"
   ]
  },
  {
   "cell_type": "code",
   "execution_count": 15,
   "id": "e3e9d5e0",
   "metadata": {
    "execution": {
     "iopub.execute_input": "2022-07-13T12:06:06.206963Z",
     "iopub.status.busy": "2022-07-13T12:06:06.206306Z",
     "iopub.status.idle": "2022-07-13T12:06:06.227646Z",
     "shell.execute_reply": "2022-07-13T12:06:06.225990Z"
    },
    "papermill": {
     "duration": 0.054267,
     "end_time": "2022-07-13T12:06:06.230429",
     "exception": false,
     "start_time": "2022-07-13T12:06:06.176162",
     "status": "completed"
    },
    "tags": []
   },
   "outputs": [
    {
     "name": "stdout",
     "output_type": "stream",
     "text": [
      "<class 'pandas.core.frame.DataFrame'>\n",
      "RangeIndex: 1309 entries, 0 to 1308\n",
      "Data columns (total 12 columns):\n",
      " #   Column       Non-Null Count  Dtype  \n",
      "---  ------       --------------  -----  \n",
      " 0   PassengerId  1309 non-null   int64  \n",
      " 1   Survived     891 non-null    float64\n",
      " 2   Pclass       1309 non-null   int64  \n",
      " 3   Name         1309 non-null   object \n",
      " 4   Sex          1309 non-null   object \n",
      " 5   Age          1046 non-null   float64\n",
      " 6   SibSp        1309 non-null   int64  \n",
      " 7   Parch        1309 non-null   int64  \n",
      " 8   Ticket       1309 non-null   object \n",
      " 9   Fare         1308 non-null   float64\n",
      " 10  Cabin        295 non-null    object \n",
      " 11  Embarked     1307 non-null   object \n",
      "dtypes: float64(3), int64(4), object(5)\n",
      "memory usage: 122.8+ KB\n"
     ]
    }
   ],
   "source": [
    "df_all.info()"
   ]
  },
  {
   "cell_type": "markdown",
   "id": "3af699b8",
   "metadata": {
    "papermill": {
     "duration": 0.02915,
     "end_time": "2022-07-13T12:06:06.289990",
     "exception": false,
     "start_time": "2022-07-13T12:06:06.260840",
     "status": "completed"
    },
    "tags": []
   },
   "source": [
    "Do some univariate analysis before filling out/Tableau"
   ]
  },
  {
   "cell_type": "code",
   "execution_count": null,
   "id": "dbcde9f3",
   "metadata": {
    "papermill": {
     "duration": 0.028582,
     "end_time": "2022-07-13T12:06:06.347495",
     "exception": false,
     "start_time": "2022-07-13T12:06:06.318913",
     "status": "completed"
    },
    "tags": []
   },
   "outputs": [],
   "source": []
  },
  {
   "cell_type": "markdown",
   "id": "2a0a8e47",
   "metadata": {
    "papermill": {
     "duration": 0.028517,
     "end_time": "2022-07-13T12:06:06.404652",
     "exception": false,
     "start_time": "2022-07-13T12:06:06.376135",
     "status": "completed"
    },
    "tags": []
   },
   "source": [
    "**1.2 Missing Values**\n",
    "It is convenient to work on concatenated training and test set while dealing with missing values, otherwise filled data may overfit to training or test set samples. \n",
    "The count of missing values in Age, Embarked and Fare are smaller compared to total sample, but roughly 80% of the Cabin is missing. Missing values in **Age, Embarked and Fare** can be filled with *descriptive statistical measures* but that wouldn't work for Cabin.\n",
    "\n",
    "Studying correlations will help us a lot.\n"
   ]
  },
  {
   "cell_type": "code",
   "execution_count": 16,
   "id": "5c754da3",
   "metadata": {
    "execution": {
     "iopub.execute_input": "2022-07-13T12:06:06.466824Z",
     "iopub.status.busy": "2022-07-13T12:06:06.466083Z",
     "iopub.status.idle": "2022-07-13T12:06:06.478418Z",
     "shell.execute_reply": "2022-07-13T12:06:06.476876Z"
    },
    "papermill": {
     "duration": 0.046483,
     "end_time": "2022-07-13T12:06:06.481211",
     "exception": false,
     "start_time": "2022-07-13T12:06:06.434728",
     "status": "completed"
    },
    "tags": []
   },
   "outputs": [
    {
     "name": "stdout",
     "output_type": "stream",
     "text": [
      "PassengerId  percent missing value: 0.0\n",
      "Survived  percent missing value: 31.932773109243698\n",
      "Pclass  percent missing value: 0.0\n",
      "Name  percent missing value: 0.0\n",
      "Sex  percent missing value: 0.0\n",
      "Age  percent missing value: 20.091673032849503\n",
      "SibSp  percent missing value: 0.0\n",
      "Parch  percent missing value: 0.0\n",
      "Ticket  percent missing value: 0.0\n",
      "Fare  percent missing value: 0.07639419404125286\n",
      "Cabin  percent missing value: 77.46371275783041\n",
      "Embarked  percent missing value: 0.15278838808250572\n"
     ]
    }
   ],
   "source": [
    "for feature in df_all.columns:\n",
    "    print(feature,' percent missing value:',100*df_all[feature].isnull().sum()/df_all.shape[0])"
   ]
  },
  {
   "cell_type": "code",
   "execution_count": 17,
   "id": "2ac12e75",
   "metadata": {
    "execution": {
     "iopub.execute_input": "2022-07-13T12:06:06.542077Z",
     "iopub.status.busy": "2022-07-13T12:06:06.541634Z",
     "iopub.status.idle": "2022-07-13T12:06:07.140830Z",
     "shell.execute_reply": "2022-07-13T12:06:07.139267Z"
    },
    "papermill": {
     "duration": 0.632693,
     "end_time": "2022-07-13T12:06:07.143575",
     "exception": false,
     "start_time": "2022-07-13T12:06:06.510882",
     "status": "completed"
    },
    "tags": []
   },
   "outputs": [
    {
     "data": {
      "text/plain": [
       "Text(0.5, 1.0, 'Pearson Correlation Heatmap')"
      ]
     },
     "execution_count": 17,
     "metadata": {},
     "output_type": "execute_result"
    },
    {
     "data": {
      "image/png": "[encoded data removed]",
      "text/plain": [
       "<Figure size 1152x432 with 2 Axes>"
      ]
     },
     "metadata": {},
     "output_type": "display_data"
    }
   ],
   "source": [
    "plt.figure(figsize=(16,6))\n",
    "heatmap=sns.heatmap(df_all.corr(),vmin=-1,vmax=1,annot=True,cmap='BrBG')\n",
    "heatmap.set_title('Pearson Correlation Heatmap',fontdict={'fontsize':18},pad=12)\n"
   ]
  },
  {
   "cell_type": "markdown",
   "id": "e03d4f47",
   "metadata": {
    "papermill": {
     "duration": 0.030159,
     "end_time": "2022-07-13T12:06:07.203742",
     "exception": false,
     "start_time": "2022-07-13T12:06:07.173583",
     "status": "completed"
    },
    "tags": []
   },
   "source": [
    "**1.2.1 Age**\n",
    "Missing values in Age are filled with"
   ]
  },
  {
   "cell_type": "code",
   "execution_count": 18,
   "id": "20fa5d9d",
   "metadata": {
    "execution": {
     "iopub.execute_input": "2022-07-13T12:06:07.266919Z",
     "iopub.status.busy": "2022-07-13T12:06:07.266229Z",
     "iopub.status.idle": "2022-07-13T12:06:07.596264Z",
     "shell.execute_reply": "2022-07-13T12:06:07.595085Z"
    },
    "papermill": {
     "duration": 0.364623,
     "end_time": "2022-07-13T12:06:07.598615",
     "exception": false,
     "start_time": "2022-07-13T12:06:07.233992",
     "status": "completed"
    },
    "tags": []
   },
   "outputs": [
    {
     "data": {
      "text/plain": [
       "<AxesSubplot:>"
      ]
     },
     "execution_count": 18,
     "metadata": {},
     "output_type": "execute_result"
    },
    {
     "data": {
      "image/png": "[encoded data removed]",
      "text/plain": [
       "<Figure size 432x288 with 1 Axes>"
      ]
     },
     "metadata": {},
     "output_type": "display_data"
    }
   ],
   "source": [
    "df_all.Age.hist(bins=10)"
   ]
  },
  {
   "cell_type": "markdown",
   "id": "5bdaa694",
   "metadata": {
    "papermill": {
     "duration": 0.030006,
     "end_time": "2022-07-13T12:06:07.659219",
     "exception": false,
     "start_time": "2022-07-13T12:06:07.629213",
     "status": "completed"
    },
    "tags": []
   },
   "source": [
    "You can clearly see that the younger age bracket is mostly present"
   ]
  },
  {
   "cell_type": "code",
   "execution_count": 19,
   "id": "36dfa050",
   "metadata": {
    "execution": {
     "iopub.execute_input": "2022-07-13T12:06:07.722811Z",
     "iopub.status.busy": "2022-07-13T12:06:07.721892Z",
     "iopub.status.idle": "2022-07-13T12:06:07.749381Z",
     "shell.execute_reply": "2022-07-13T12:06:07.748255Z"
    },
    "papermill": {
     "duration": 0.061762,
     "end_time": "2022-07-13T12:06:07.751625",
     "exception": false,
     "start_time": "2022-07-13T12:06:07.689863",
     "status": "completed"
    },
    "tags": []
   },
   "outputs": [
    {
     "data": {
      "text/html": [
       "<div>\n",
       "<style scoped>\n",
       "    .dataframe tbody tr th:only-of-type {\n",
       "        vertical-align: middle;\n",
       "    }\n",
       "\n",
       "    .dataframe tbody tr th {\n",
       "        vertical-align: top;\n",
       "    }\n",
       "\n",
       "    .dataframe thead th {\n",
       "        text-align: right;\n",
       "    }\n",
       "</style>\n",
       "<table border=\"1\" class=\"dataframe\">\n",
       "  <thead>\n",
       "    <tr style=\"text-align: right;\">\n",
       "      <th></th>\n",
       "      <th>PassengerId</th>\n",
       "      <th>Survived</th>\n",
       "      <th>Pclass</th>\n",
       "      <th>Name</th>\n",
       "      <th>Sex</th>\n",
       "      <th>Age</th>\n",
       "      <th>SibSp</th>\n",
       "      <th>Parch</th>\n",
       "      <th>Ticket</th>\n",
       "      <th>Fare</th>\n",
       "      <th>Cabin</th>\n",
       "      <th>Embarked</th>\n",
       "    </tr>\n",
       "  </thead>\n",
       "  <tbody>\n",
       "    <tr>\n",
       "      <th>5</th>\n",
       "      <td>6</td>\n",
       "      <td>0.0</td>\n",
       "      <td>3</td>\n",
       "      <td>Moran, Mr. James</td>\n",
       "      <td>male</td>\n",
       "      <td>NaN</td>\n",
       "      <td>0</td>\n",
       "      <td>0</td>\n",
       "      <td>330877</td>\n",
       "      <td>8.4583</td>\n",
       "      <td>NaN</td>\n",
       "      <td>Q</td>\n",
       "    </tr>\n",
       "    <tr>\n",
       "      <th>17</th>\n",
       "      <td>18</td>\n",
       "      <td>1.0</td>\n",
       "      <td>2</td>\n",
       "      <td>Williams, Mr. Charles Eugene</td>\n",
       "      <td>male</td>\n",
       "      <td>NaN</td>\n",
       "      <td>0</td>\n",
       "      <td>0</td>\n",
       "      <td>244373</td>\n",
       "      <td>13.0000</td>\n",
       "      <td>NaN</td>\n",
       "      <td>S</td>\n",
       "    </tr>\n",
       "    <tr>\n",
       "      <th>19</th>\n",
       "      <td>20</td>\n",
       "      <td>1.0</td>\n",
       "      <td>3</td>\n",
       "      <td>Masselmani, Mrs. Fatima</td>\n",
       "      <td>female</td>\n",
       "      <td>NaN</td>\n",
       "      <td>0</td>\n",
       "      <td>0</td>\n",
       "      <td>2649</td>\n",
       "      <td>7.2250</td>\n",
       "      <td>NaN</td>\n",
       "      <td>C</td>\n",
       "    </tr>\n",
       "    <tr>\n",
       "      <th>26</th>\n",
       "      <td>27</td>\n",
       "      <td>0.0</td>\n",
       "      <td>3</td>\n",
       "      <td>Emir, Mr. Farred Chehab</td>\n",
       "      <td>male</td>\n",
       "      <td>NaN</td>\n",
       "      <td>0</td>\n",
       "      <td>0</td>\n",
       "      <td>2631</td>\n",
       "      <td>7.2250</td>\n",
       "      <td>NaN</td>\n",
       "      <td>C</td>\n",
       "    </tr>\n",
       "    <tr>\n",
       "      <th>28</th>\n",
       "      <td>29</td>\n",
       "      <td>1.0</td>\n",
       "      <td>3</td>\n",
       "      <td>O'Dwyer, Miss. Ellen \"Nellie\"</td>\n",
       "      <td>female</td>\n",
       "      <td>NaN</td>\n",
       "      <td>0</td>\n",
       "      <td>0</td>\n",
       "      <td>330959</td>\n",
       "      <td>7.8792</td>\n",
       "      <td>NaN</td>\n",
       "      <td>Q</td>\n",
       "    </tr>\n",
       "    <tr>\n",
       "      <th>...</th>\n",
       "      <td>...</td>\n",
       "      <td>...</td>\n",
       "      <td>...</td>\n",
       "      <td>...</td>\n",
       "      <td>...</td>\n",
       "      <td>...</td>\n",
       "      <td>...</td>\n",
       "      <td>...</td>\n",
       "      <td>...</td>\n",
       "      <td>...</td>\n",
       "      <td>...</td>\n",
       "      <td>...</td>\n",
       "    </tr>\n",
       "    <tr>\n",
       "      <th>1299</th>\n",
       "      <td>1300</td>\n",
       "      <td>NaN</td>\n",
       "      <td>3</td>\n",
       "      <td>Riordan, Miss. Johanna Hannah\"\"</td>\n",
       "      <td>female</td>\n",
       "      <td>NaN</td>\n",
       "      <td>0</td>\n",
       "      <td>0</td>\n",
       "      <td>334915</td>\n",
       "      <td>7.7208</td>\n",
       "      <td>NaN</td>\n",
       "      <td>Q</td>\n",
       "    </tr>\n",
       "    <tr>\n",
       "      <th>1301</th>\n",
       "      <td>1302</td>\n",
       "      <td>NaN</td>\n",
       "      <td>3</td>\n",
       "      <td>Naughton, Miss. Hannah</td>\n",
       "      <td>female</td>\n",
       "      <td>NaN</td>\n",
       "      <td>0</td>\n",
       "      <td>0</td>\n",
       "      <td>365237</td>\n",
       "      <td>7.7500</td>\n",
       "      <td>NaN</td>\n",
       "      <td>Q</td>\n",
       "    </tr>\n",
       "    <tr>\n",
       "      <th>1304</th>\n",
       "      <td>1305</td>\n",
       "      <td>NaN</td>\n",
       "      <td>3</td>\n",
       "      <td>Spector, Mr. Woolf</td>\n",
       "      <td>male</td>\n",
       "      <td>NaN</td>\n",
       "      <td>0</td>\n",
       "      <td>0</td>\n",
       "      <td>A.5. 3236</td>\n",
       "      <td>8.0500</td>\n",
       "      <td>NaN</td>\n",
       "      <td>S</td>\n",
       "    </tr>\n",
       "    <tr>\n",
       "      <th>1307</th>\n",
       "      <td>1308</td>\n",
       "      <td>NaN</td>\n",
       "      <td>3</td>\n",
       "      <td>Ware, Mr. Frederick</td>\n",
       "      <td>male</td>\n",
       "      <td>NaN</td>\n",
       "      <td>0</td>\n",
       "      <td>0</td>\n",
       "      <td>359309</td>\n",
       "      <td>8.0500</td>\n",
       "      <td>NaN</td>\n",
       "      <td>S</td>\n",
       "    </tr>\n",
       "    <tr>\n",
       "      <th>1308</th>\n",
       "      <td>1309</td>\n",
       "      <td>NaN</td>\n",
       "      <td>3</td>\n",
       "      <td>Peter, Master. Michael J</td>\n",
       "      <td>male</td>\n",
       "      <td>NaN</td>\n",
       "      <td>1</td>\n",
       "      <td>1</td>\n",
       "      <td>2668</td>\n",
       "      <td>22.3583</td>\n",
       "      <td>NaN</td>\n",
       "      <td>C</td>\n",
       "    </tr>\n",
       "  </tbody>\n",
       "</table>\n",
       "<p>263 rows × 12 columns</p>\n",
       "</div>"
      ],
      "text/plain": [
       "      PassengerId  Survived  Pclass                             Name     Sex  \\\n",
       "5               6       0.0       3                 Moran, Mr. James    male   \n",
       "17             18       1.0       2     Williams, Mr. Charles Eugene    male   \n",
       "19             20       1.0       3          Masselmani, Mrs. Fatima  female   \n",
       "26             27       0.0       3          Emir, Mr. Farred Chehab    male   \n",
       "28             29       1.0       3    O'Dwyer, Miss. Ellen \"Nellie\"  female   \n",
       "...           ...       ...     ...                              ...     ...   \n",
       "1299         1300       NaN       3  Riordan, Miss. Johanna Hannah\"\"  female   \n",
       "1301         1302       NaN       3           Naughton, Miss. Hannah  female   \n",
       "1304         1305       NaN       3               Spector, Mr. Woolf    male   \n",
       "1307         1308       NaN       3              Ware, Mr. Frederick    male   \n",
       "1308         1309       NaN       3         Peter, Master. Michael J    male   \n",
       "\n",
       "      Age  SibSp  Parch     Ticket     Fare Cabin Embarked  \n",
       "5     NaN      0      0     330877   8.4583   NaN        Q  \n",
       "17    NaN      0      0     244373  13.0000   NaN        S  \n",
       "19    NaN      0      0       2649   7.2250   NaN        C  \n",
       "26    NaN      0      0       2631   7.2250   NaN        C  \n",
       "28    NaN      0      0     330959   7.8792   NaN        Q  \n",
       "...   ...    ...    ...        ...      ...   ...      ...  \n",
       "1299  NaN      0      0     334915   7.7208   NaN        Q  \n",
       "1301  NaN      0      0     365237   7.7500   NaN        Q  \n",
       "1304  NaN      0      0  A.5. 3236   8.0500   NaN        S  \n",
       "1307  NaN      0      0     359309   8.0500   NaN        S  \n",
       "1308  NaN      1      1       2668  22.3583   NaN        C  \n",
       "\n",
       "[263 rows x 12 columns]"
      ]
     },
     "execution_count": 19,
     "metadata": {},
     "output_type": "execute_result"
    }
   ],
   "source": [
    "df_all[df_all.Age.isnull()]"
   ]
  },
  {
   "cell_type": "code",
   "execution_count": 20,
   "id": "b7d14787",
   "metadata": {
    "execution": {
     "iopub.execute_input": "2022-07-13T12:06:07.815260Z",
     "iopub.status.busy": "2022-07-13T12:06:07.814584Z",
     "iopub.status.idle": "2022-07-13T12:06:07.826576Z",
     "shell.execute_reply": "2022-07-13T12:06:07.825625Z"
    },
    "papermill": {
     "duration": 0.046764,
     "end_time": "2022-07-13T12:06:07.828764",
     "exception": false,
     "start_time": "2022-07-13T12:06:07.782000",
     "status": "completed"
    },
    "tags": []
   },
   "outputs": [
    {
     "data": {
      "text/html": [
       "<div>\n",
       "<style scoped>\n",
       "    .dataframe tbody tr th:only-of-type {\n",
       "        vertical-align: middle;\n",
       "    }\n",
       "\n",
       "    .dataframe tbody tr th {\n",
       "        vertical-align: top;\n",
       "    }\n",
       "\n",
       "    .dataframe thead th {\n",
       "        text-align: right;\n",
       "    }\n",
       "</style>\n",
       "<table border=\"1\" class=\"dataframe\">\n",
       "  <thead>\n",
       "    <tr style=\"text-align: right;\">\n",
       "      <th></th>\n",
       "      <th>Age</th>\n",
       "    </tr>\n",
       "  </thead>\n",
       "  <tbody>\n",
       "    <tr>\n",
       "      <th>Age</th>\n",
       "      <td>1.000000</td>\n",
       "    </tr>\n",
       "    <tr>\n",
       "      <th>Fare</th>\n",
       "      <td>0.178740</td>\n",
       "    </tr>\n",
       "    <tr>\n",
       "      <th>PassengerId</th>\n",
       "      <td>0.028814</td>\n",
       "    </tr>\n",
       "    <tr>\n",
       "      <th>Survived</th>\n",
       "      <td>-0.077221</td>\n",
       "    </tr>\n",
       "    <tr>\n",
       "      <th>Parch</th>\n",
       "      <td>-0.150917</td>\n",
       "    </tr>\n",
       "    <tr>\n",
       "      <th>SibSp</th>\n",
       "      <td>-0.243699</td>\n",
       "    </tr>\n",
       "    <tr>\n",
       "      <th>Pclass</th>\n",
       "      <td>-0.408106</td>\n",
       "    </tr>\n",
       "  </tbody>\n",
       "</table>\n",
       "</div>"
      ],
      "text/plain": [
       "                  Age\n",
       "Age          1.000000\n",
       "Fare         0.178740\n",
       "PassengerId  0.028814\n",
       "Survived    -0.077221\n",
       "Parch       -0.150917\n",
       "SibSp       -0.243699\n",
       "Pclass      -0.408106"
      ]
     },
     "execution_count": 20,
     "metadata": {},
     "output_type": "execute_result"
    }
   ],
   "source": [
    "df_all.corr()[['Age']].sort_values(by='Age',ascending=False)"
   ]
  },
  {
   "cell_type": "markdown",
   "id": "165c3eb5",
   "metadata": {
    "papermill": {
     "duration": 0.030795,
     "end_time": "2022-07-13T12:06:07.890270",
     "exception": false,
     "start_time": "2022-07-13T12:06:07.859475",
     "status": "completed"
    },
    "tags": []
   },
   "source": []
  },
  {
   "cell_type": "code",
   "execution_count": 21,
   "id": "af0beb36",
   "metadata": {
    "execution": {
     "iopub.execute_input": "2022-07-13T12:06:07.954771Z",
     "iopub.status.busy": "2022-07-13T12:06:07.954024Z",
     "iopub.status.idle": "2022-07-13T12:06:08.436190Z",
     "shell.execute_reply": "2022-07-13T12:06:08.434985Z"
    },
    "papermill": {
     "duration": 0.517846,
     "end_time": "2022-07-13T12:06:08.439136",
     "exception": false,
     "start_time": "2022-07-13T12:06:07.921290",
     "status": "completed"
    },
    "tags": []
   },
   "outputs": [
    {
     "data": {
      "image/png": "[encoded data removed]",
      "text/plain": [
       "<Figure size 576x864 with 2 Axes>"
      ]
     },
     "metadata": {},
     "output_type": "display_data"
    }
   ],
   "source": [
    "plt.figure(figsize=(8, 12))\n",
    "heatmap = sns.heatmap(df_all.corr()[['Age']].sort_values(by='Age',ascending=False), vmin=-1, vmax=1, annot=True, cmap='BrBG')\n",
    "heatmap.set_title('Features Correlating with Age', fontdict={'fontsize':18}, pad=16);"
   ]
  },
  {
   "cell_type": "markdown",
   "id": "5463c48d",
   "metadata": {
    "papermill": {
     "duration": 0.032412,
     "end_time": "2022-07-13T12:06:08.504187",
     "exception": false,
     "start_time": "2022-07-13T12:06:08.471775",
     "status": "completed"
    },
    "tags": []
   },
   "source": [
    "From here we can clearly assume that Pclass and Age are highly related.Therefore we will impute the missing value by median of the corresponding Pclass.\n",
    "Also you must note that the median value will also be dependent on the Sex as the corr. only considers numerical features\n"
   ]
  },
  {
   "cell_type": "code",
   "execution_count": 22,
   "id": "bd58ddcf",
   "metadata": {
    "execution": {
     "iopub.execute_input": "2022-07-13T12:06:08.572535Z",
     "iopub.status.busy": "2022-07-13T12:06:08.572147Z",
     "iopub.status.idle": "2022-07-13T12:06:08.584974Z",
     "shell.execute_reply": "2022-07-13T12:06:08.583906Z"
    },
    "papermill": {
     "duration": 0.049675,
     "end_time": "2022-07-13T12:06:08.587550",
     "exception": false,
     "start_time": "2022-07-13T12:06:08.537875",
     "status": "completed"
    },
    "tags": []
   },
   "outputs": [
    {
     "data": {
      "text/plain": [
       "Pclass  Sex   \n",
       "1       female    36.0\n",
       "        male      42.0\n",
       "2       female    28.0\n",
       "        male      29.5\n",
       "3       female    22.0\n",
       "        male      25.0\n",
       "Name: Age, dtype: float64"
      ]
     },
     "execution_count": 22,
     "metadata": {},
     "output_type": "execute_result"
    }
   ],
   "source": [
    "df_all.groupby(['Pclass','Sex'])['Age'].median()"
   ]
  },
  {
   "cell_type": "code",
   "execution_count": 23,
   "id": "69fb597f",
   "metadata": {
    "execution": {
     "iopub.execute_input": "2022-07-13T12:06:08.653146Z",
     "iopub.status.busy": "2022-07-13T12:06:08.652726Z",
     "iopub.status.idle": "2022-07-13T12:06:08.669912Z",
     "shell.execute_reply": "2022-07-13T12:06:08.668766Z"
    },
    "papermill": {
     "duration": 0.05264,
     "end_time": "2022-07-13T12:06:08.672530",
     "exception": false,
     "start_time": "2022-07-13T12:06:08.619890",
     "status": "completed"
    },
    "tags": []
   },
   "outputs": [],
   "source": [
    "df_all['Age']=df_all.groupby(['Pclass','Sex'])['Age'].apply(lambda x: x.fillna(x.median()))"
   ]
  },
  {
   "cell_type": "markdown",
   "id": "7d03b0ce",
   "metadata": {
    "papermill": {
     "duration": 0.031129,
     "end_time": "2022-07-13T12:06:08.739121",
     "exception": false,
     "start_time": "2022-07-13T12:06:08.707992",
     "status": "completed"
    },
    "tags": []
   },
   "source": [
    "Now we have imputed the Age, let's crosscheck. We have Fare,Cabin and Embarked left out."
   ]
  },
  {
   "cell_type": "code",
   "execution_count": 24,
   "id": "1c69dd00",
   "metadata": {
    "execution": {
     "iopub.execute_input": "2022-07-13T12:06:08.804173Z",
     "iopub.status.busy": "2022-07-13T12:06:08.803522Z",
     "iopub.status.idle": "2022-07-13T12:06:08.812673Z",
     "shell.execute_reply": "2022-07-13T12:06:08.811784Z"
    },
    "papermill": {
     "duration": 0.044272,
     "end_time": "2022-07-13T12:06:08.814810",
     "exception": false,
     "start_time": "2022-07-13T12:06:08.770538",
     "status": "completed"
    },
    "tags": []
   },
   "outputs": [
    {
     "data": {
      "text/plain": [
       "PassengerId       0\n",
       "Survived        418\n",
       "Pclass            0\n",
       "Name              0\n",
       "Sex               0\n",
       "Age               0\n",
       "SibSp             0\n",
       "Parch             0\n",
       "Ticket            0\n",
       "Fare              1\n",
       "Cabin          1014\n",
       "Embarked          2\n",
       "dtype: int64"
      ]
     },
     "execution_count": 24,
     "metadata": {},
     "output_type": "execute_result"
    }
   ],
   "source": [
    "df_all.isnull().sum()"
   ]
  },
  {
   "cell_type": "markdown",
   "id": "7b02666a",
   "metadata": {
    "papermill": {
     "duration": 0.031628,
     "end_time": "2022-07-13T12:06:08.879035",
     "exception": false,
     "start_time": "2022-07-13T12:06:08.847407",
     "status": "completed"
    },
    "tags": []
   },
   "source": [
    "**1.2.2 Embarked**"
   ]
  },
  {
   "cell_type": "code",
   "execution_count": 25,
   "id": "4c23e985",
   "metadata": {
    "execution": {
     "iopub.execute_input": "2022-07-13T12:06:08.944183Z",
     "iopub.status.busy": "2022-07-13T12:06:08.943504Z",
     "iopub.status.idle": "2022-07-13T12:06:08.960471Z",
     "shell.execute_reply": "2022-07-13T12:06:08.959485Z"
    },
    "papermill": {
     "duration": 0.051831,
     "end_time": "2022-07-13T12:06:08.962630",
     "exception": false,
     "start_time": "2022-07-13T12:06:08.910799",
     "status": "completed"
    },
    "tags": []
   },
   "outputs": [
    {
     "data": {
      "text/html": [
       "<div>\n",
       "<style scoped>\n",
       "    .dataframe tbody tr th:only-of-type {\n",
       "        vertical-align: middle;\n",
       "    }\n",
       "\n",
       "    .dataframe tbody tr th {\n",
       "        vertical-align: top;\n",
       "    }\n",
       "\n",
       "    .dataframe thead th {\n",
       "        text-align: right;\n",
       "    }\n",
       "</style>\n",
       "<table border=\"1\" class=\"dataframe\">\n",
       "  <thead>\n",
       "    <tr style=\"text-align: right;\">\n",
       "      <th></th>\n",
       "      <th>PassengerId</th>\n",
       "      <th>Survived</th>\n",
       "      <th>Pclass</th>\n",
       "      <th>Name</th>\n",
       "      <th>Sex</th>\n",
       "      <th>Age</th>\n",
       "      <th>SibSp</th>\n",
       "      <th>Parch</th>\n",
       "      <th>Ticket</th>\n",
       "      <th>Fare</th>\n",
       "      <th>Cabin</th>\n",
       "      <th>Embarked</th>\n",
       "    </tr>\n",
       "  </thead>\n",
       "  <tbody>\n",
       "    <tr>\n",
       "      <th>61</th>\n",
       "      <td>62</td>\n",
       "      <td>1.0</td>\n",
       "      <td>1</td>\n",
       "      <td>Icard, Miss. Amelie</td>\n",
       "      <td>female</td>\n",
       "      <td>38.0</td>\n",
       "      <td>0</td>\n",
       "      <td>0</td>\n",
       "      <td>113572</td>\n",
       "      <td>80.0</td>\n",
       "      <td>B28</td>\n",
       "      <td>NaN</td>\n",
       "    </tr>\n",
       "    <tr>\n",
       "      <th>829</th>\n",
       "      <td>830</td>\n",
       "      <td>1.0</td>\n",
       "      <td>1</td>\n",
       "      <td>Stone, Mrs. George Nelson (Martha Evelyn)</td>\n",
       "      <td>female</td>\n",
       "      <td>62.0</td>\n",
       "      <td>0</td>\n",
       "      <td>0</td>\n",
       "      <td>113572</td>\n",
       "      <td>80.0</td>\n",
       "      <td>B28</td>\n",
       "      <td>NaN</td>\n",
       "    </tr>\n",
       "  </tbody>\n",
       "</table>\n",
       "</div>"
      ],
      "text/plain": [
       "     PassengerId  Survived  Pclass                                       Name  \\\n",
       "61            62       1.0       1                        Icard, Miss. Amelie   \n",
       "829          830       1.0       1  Stone, Mrs. George Nelson (Martha Evelyn)   \n",
       "\n",
       "        Sex   Age  SibSp  Parch  Ticket  Fare Cabin Embarked  \n",
       "61   female  38.0      0      0  113572  80.0   B28      NaN  \n",
       "829  female  62.0      0      0  113572  80.0   B28      NaN  "
      ]
     },
     "execution_count": 25,
     "metadata": {},
     "output_type": "execute_result"
    }
   ],
   "source": [
    "df_all[df_all.Embarked.isnull()]"
   ]
  },
  {
   "cell_type": "markdown",
   "id": "744af187",
   "metadata": {
    "papermill": {
     "duration": 0.031308,
     "end_time": "2022-07-13T12:06:09.025532",
     "exception": false,
     "start_time": "2022-07-13T12:06:08.994224",
     "status": "completed"
    },
    "tags": []
   },
   "source": [
    "https://www.encyclopedia-titanica.org/titanic-survivor/amelia-icard.html\n",
    "If you refer to this article, we can clearly infer that both of these survivors boarded from Southampton    "
   ]
  },
  {
   "cell_type": "code",
   "execution_count": 26,
   "id": "cf26e01f",
   "metadata": {
    "execution": {
     "iopub.execute_input": "2022-07-13T12:06:09.091014Z",
     "iopub.status.busy": "2022-07-13T12:06:09.090332Z",
     "iopub.status.idle": "2022-07-13T12:06:09.095605Z",
     "shell.execute_reply": "2022-07-13T12:06:09.094722Z"
    },
    "papermill": {
     "duration": 0.040908,
     "end_time": "2022-07-13T12:06:09.097975",
     "exception": false,
     "start_time": "2022-07-13T12:06:09.057067",
     "status": "completed"
    },
    "tags": []
   },
   "outputs": [],
   "source": [
    "df_all.Embarked.fillna('S',inplace=True)"
   ]
  },
  {
   "cell_type": "markdown",
   "id": "6a6b88ee",
   "metadata": {
    "papermill": {
     "duration": 0.032218,
     "end_time": "2022-07-13T12:06:09.163238",
     "exception": false,
     "start_time": "2022-07-13T12:06:09.131020",
     "status": "completed"
    },
    "tags": []
   },
   "source": [
    "**1.2.3 Fare**\n",
    "\n",
    "We will use the same technique as before and find out the correlations."
   ]
  },
  {
   "cell_type": "code",
   "execution_count": 27,
   "id": "bf5d125b",
   "metadata": {
    "execution": {
     "iopub.execute_input": "2022-07-13T12:06:09.229188Z",
     "iopub.status.busy": "2022-07-13T12:06:09.228516Z",
     "iopub.status.idle": "2022-07-13T12:06:09.562905Z",
     "shell.execute_reply": "2022-07-13T12:06:09.561918Z"
    },
    "papermill": {
     "duration": 0.370082,
     "end_time": "2022-07-13T12:06:09.565230",
     "exception": false,
     "start_time": "2022-07-13T12:06:09.195148",
     "status": "completed"
    },
    "tags": []
   },
   "outputs": [
    {
     "data": {
      "image/png": "[encoded data removed]",
      "text/plain": [
       "<Figure size 576x864 with 2 Axes>"
      ]
     },
     "metadata": {},
     "output_type": "display_data"
    }
   ],
   "source": [
    "plt.figure(figsize=(8, 12))\n",
    "heatmap = sns.heatmap(df_all.corr()[['Fare']].sort_values(by='Fare',ascending=False), vmin=-1, vmax=1, annot=True, cmap='BrBG')\n",
    "heatmap.set_title('Features Correlating with Fare', fontdict={'fontsize':18}, pad=16);"
   ]
  },
  {
   "cell_type": "markdown",
   "id": "45671793",
   "metadata": {
    "papermill": {
     "duration": 0.032326,
     "end_time": "2022-07-13T12:06:09.629724",
     "exception": false,
     "start_time": "2022-07-13T12:06:09.597398",
     "status": "completed"
    },
    "tags": []
   },
   "source": [
    "We can infer that Fare is highly dependent on the Pclass & Age. Also one should not forget that Embarked and sex are equally important."
   ]
  },
  {
   "cell_type": "code",
   "execution_count": 28,
   "id": "ddee9a32",
   "metadata": {
    "execution": {
     "iopub.execute_input": "2022-07-13T12:06:09.696366Z",
     "iopub.status.busy": "2022-07-13T12:06:09.695645Z",
     "iopub.status.idle": "2022-07-13T12:06:09.713229Z",
     "shell.execute_reply": "2022-07-13T12:06:09.712055Z"
    },
    "papermill": {
     "duration": 0.053458,
     "end_time": "2022-07-13T12:06:09.715517",
     "exception": false,
     "start_time": "2022-07-13T12:06:09.662059",
     "status": "completed"
    },
    "tags": []
   },
   "outputs": [
    {
     "data": {
      "text/html": [
       "<div>\n",
       "<style scoped>\n",
       "    .dataframe tbody tr th:only-of-type {\n",
       "        vertical-align: middle;\n",
       "    }\n",
       "\n",
       "    .dataframe tbody tr th {\n",
       "        vertical-align: top;\n",
       "    }\n",
       "\n",
       "    .dataframe thead th {\n",
       "        text-align: right;\n",
       "    }\n",
       "</style>\n",
       "<table border=\"1\" class=\"dataframe\">\n",
       "  <thead>\n",
       "    <tr style=\"text-align: right;\">\n",
       "      <th></th>\n",
       "      <th>PassengerId</th>\n",
       "      <th>Survived</th>\n",
       "      <th>Pclass</th>\n",
       "      <th>Name</th>\n",
       "      <th>Sex</th>\n",
       "      <th>Age</th>\n",
       "      <th>SibSp</th>\n",
       "      <th>Parch</th>\n",
       "      <th>Ticket</th>\n",
       "      <th>Fare</th>\n",
       "      <th>Cabin</th>\n",
       "      <th>Embarked</th>\n",
       "    </tr>\n",
       "  </thead>\n",
       "  <tbody>\n",
       "    <tr>\n",
       "      <th>1043</th>\n",
       "      <td>1044</td>\n",
       "      <td>NaN</td>\n",
       "      <td>3</td>\n",
       "      <td>Storey, Mr. Thomas</td>\n",
       "      <td>male</td>\n",
       "      <td>60.5</td>\n",
       "      <td>0</td>\n",
       "      <td>0</td>\n",
       "      <td>3701</td>\n",
       "      <td>NaN</td>\n",
       "      <td>NaN</td>\n",
       "      <td>S</td>\n",
       "    </tr>\n",
       "  </tbody>\n",
       "</table>\n",
       "</div>"
      ],
      "text/plain": [
       "      PassengerId  Survived  Pclass                Name   Sex   Age  SibSp  \\\n",
       "1043         1044       NaN       3  Storey, Mr. Thomas  male  60.5      0   \n",
       "\n",
       "      Parch Ticket  Fare Cabin Embarked  \n",
       "1043      0   3701   NaN   NaN        S  "
      ]
     },
     "execution_count": 28,
     "metadata": {},
     "output_type": "execute_result"
    }
   ],
   "source": [
    "df_all[df_all.Fare.isnull()]"
   ]
  },
  {
   "cell_type": "code",
   "execution_count": 29,
   "id": "feeec853",
   "metadata": {
    "execution": {
     "iopub.execute_input": "2022-07-13T12:06:09.783435Z",
     "iopub.status.busy": "2022-07-13T12:06:09.782259Z",
     "iopub.status.idle": "2022-07-13T12:06:09.801880Z",
     "shell.execute_reply": "2022-07-13T12:06:09.800680Z"
    },
    "papermill": {
     "duration": 0.05609,
     "end_time": "2022-07-13T12:06:09.804062",
     "exception": false,
     "start_time": "2022-07-13T12:06:09.747972",
     "status": "completed"
    },
    "tags": []
   },
   "outputs": [
    {
     "data": {
      "text/plain": [
       "Pclass  Sex     Age   Embarked\n",
       "1       female  2.0   S           151.5500\n",
       "                14.0  S           120.0000\n",
       "                15.0  S           211.3375\n",
       "                16.0  C            57.9792\n",
       "                      S            62.9500\n",
       "                                    ...   \n",
       "3       male    60.5  S                NaN\n",
       "                61.0  S             6.2375\n",
       "                65.0  Q             7.7500\n",
       "                70.5  Q             7.7500\n",
       "                74.0  S             7.7750\n",
       "Name: Fare, Length: 476, dtype: float64"
      ]
     },
     "execution_count": 29,
     "metadata": {},
     "output_type": "execute_result"
    }
   ],
   "source": [
    "df_all.groupby(['Pclass','Sex','Age','Embarked'])['Fare'].mean()"
   ]
  },
  {
   "cell_type": "markdown",
   "id": "8877e7bf",
   "metadata": {
    "papermill": {
     "duration": 0.032584,
     "end_time": "2022-07-13T12:06:09.869608",
     "exception": false,
     "start_time": "2022-07-13T12:06:09.837024",
     "status": "completed"
    },
    "tags": []
   },
   "source": [
    "We should safely fill this with 6.2375"
   ]
  },
  {
   "cell_type": "code",
   "execution_count": 30,
   "id": "5d6940df",
   "metadata": {
    "execution": {
     "iopub.execute_input": "2022-07-13T12:06:09.937048Z",
     "iopub.status.busy": "2022-07-13T12:06:09.936396Z",
     "iopub.status.idle": "2022-07-13T12:06:09.941786Z",
     "shell.execute_reply": "2022-07-13T12:06:09.940866Z"
    },
    "papermill": {
     "duration": 0.0418,
     "end_time": "2022-07-13T12:06:09.944232",
     "exception": false,
     "start_time": "2022-07-13T12:06:09.902432",
     "status": "completed"
    },
    "tags": []
   },
   "outputs": [],
   "source": [
    "df_all.Fare.fillna(6.2375,inplace=True)"
   ]
  },
  {
   "cell_type": "code",
   "execution_count": 31,
   "id": "7428babe",
   "metadata": {
    "execution": {
     "iopub.execute_input": "2022-07-13T12:06:10.011885Z",
     "iopub.status.busy": "2022-07-13T12:06:10.011453Z",
     "iopub.status.idle": "2022-07-13T12:06:10.020208Z",
     "shell.execute_reply": "2022-07-13T12:06:10.018835Z"
    },
    "papermill": {
     "duration": 0.045938,
     "end_time": "2022-07-13T12:06:10.022836",
     "exception": false,
     "start_time": "2022-07-13T12:06:09.976898",
     "status": "completed"
    },
    "tags": []
   },
   "outputs": [
    {
     "data": {
      "text/plain": [
       "0"
      ]
     },
     "execution_count": 31,
     "metadata": {},
     "output_type": "execute_result"
    }
   ],
   "source": [
    "df_all.Fare.isnull().sum()"
   ]
  },
  {
   "cell_type": "markdown",
   "id": "70652470",
   "metadata": {
    "papermill": {
     "duration": 0.033603,
     "end_time": "2022-07-13T12:06:10.089828",
     "exception": false,
     "start_time": "2022-07-13T12:06:10.056225",
     "status": "completed"
    },
    "tags": []
   },
   "source": [
    "**1.2.4 Cabin**\n",
    " It turns out to be the first letter of the Cabin values are the decks in which the cabins are located. Those decks were mainly separated for one passenger class, but some of them were used by multiple passenger classes. \n",
    " \n",
    " Here we will be doing some feature engg. to handle the missing values of cabin and ultimately drop Cabin Feature."
   ]
  },
  {
   "cell_type": "code",
   "execution_count": 32,
   "id": "b2a92e91",
   "metadata": {
    "execution": {
     "iopub.execute_input": "2022-07-13T12:06:10.158456Z",
     "iopub.status.busy": "2022-07-13T12:06:10.157666Z",
     "iopub.status.idle": "2022-07-13T12:06:10.166482Z",
     "shell.execute_reply": "2022-07-13T12:06:10.165484Z"
    },
    "papermill": {
     "duration": 0.045377,
     "end_time": "2022-07-13T12:06:10.168853",
     "exception": false,
     "start_time": "2022-07-13T12:06:10.123476",
     "status": "completed"
    },
    "tags": []
   },
   "outputs": [
    {
     "data": {
      "text/plain": [
       "array([nan, 'C85', 'C123', 'E46', 'G6', 'C103', 'D56', 'A6',\n",
       "       'C23 C25 C27', 'B78', 'D33', 'B30', 'C52', 'B28', 'C83', 'F33',\n",
       "       'F G73', 'E31', 'A5', 'D10 D12', 'D26', 'C110', 'B58 B60', 'E101',\n",
       "       'F E69', 'D47', 'B86', 'F2', 'C2', 'E33', 'B19', 'A7', 'C49', 'F4',\n",
       "       'A32', 'B4', 'B80', 'A31', 'D36', 'D15', 'C93', 'C78', 'D35',\n",
       "       'C87', 'B77', 'E67', 'B94', 'C125', 'C99', 'C118', 'D7', 'A19',\n",
       "       'B49', 'D', 'C22 C26', 'C106', 'C65', 'E36', 'C54',\n",
       "       'B57 B59 B63 B66', 'C7', 'E34', 'C32', 'B18', 'C124', 'C91', 'E40',\n",
       "       'T', 'C128', 'D37', 'B35', 'E50', 'C82', 'B96 B98', 'E10', 'E44',\n",
       "       'A34', 'C104', 'C111', 'C92', 'E38', 'D21', 'E12', 'E63', 'A14',\n",
       "       'B37', 'C30', 'D20', 'B79', 'E25', 'D46', 'B73', 'C95', 'B38',\n",
       "       'B39', 'B22', 'C86', 'C70', 'A16', 'C101', 'C68', 'A10', 'E68',\n",
       "       'B41', 'A20', 'D19', 'D50', 'D9', 'A23', 'B50', 'A26', 'D48',\n",
       "       'E58', 'C126', 'B71', 'B51 B53 B55', 'D49', 'B5', 'B20', 'F G63',\n",
       "       'C62 C64', 'E24', 'C90', 'C45', 'E8', 'B101', 'D45', 'C46', 'D30',\n",
       "       'E121', 'D11', 'E77', 'F38', 'B3', 'D6', 'B82 B84', 'D17', 'A36',\n",
       "       'B102', 'B69', 'E49', 'C47', 'D28', 'E17', 'A24', 'C50', 'B42',\n",
       "       'C148', 'B45', 'B36', 'A21', 'D34', 'A9', 'C31', 'B61', 'C53',\n",
       "       'D43', 'C130', 'C132', 'C55 C57', 'C116', 'F', 'A29', 'C6', 'C28',\n",
       "       'C51', 'C97', 'D22', 'B10', 'E45', 'E52', 'A11', 'B11', 'C80',\n",
       "       'C89', 'F E46', 'B26', 'F E57', 'A18', 'E60', 'E39 E41',\n",
       "       'B52 B54 B56', 'C39', 'B24', 'D40', 'D38', 'C105'], dtype=object)"
      ]
     },
     "execution_count": 32,
     "metadata": {},
     "output_type": "execute_result"
    }
   ],
   "source": [
    "df_all['Cabin'].unique()"
   ]
  },
  {
   "cell_type": "markdown",
   "id": "9a2547b1",
   "metadata": {
    "papermill": {
     "duration": 0.032443,
     "end_time": "2022-07-13T12:06:10.234057",
     "exception": false,
     "start_time": "2022-07-13T12:06:10.201614",
     "status": "completed"
    },
    "tags": []
   },
   "source": [
    "On the ship there were A-P Decks and we have only A,B,C,D,E,F,G,T survivers."
   ]
  },
  {
   "cell_type": "code",
   "execution_count": 33,
   "id": "94dc32b0",
   "metadata": {
    "execution": {
     "iopub.execute_input": "2022-07-13T12:06:10.304176Z",
     "iopub.status.busy": "2022-07-13T12:06:10.303408Z",
     "iopub.status.idle": "2022-07-13T12:06:10.661119Z",
     "shell.execute_reply": "2022-07-13T12:06:10.660193Z"
    },
    "papermill": {
     "duration": 0.395094,
     "end_time": "2022-07-13T12:06:10.663361",
     "exception": false,
     "start_time": "2022-07-13T12:06:10.268267",
     "status": "completed"
    },
    "tags": []
   },
   "outputs": [
    {
     "name": "stdout",
     "output_type": "stream",
     "text": [
      "Deck  Pclass\n",
      "A     1          22\n",
      "B     1          65\n",
      "C     1          94\n",
      "D     1          40\n",
      "      2           6\n",
      "E     1          34\n",
      "      2           4\n",
      "      3           3\n",
      "F     2          13\n",
      "      3           8\n",
      "G     3           5\n",
      "M     3         693\n",
      "      2         254\n",
      "      1          67\n",
      "T     1           1\n",
      "Name: Pclass, dtype: int64\n"
     ]
    },
    {
     "data": {
      "text/plain": [
       "<AxesSubplot:xlabel='Deck,Pclass'>"
      ]
     },
     "execution_count": 33,
     "metadata": {},
     "output_type": "execute_result"
    },
    {
     "data": {
      "image/png": "[encoded data removed]",
      "text/plain": [
       "<Figure size 432x288 with 1 Axes>"
      ]
     },
     "metadata": {},
     "output_type": "display_data"
    }
   ],
   "source": [
    "# Creating a Deck Column to extract the info from Cabin Column\n",
    "#(M stands for Missing values)\n",
    "df_all['Deck']=df_all['Cabin'].apply(lambda x:x[0] if pd.notnull(x) else 'M')\n",
    "print(df_all.groupby('Deck')['Pclass'].value_counts())\n",
    "df_all.groupby('Deck')['Pclass'].value_counts().plot(kind='bar')"
   ]
  },
  {
   "cell_type": "markdown",
   "id": "2ec6c927",
   "metadata": {
    "papermill": {
     "duration": 0.033202,
     "end_time": "2022-07-13T12:06:10.732504",
     "exception": false,
     "start_time": "2022-07-13T12:06:10.699302",
     "status": "completed"
    },
    "tags": []
   },
   "source": [
    "\n",
    "\n",
    "   * 100% of A, B and C decks are 1st class passengers\n",
    "   * Deck D has 87% 1st class and 13% 2nd class passengers\n",
    "   * Deck E has 83% 1st class, 10% 2nd class and 7% 3rd class passengers\n",
    "   * Deck F has 62% 2nd class and 38% 3rd class passengers\n",
    "   * 100% of G deck are 3rd class passengers\n",
    "   * There is one person on the boat deck in T cabin and he is a 1st class passenger. T cabin passenger has the closest resemblance to A deck passengers so he is grouped with A deck\n",
    "   * Passengers labeled as M are the missing values in Cabin feature. I don't think it is possible to find those passengers' real Deck so I decided to use M like a deck.\n",
    "   \n",
    "   **In Feature Engineering I will try Ordinal Encoding on this feature.*\n",
    "\n"
   ]
  },
  {
   "cell_type": "markdown",
   "id": "5ca65d6a",
   "metadata": {
    "papermill": {
     "duration": 0.033337,
     "end_time": "2022-07-13T12:06:10.800018",
     "exception": false,
     "start_time": "2022-07-13T12:06:10.766681",
     "status": "completed"
    },
    "tags": []
   },
   "source": []
  },
  {
   "cell_type": "code",
   "execution_count": 34,
   "id": "f2dfe07f",
   "metadata": {
    "execution": {
     "iopub.execute_input": "2022-07-13T12:06:10.868544Z",
     "iopub.status.busy": "2022-07-13T12:06:10.867849Z",
     "iopub.status.idle": "2022-07-13T12:06:10.879438Z",
     "shell.execute_reply": "2022-07-13T12:06:10.878505Z"
    },
    "papermill": {
     "duration": 0.048543,
     "end_time": "2022-07-13T12:06:10.881607",
     "exception": false,
     "start_time": "2022-07-13T12:06:10.833064",
     "status": "completed"
    },
    "tags": []
   },
   "outputs": [
    {
     "data": {
      "text/plain": [
       "PassengerId      0\n",
       "Survived       418\n",
       "Pclass           0\n",
       "Name             0\n",
       "Sex              0\n",
       "Age              0\n",
       "SibSp            0\n",
       "Parch            0\n",
       "Ticket           0\n",
       "Fare             0\n",
       "Embarked         0\n",
       "Deck             0\n",
       "dtype: int64"
      ]
     },
     "execution_count": 34,
     "metadata": {},
     "output_type": "execute_result"
    }
   ],
   "source": [
    "\n",
    "#now we can safely, remove the cabin feature.\n",
    "df_all.drop('Cabin',axis=1,inplace=True)\n",
    "df_all.isnull().sum()"
   ]
  },
  {
   "cell_type": "markdown",
   "id": "71b39f94",
   "metadata": {
    "papermill": {
     "duration": 0.033552,
     "end_time": "2022-07-13T12:06:10.949084",
     "exception": false,
     "start_time": "2022-07-13T12:06:10.915532",
     "status": "completed"
    },
    "tags": []
   },
   "source": [
    "### 2. **FEATURE engg.**"
   ]
  },
  {
   "cell_type": "markdown",
   "id": "e9e73611",
   "metadata": {
    "papermill": {
     "duration": 0.034179,
     "end_time": "2022-07-13T12:06:11.017112",
     "exception": false,
     "start_time": "2022-07-13T12:06:10.982933",
     "status": "completed"
    },
    "tags": []
   },
   "source": [
    "## **2.1 Feature Interaction & Extraction**"
   ]
  },
  {
   "cell_type": "markdown",
   "id": "828fe0bf",
   "metadata": {
    "execution": {
     "iopub.execute_input": "2022-07-13T07:37:43.792837Z",
     "iopub.status.busy": "2022-07-13T07:37:43.792431Z",
     "iopub.status.idle": "2022-07-13T07:37:43.800083Z",
     "shell.execute_reply": "2022-07-13T07:37:43.798582Z",
     "shell.execute_reply.started": "2022-07-13T07:37:43.792786Z"
    },
    "papermill": {
     "duration": 0.033587,
     "end_time": "2022-07-13T12:06:11.084363",
     "exception": false,
     "start_time": "2022-07-13T12:06:11.050776",
     "status": "completed"
    },
    "tags": []
   },
   "source": [
    "*2.1.1 Name-Title*"
   ]
  },
  {
   "cell_type": "code",
   "execution_count": 35,
   "id": "3941360c",
   "metadata": {
    "execution": {
     "iopub.execute_input": "2022-07-13T12:06:11.154627Z",
     "iopub.status.busy": "2022-07-13T12:06:11.154191Z",
     "iopub.status.idle": "2022-07-13T12:06:11.162957Z",
     "shell.execute_reply": "2022-07-13T12:06:11.161854Z"
    },
    "papermill": {
     "duration": 0.047076,
     "end_time": "2022-07-13T12:06:11.165487",
     "exception": false,
     "start_time": "2022-07-13T12:06:11.118411",
     "status": "completed"
    },
    "tags": []
   },
   "outputs": [
    {
     "data": {
      "text/plain": [
       "0                              Braund, Mr. Owen Harris\n",
       "1    Cumings, Mrs. John Bradley (Florence Briggs Th...\n",
       "2                               Heikkinen, Miss. Laina\n",
       "3         Futrelle, Mrs. Jacques Heath (Lily May Peel)\n",
       "4                             Allen, Mr. William Henry\n",
       "5                                     Moran, Mr. James\n",
       "6                              McCarthy, Mr. Timothy J\n",
       "7                       Palsson, Master. Gosta Leonard\n",
       "8    Johnson, Mrs. Oscar W (Elisabeth Vilhelmina Berg)\n",
       "9                  Nasser, Mrs. Nicholas (Adele Achem)\n",
       "Name: Name, dtype: object"
      ]
     },
     "execution_count": 35,
     "metadata": {},
     "output_type": "execute_result"
    }
   ],
   "source": [
    "df_all['Name'].head(10)"
   ]
  },
  {
   "cell_type": "code",
   "execution_count": 36,
   "id": "8062c433",
   "metadata": {
    "execution": {
     "iopub.execute_input": "2022-07-13T12:06:11.235937Z",
     "iopub.status.busy": "2022-07-13T12:06:11.235216Z",
     "iopub.status.idle": "2022-07-13T12:06:11.242259Z",
     "shell.execute_reply": "2022-07-13T12:06:11.241392Z"
    },
    "papermill": {
     "duration": 0.045326,
     "end_time": "2022-07-13T12:06:11.244579",
     "exception": false,
     "start_time": "2022-07-13T12:06:11.199253",
     "status": "completed"
    },
    "tags": []
   },
   "outputs": [],
   "source": [
    "name=df_all.Name.to_list()\n",
    "type(name[0])\n",
    "df_all['Title']=[s.split('.')[0].split(',')[-1].strip() for s in name]"
   ]
  },
  {
   "cell_type": "code",
   "execution_count": 37,
   "id": "7f3721aa",
   "metadata": {
    "execution": {
     "iopub.execute_input": "2022-07-13T12:06:11.314680Z",
     "iopub.status.busy": "2022-07-13T12:06:11.314000Z",
     "iopub.status.idle": "2022-07-13T12:06:11.320238Z",
     "shell.execute_reply": "2022-07-13T12:06:11.319398Z"
    },
    "papermill": {
     "duration": 0.043545,
     "end_time": "2022-07-13T12:06:11.322437",
     "exception": false,
     "start_time": "2022-07-13T12:06:11.278892",
     "status": "completed"
    },
    "tags": []
   },
   "outputs": [
    {
     "data": {
      "text/plain": [
       "1309"
      ]
     },
     "execution_count": 37,
     "metadata": {},
     "output_type": "execute_result"
    }
   ],
   "source": [
    "len(df_all['Title'])"
   ]
  },
  {
   "cell_type": "code",
   "execution_count": 38,
   "id": "58a3f307",
   "metadata": {
    "execution": {
     "iopub.execute_input": "2022-07-13T12:06:11.412593Z",
     "iopub.status.busy": "2022-07-13T12:06:11.410950Z",
     "iopub.status.idle": "2022-07-13T12:06:11.811504Z",
     "shell.execute_reply": "2022-07-13T12:06:11.810214Z"
    },
    "papermill": {
     "duration": 0.45694,
     "end_time": "2022-07-13T12:06:11.813799",
     "exception": false,
     "start_time": "2022-07-13T12:06:11.356859",
     "status": "completed"
    },
    "tags": []
   },
   "outputs": [
    {
     "data": {
      "text/plain": [
       "(array([ 0,  1,  2,  3,  4,  5,  6,  7,  8,  9, 10, 11, 12, 13, 14, 15, 16,\n",
       "        17]),\n",
       " [Text(0, 0, 'Mr'),\n",
       "  Text(1, 0, 'Miss'),\n",
       "  Text(2, 0, 'Mrs'),\n",
       "  Text(3, 0, 'Master'),\n",
       "  Text(4, 0, 'Rev'),\n",
       "  Text(5, 0, 'Dr'),\n",
       "  Text(6, 0, 'Col'),\n",
       "  Text(7, 0, 'Mlle'),\n",
       "  Text(8, 0, 'Major'),\n",
       "  Text(9, 0, 'Ms'),\n",
       "  Text(10, 0, 'Lady'),\n",
       "  Text(11, 0, 'Sir'),\n",
       "  Text(12, 0, 'Mme'),\n",
       "  Text(13, 0, 'Don'),\n",
       "  Text(14, 0, 'Capt'),\n",
       "  Text(15, 0, 'the Countess'),\n",
       "  Text(16, 0, 'Jonkheer'),\n",
       "  Text(17, 0, 'Dona')])"
      ]
     },
     "execution_count": 38,
     "metadata": {},
     "output_type": "execute_result"
    },
    {
     "data": {
      "image/png": "[encoded data removed]",
      "text/plain": [
       "<Figure size 432x288 with 1 Axes>"
      ]
     },
     "metadata": {},
     "output_type": "display_data"
    }
   ],
   "source": [
    "df_all.Title.value_counts().plot(kind='bar')\n",
    "plt.xticks(rotation=60)\n"
   ]
  },
  {
   "cell_type": "code",
   "execution_count": 39,
   "id": "7b314be1",
   "metadata": {
    "execution": {
     "iopub.execute_input": "2022-07-13T12:06:11.886006Z",
     "iopub.status.busy": "2022-07-13T12:06:11.884733Z",
     "iopub.status.idle": "2022-07-13T12:06:12.123119Z",
     "shell.execute_reply": "2022-07-13T12:06:12.121450Z"
    },
    "papermill": {
     "duration": 0.277654,
     "end_time": "2022-07-13T12:06:12.126060",
     "exception": false,
     "start_time": "2022-07-13T12:06:11.848406",
     "status": "completed"
    },
    "tags": []
   },
   "outputs": [
    {
     "name": "stdout",
     "output_type": "stream",
     "text": [
      "AxesSubplot(0.125,0.125;0.775x0.755)\n"
     ]
    },
    {
     "data": {
      "image/png": "[encoded data removed]",
      "text/plain": [
       "<Figure size 432x288 with 1 Axes>"
      ]
     },
     "metadata": {},
     "output_type": "display_data"
    }
   ],
   "source": [
    "# Encoding this feature will be of great help \n",
    "print(df_all['Title'].map({'Mr':1,'Miss':2,'Mrs':2,'Master':3}).fillna(4).value_counts().plot(kind='bar'))\n",
    "df_all['Title']=df_all['Title'].map({'Mr':1,'Miss':2,'Mrs':2,'Master':3}).fillna(4)"
   ]
  },
  {
   "cell_type": "code",
   "execution_count": 40,
   "id": "ccae3efd",
   "metadata": {
    "execution": {
     "iopub.execute_input": "2022-07-13T12:06:12.196850Z",
     "iopub.status.busy": "2022-07-13T12:06:12.196469Z",
     "iopub.status.idle": "2022-07-13T12:06:12.211904Z",
     "shell.execute_reply": "2022-07-13T12:06:12.210736Z"
    },
    "papermill": {
     "duration": 0.054119,
     "end_time": "2022-07-13T12:06:12.214679",
     "exception": false,
     "start_time": "2022-07-13T12:06:12.160560",
     "status": "completed"
    },
    "tags": []
   },
   "outputs": [
    {
     "name": "stdout",
     "output_type": "stream",
     "text": [
      "<class 'pandas.core.frame.DataFrame'>\n",
      "RangeIndex: 1309 entries, 0 to 1308\n",
      "Data columns (total 13 columns):\n",
      " #   Column       Non-Null Count  Dtype  \n",
      "---  ------       --------------  -----  \n",
      " 0   PassengerId  1309 non-null   int64  \n",
      " 1   Survived     891 non-null    float64\n",
      " 2   Pclass       1309 non-null   int64  \n",
      " 3   Name         1309 non-null   object \n",
      " 4   Sex          1309 non-null   object \n",
      " 5   Age          1309 non-null   float64\n",
      " 6   SibSp        1309 non-null   int64  \n",
      " 7   Parch        1309 non-null   int64  \n",
      " 8   Ticket       1309 non-null   object \n",
      " 9   Fare         1309 non-null   float64\n",
      " 10  Embarked     1309 non-null   object \n",
      " 11  Deck         1309 non-null   object \n",
      " 12  Title        1309 non-null   float64\n",
      "dtypes: float64(4), int64(4), object(5)\n",
      "memory usage: 133.1+ KB\n"
     ]
    }
   ],
   "source": [
    "#df_all.drop('Name',axis=1,inplace=True)\n",
    "df_all.info()\n",
    "#df_all['PassengerId']"
   ]
  },
  {
   "cell_type": "markdown",
   "id": "ae06252c",
   "metadata": {
    "execution": {
     "iopub.execute_input": "2022-07-13T08:20:35.818057Z",
     "iopub.status.busy": "2022-07-13T08:20:35.817687Z",
     "iopub.status.idle": "2022-07-13T08:20:35.824997Z",
     "shell.execute_reply": "2022-07-13T08:20:35.823313Z",
     "shell.execute_reply.started": "2022-07-13T08:20:35.818025Z"
    },
    "papermill": {
     "duration": 0.034215,
     "end_time": "2022-07-13T12:06:12.284562",
     "exception": false,
     "start_time": "2022-07-13T12:06:12.250347",
     "status": "completed"
    },
    "tags": []
   },
   "source": [
    "*****2.2.2 Parch & SibSp = FamilySize*****"
   ]
  },
  {
   "cell_type": "code",
   "execution_count": 41,
   "id": "786c4da3",
   "metadata": {
    "execution": {
     "iopub.execute_input": "2022-07-13T12:06:12.358230Z",
     "iopub.status.busy": "2022-07-13T12:06:12.357843Z",
     "iopub.status.idle": "2022-07-13T12:06:12.368988Z",
     "shell.execute_reply": "2022-07-13T12:06:12.367704Z"
    },
    "papermill": {
     "duration": 0.051176,
     "end_time": "2022-07-13T12:06:12.371245",
     "exception": false,
     "start_time": "2022-07-13T12:06:12.320069",
     "status": "completed"
    },
    "tags": []
   },
   "outputs": [
    {
     "data": {
      "text/plain": [
       "0     790\n",
       "1     235\n",
       "2     159\n",
       "3      43\n",
       "5      25\n",
       "4      22\n",
       "6      16\n",
       "10     11\n",
       "7       8\n",
       "Name: Fsize, dtype: int64"
      ]
     },
     "execution_count": 41,
     "metadata": {},
     "output_type": "execute_result"
    }
   ],
   "source": [
    "df_all['Fsize']=df_all['SibSp']+df_all['Parch']\n",
    "df_all['Fsize'].value_counts()\n",
    "#df_all['Fsize'].plot(kind='bar')"
   ]
  },
  {
   "cell_type": "code",
   "execution_count": 42,
   "id": "53f8260e",
   "metadata": {
    "execution": {
     "iopub.execute_input": "2022-07-13T12:06:12.443646Z",
     "iopub.status.busy": "2022-07-13T12:06:12.443248Z",
     "iopub.status.idle": "2022-07-13T12:06:13.245254Z",
     "shell.execute_reply": "2022-07-13T12:06:13.243906Z"
    },
    "papermill": {
     "duration": 0.8412,
     "end_time": "2022-07-13T12:06:13.247684",
     "exception": false,
     "start_time": "2022-07-13T12:06:12.406484",
     "status": "completed"
    },
    "tags": []
   },
   "outputs": [
    {
     "data": {
      "text/plain": [
       "<seaborn.axisgrid.FacetGrid at 0x7fbc1426d750>"
      ]
     },
     "execution_count": 42,
     "metadata": {},
     "output_type": "execute_result"
    },
    {
     "data": {
      "image/png": "[encoded data removed]",
      "text/plain": [
       "<Figure size 360x360 with 1 Axes>"
      ]
     },
     "metadata": {},
     "output_type": "display_data"
    }
   ],
   "source": [
    "g=sns.catplot(x='Fsize',y='Survived',data=df_all,kind='bar')\n",
    "g.set_ylabels('Survival')"
   ]
  },
  {
   "cell_type": "code",
   "execution_count": 43,
   "id": "df36a448",
   "metadata": {
    "execution": {
     "iopub.execute_input": "2022-07-13T12:06:13.321132Z",
     "iopub.status.busy": "2022-07-13T12:06:13.320717Z",
     "iopub.status.idle": "2022-07-13T12:06:13.328284Z",
     "shell.execute_reply": "2022-07-13T12:06:13.327396Z"
    },
    "papermill": {
     "duration": 0.04685,
     "end_time": "2022-07-13T12:06:13.330786",
     "exception": false,
     "start_time": "2022-07-13T12:06:13.283936",
     "status": "completed"
    },
    "tags": []
   },
   "outputs": [],
   "source": [
    "# Encoding singles,small,medium and large families as {1,2,3,4}\n",
    "df_all['family_size']=df_all.Fsize.map({0:1,1:2,2:2,3:2,4:3,5:3,6:3,7:4,10:4})"
   ]
  },
  {
   "cell_type": "code",
   "execution_count": 44,
   "id": "20f56ac9",
   "metadata": {
    "execution": {
     "iopub.execute_input": "2022-07-13T12:06:13.405615Z",
     "iopub.status.busy": "2022-07-13T12:06:13.404857Z",
     "iopub.status.idle": "2022-07-13T12:06:13.947753Z",
     "shell.execute_reply": "2022-07-13T12:06:13.946516Z"
    },
    "papermill": {
     "duration": 0.582978,
     "end_time": "2022-07-13T12:06:13.950405",
     "exception": false,
     "start_time": "2022-07-13T12:06:13.367427",
     "status": "completed"
    },
    "tags": []
   },
   "outputs": [
    {
     "data": {
      "text/plain": [
       "<seaborn.axisgrid.FacetGrid at 0x7fbc14279890>"
      ]
     },
     "execution_count": 44,
     "metadata": {},
     "output_type": "execute_result"
    },
    {
     "data": {
      "image/png": "[encoded data removed]",
      "text/plain": [
       "<Figure size 360x360 with 1 Axes>"
      ]
     },
     "metadata": {},
     "output_type": "display_data"
    }
   ],
   "source": [
    "g=sns.catplot(x='family_size',y='Survived',data=df_all,kind='bar')\n",
    "g.set_ylabels('Survival')"
   ]
  },
  {
   "cell_type": "code",
   "execution_count": 45,
   "id": "97df6958",
   "metadata": {
    "execution": {
     "iopub.execute_input": "2022-07-13T12:06:14.023356Z",
     "iopub.status.busy": "2022-07-13T12:06:14.022926Z",
     "iopub.status.idle": "2022-07-13T12:06:14.038938Z",
     "shell.execute_reply": "2022-07-13T12:06:14.037613Z"
    },
    "papermill": {
     "duration": 0.055887,
     "end_time": "2022-07-13T12:06:14.041747",
     "exception": false,
     "start_time": "2022-07-13T12:06:13.985860",
     "status": "completed"
    },
    "tags": []
   },
   "outputs": [
    {
     "name": "stdout",
     "output_type": "stream",
     "text": [
      "<class 'pandas.core.frame.DataFrame'>\n",
      "RangeIndex: 1309 entries, 0 to 1308\n",
      "Data columns (total 15 columns):\n",
      " #   Column       Non-Null Count  Dtype  \n",
      "---  ------       --------------  -----  \n",
      " 0   PassengerId  1309 non-null   int64  \n",
      " 1   Survived     891 non-null    float64\n",
      " 2   Pclass       1309 non-null   int64  \n",
      " 3   Name         1309 non-null   object \n",
      " 4   Sex          1309 non-null   object \n",
      " 5   Age          1309 non-null   float64\n",
      " 6   SibSp        1309 non-null   int64  \n",
      " 7   Parch        1309 non-null   int64  \n",
      " 8   Ticket       1309 non-null   object \n",
      " 9   Fare         1309 non-null   float64\n",
      " 10  Embarked     1309 non-null   object \n",
      " 11  Deck         1309 non-null   object \n",
      " 12  Title        1309 non-null   float64\n",
      " 13  Fsize        1309 non-null   int64  \n",
      " 14  family_size  1309 non-null   int64  \n",
      "dtypes: float64(4), int64(6), object(5)\n",
      "memory usage: 153.5+ KB\n"
     ]
    }
   ],
   "source": [
    "#df_all.drop(['SibSp','Parch'],axis=1,inplace=True)\n",
    "df_all.info()"
   ]
  },
  {
   "cell_type": "markdown",
   "id": "402b2604",
   "metadata": {
    "papermill": {
     "duration": 0.036817,
     "end_time": "2022-07-13T12:06:14.114428",
     "exception": false,
     "start_time": "2022-07-13T12:06:14.077611",
     "status": "completed"
    },
    "tags": []
   },
   "source": [
    "## **2.2 Encoding**"
   ]
  },
  {
   "cell_type": "code",
   "execution_count": 46,
   "id": "4fcde5a3",
   "metadata": {
    "execution": {
     "iopub.execute_input": "2022-07-13T12:06:14.190095Z",
     "iopub.status.busy": "2022-07-13T12:06:14.189221Z",
     "iopub.status.idle": "2022-07-13T12:06:14.218594Z",
     "shell.execute_reply": "2022-07-13T12:06:14.217395Z"
    },
    "papermill": {
     "duration": 0.069767,
     "end_time": "2022-07-13T12:06:14.220953",
     "exception": false,
     "start_time": "2022-07-13T12:06:14.151186",
     "status": "completed"
    },
    "tags": []
   },
   "outputs": [
    {
     "data": {
      "text/html": [
       "<div>\n",
       "<style scoped>\n",
       "    .dataframe tbody tr th:only-of-type {\n",
       "        vertical-align: middle;\n",
       "    }\n",
       "\n",
       "    .dataframe tbody tr th {\n",
       "        vertical-align: top;\n",
       "    }\n",
       "\n",
       "    .dataframe thead th {\n",
       "        text-align: right;\n",
       "    }\n",
       "</style>\n",
       "<table border=\"1\" class=\"dataframe\">\n",
       "  <thead>\n",
       "    <tr style=\"text-align: right;\">\n",
       "      <th></th>\n",
       "      <th>PassengerId</th>\n",
       "      <th>Survived</th>\n",
       "      <th>Pclass</th>\n",
       "      <th>Name</th>\n",
       "      <th>Age</th>\n",
       "      <th>SibSp</th>\n",
       "      <th>Parch</th>\n",
       "      <th>Ticket</th>\n",
       "      <th>Fare</th>\n",
       "      <th>Embarked</th>\n",
       "      <th>Deck</th>\n",
       "      <th>Title</th>\n",
       "      <th>Fsize</th>\n",
       "      <th>family_size</th>\n",
       "      <th>Sex_female</th>\n",
       "      <th>Sex_male</th>\n",
       "    </tr>\n",
       "  </thead>\n",
       "  <tbody>\n",
       "    <tr>\n",
       "      <th>0</th>\n",
       "      <td>1</td>\n",
       "      <td>0.0</td>\n",
       "      <td>3</td>\n",
       "      <td>Braund, Mr. Owen Harris</td>\n",
       "      <td>22.0</td>\n",
       "      <td>1</td>\n",
       "      <td>0</td>\n",
       "      <td>A/5 21171</td>\n",
       "      <td>7.2500</td>\n",
       "      <td>S</td>\n",
       "      <td>M</td>\n",
       "      <td>1.0</td>\n",
       "      <td>1</td>\n",
       "      <td>2</td>\n",
       "      <td>0</td>\n",
       "      <td>1</td>\n",
       "    </tr>\n",
       "    <tr>\n",
       "      <th>1</th>\n",
       "      <td>2</td>\n",
       "      <td>1.0</td>\n",
       "      <td>1</td>\n",
       "      <td>Cumings, Mrs. John Bradley (Florence Briggs Th...</td>\n",
       "      <td>38.0</td>\n",
       "      <td>1</td>\n",
       "      <td>0</td>\n",
       "      <td>PC 17599</td>\n",
       "      <td>71.2833</td>\n",
       "      <td>C</td>\n",
       "      <td>C</td>\n",
       "      <td>2.0</td>\n",
       "      <td>1</td>\n",
       "      <td>2</td>\n",
       "      <td>1</td>\n",
       "      <td>0</td>\n",
       "    </tr>\n",
       "    <tr>\n",
       "      <th>2</th>\n",
       "      <td>3</td>\n",
       "      <td>1.0</td>\n",
       "      <td>3</td>\n",
       "      <td>Heikkinen, Miss. Laina</td>\n",
       "      <td>26.0</td>\n",
       "      <td>0</td>\n",
       "      <td>0</td>\n",
       "      <td>STON/O2. 3101282</td>\n",
       "      <td>7.9250</td>\n",
       "      <td>S</td>\n",
       "      <td>M</td>\n",
       "      <td>2.0</td>\n",
       "      <td>0</td>\n",
       "      <td>1</td>\n",
       "      <td>1</td>\n",
       "      <td>0</td>\n",
       "    </tr>\n",
       "    <tr>\n",
       "      <th>3</th>\n",
       "      <td>4</td>\n",
       "      <td>1.0</td>\n",
       "      <td>1</td>\n",
       "      <td>Futrelle, Mrs. Jacques Heath (Lily May Peel)</td>\n",
       "      <td>35.0</td>\n",
       "      <td>1</td>\n",
       "      <td>0</td>\n",
       "      <td>113803</td>\n",
       "      <td>53.1000</td>\n",
       "      <td>S</td>\n",
       "      <td>C</td>\n",
       "      <td>2.0</td>\n",
       "      <td>1</td>\n",
       "      <td>2</td>\n",
       "      <td>1</td>\n",
       "      <td>0</td>\n",
       "    </tr>\n",
       "    <tr>\n",
       "      <th>4</th>\n",
       "      <td>5</td>\n",
       "      <td>0.0</td>\n",
       "      <td>3</td>\n",
       "      <td>Allen, Mr. William Henry</td>\n",
       "      <td>35.0</td>\n",
       "      <td>0</td>\n",
       "      <td>0</td>\n",
       "      <td>373450</td>\n",
       "      <td>8.0500</td>\n",
       "      <td>S</td>\n",
       "      <td>M</td>\n",
       "      <td>1.0</td>\n",
       "      <td>0</td>\n",
       "      <td>1</td>\n",
       "      <td>0</td>\n",
       "      <td>1</td>\n",
       "    </tr>\n",
       "  </tbody>\n",
       "</table>\n",
       "</div>"
      ],
      "text/plain": [
       "   PassengerId  Survived  Pclass  \\\n",
       "0            1       0.0       3   \n",
       "1            2       1.0       1   \n",
       "2            3       1.0       3   \n",
       "3            4       1.0       1   \n",
       "4            5       0.0       3   \n",
       "\n",
       "                                                Name   Age  SibSp  Parch  \\\n",
       "0                            Braund, Mr. Owen Harris  22.0      1      0   \n",
       "1  Cumings, Mrs. John Bradley (Florence Briggs Th...  38.0      1      0   \n",
       "2                             Heikkinen, Miss. Laina  26.0      0      0   \n",
       "3       Futrelle, Mrs. Jacques Heath (Lily May Peel)  35.0      1      0   \n",
       "4                           Allen, Mr. William Henry  35.0      0      0   \n",
       "\n",
       "             Ticket     Fare Embarked Deck  Title  Fsize  family_size  \\\n",
       "0         A/5 21171   7.2500        S    M    1.0      1            2   \n",
       "1          PC 17599  71.2833        C    C    2.0      1            2   \n",
       "2  STON/O2. 3101282   7.9250        S    M    2.0      0            1   \n",
       "3            113803  53.1000        S    C    2.0      1            2   \n",
       "4            373450   8.0500        S    M    1.0      0            1   \n",
       "\n",
       "   Sex_female  Sex_male  \n",
       "0           0         1  \n",
       "1           1         0  \n",
       "2           1         0  \n",
       "3           1         0  \n",
       "4           0         1  "
      ]
     },
     "execution_count": 46,
     "metadata": {},
     "output_type": "execute_result"
    }
   ],
   "source": [
    "df_all['Sex']=df_all['Sex'].astype('category')\n",
    "df_all=pd.get_dummies(df_all,columns=['Sex'])\n",
    "#df_all.drop(['Sex_male'],axis=1,inplace=True)\n",
    "df_all.head()"
   ]
  },
  {
   "cell_type": "code",
   "execution_count": 47,
   "id": "7beeafb5",
   "metadata": {
    "execution": {
     "iopub.execute_input": "2022-07-13T12:06:14.296284Z",
     "iopub.status.busy": "2022-07-13T12:06:14.295879Z",
     "iopub.status.idle": "2022-07-13T12:06:14.324799Z",
     "shell.execute_reply": "2022-07-13T12:06:14.323527Z"
    },
    "papermill": {
     "duration": 0.06929,
     "end_time": "2022-07-13T12:06:14.327227",
     "exception": false,
     "start_time": "2022-07-13T12:06:14.257937",
     "status": "completed"
    },
    "tags": []
   },
   "outputs": [
    {
     "data": {
      "text/html": [
       "<div>\n",
       "<style scoped>\n",
       "    .dataframe tbody tr th:only-of-type {\n",
       "        vertical-align: middle;\n",
       "    }\n",
       "\n",
       "    .dataframe tbody tr th {\n",
       "        vertical-align: top;\n",
       "    }\n",
       "\n",
       "    .dataframe thead th {\n",
       "        text-align: right;\n",
       "    }\n",
       "</style>\n",
       "<table border=\"1\" class=\"dataframe\">\n",
       "  <thead>\n",
       "    <tr style=\"text-align: right;\">\n",
       "      <th></th>\n",
       "      <th>PassengerId</th>\n",
       "      <th>Survived</th>\n",
       "      <th>Pclass</th>\n",
       "      <th>Name</th>\n",
       "      <th>Age</th>\n",
       "      <th>SibSp</th>\n",
       "      <th>Parch</th>\n",
       "      <th>Ticket</th>\n",
       "      <th>Fare</th>\n",
       "      <th>Deck</th>\n",
       "      <th>Title</th>\n",
       "      <th>Fsize</th>\n",
       "      <th>family_size</th>\n",
       "      <th>Sex_female</th>\n",
       "      <th>Sex_male</th>\n",
       "      <th>Embarked_C</th>\n",
       "      <th>Embarked_Q</th>\n",
       "      <th>Embarked_S</th>\n",
       "    </tr>\n",
       "  </thead>\n",
       "  <tbody>\n",
       "    <tr>\n",
       "      <th>0</th>\n",
       "      <td>1</td>\n",
       "      <td>0.0</td>\n",
       "      <td>3</td>\n",
       "      <td>Braund, Mr. Owen Harris</td>\n",
       "      <td>22.0</td>\n",
       "      <td>1</td>\n",
       "      <td>0</td>\n",
       "      <td>A/5 21171</td>\n",
       "      <td>7.2500</td>\n",
       "      <td>M</td>\n",
       "      <td>1.0</td>\n",
       "      <td>1</td>\n",
       "      <td>2</td>\n",
       "      <td>0</td>\n",
       "      <td>1</td>\n",
       "      <td>0</td>\n",
       "      <td>0</td>\n",
       "      <td>1</td>\n",
       "    </tr>\n",
       "    <tr>\n",
       "      <th>1</th>\n",
       "      <td>2</td>\n",
       "      <td>1.0</td>\n",
       "      <td>1</td>\n",
       "      <td>Cumings, Mrs. John Bradley (Florence Briggs Th...</td>\n",
       "      <td>38.0</td>\n",
       "      <td>1</td>\n",
       "      <td>0</td>\n",
       "      <td>PC 17599</td>\n",
       "      <td>71.2833</td>\n",
       "      <td>C</td>\n",
       "      <td>2.0</td>\n",
       "      <td>1</td>\n",
       "      <td>2</td>\n",
       "      <td>1</td>\n",
       "      <td>0</td>\n",
       "      <td>1</td>\n",
       "      <td>0</td>\n",
       "      <td>0</td>\n",
       "    </tr>\n",
       "    <tr>\n",
       "      <th>2</th>\n",
       "      <td>3</td>\n",
       "      <td>1.0</td>\n",
       "      <td>3</td>\n",
       "      <td>Heikkinen, Miss. Laina</td>\n",
       "      <td>26.0</td>\n",
       "      <td>0</td>\n",
       "      <td>0</td>\n",
       "      <td>STON/O2. 3101282</td>\n",
       "      <td>7.9250</td>\n",
       "      <td>M</td>\n",
       "      <td>2.0</td>\n",
       "      <td>0</td>\n",
       "      <td>1</td>\n",
       "      <td>1</td>\n",
       "      <td>0</td>\n",
       "      <td>0</td>\n",
       "      <td>0</td>\n",
       "      <td>1</td>\n",
       "    </tr>\n",
       "    <tr>\n",
       "      <th>3</th>\n",
       "      <td>4</td>\n",
       "      <td>1.0</td>\n",
       "      <td>1</td>\n",
       "      <td>Futrelle, Mrs. Jacques Heath (Lily May Peel)</td>\n",
       "      <td>35.0</td>\n",
       "      <td>1</td>\n",
       "      <td>0</td>\n",
       "      <td>113803</td>\n",
       "      <td>53.1000</td>\n",
       "      <td>C</td>\n",
       "      <td>2.0</td>\n",
       "      <td>1</td>\n",
       "      <td>2</td>\n",
       "      <td>1</td>\n",
       "      <td>0</td>\n",
       "      <td>0</td>\n",
       "      <td>0</td>\n",
       "      <td>1</td>\n",
       "    </tr>\n",
       "    <tr>\n",
       "      <th>4</th>\n",
       "      <td>5</td>\n",
       "      <td>0.0</td>\n",
       "      <td>3</td>\n",
       "      <td>Allen, Mr. William Henry</td>\n",
       "      <td>35.0</td>\n",
       "      <td>0</td>\n",
       "      <td>0</td>\n",
       "      <td>373450</td>\n",
       "      <td>8.0500</td>\n",
       "      <td>M</td>\n",
       "      <td>1.0</td>\n",
       "      <td>0</td>\n",
       "      <td>1</td>\n",
       "      <td>0</td>\n",
       "      <td>1</td>\n",
       "      <td>0</td>\n",
       "      <td>0</td>\n",
       "      <td>1</td>\n",
       "    </tr>\n",
       "  </tbody>\n",
       "</table>\n",
       "</div>"
      ],
      "text/plain": [
       "   PassengerId  Survived  Pclass  \\\n",
       "0            1       0.0       3   \n",
       "1            2       1.0       1   \n",
       "2            3       1.0       3   \n",
       "3            4       1.0       1   \n",
       "4            5       0.0       3   \n",
       "\n",
       "                                                Name   Age  SibSp  Parch  \\\n",
       "0                            Braund, Mr. Owen Harris  22.0      1      0   \n",
       "1  Cumings, Mrs. John Bradley (Florence Briggs Th...  38.0      1      0   \n",
       "2                             Heikkinen, Miss. Laina  26.0      0      0   \n",
       "3       Futrelle, Mrs. Jacques Heath (Lily May Peel)  35.0      1      0   \n",
       "4                           Allen, Mr. William Henry  35.0      0      0   \n",
       "\n",
       "             Ticket     Fare Deck  Title  Fsize  family_size  Sex_female  \\\n",
       "0         A/5 21171   7.2500    M    1.0      1            2           0   \n",
       "1          PC 17599  71.2833    C    2.0      1            2           1   \n",
       "2  STON/O2. 3101282   7.9250    M    2.0      0            1           1   \n",
       "3            113803  53.1000    C    2.0      1            2           1   \n",
       "4            373450   8.0500    M    1.0      0            1           0   \n",
       "\n",
       "   Sex_male  Embarked_C  Embarked_Q  Embarked_S  \n",
       "0         1           0           0           1  \n",
       "1         0           1           0           0  \n",
       "2         0           0           0           1  \n",
       "3         0           0           0           1  \n",
       "4         1           0           0           1  "
      ]
     },
     "execution_count": 47,
     "metadata": {},
     "output_type": "execute_result"
    }
   ],
   "source": [
    "df_all['Embarked']=df_all['Embarked'].astype('category')\n",
    "df_all=pd.get_dummies(df_all,columns=['Embarked'])\n",
    "df_all.head()\n",
    "#OR\n",
    "#df_temp=pd.get_dummies(df_all['Embarked'],drop_first=True)\n",
    "#pd.concat with axis=1"
   ]
  },
  {
   "cell_type": "code",
   "execution_count": 48,
   "id": "b5c874d7",
   "metadata": {
    "execution": {
     "iopub.execute_input": "2022-07-13T12:06:14.402930Z",
     "iopub.status.busy": "2022-07-13T12:06:14.402541Z",
     "iopub.status.idle": "2022-07-13T12:06:14.434428Z",
     "shell.execute_reply": "2022-07-13T12:06:14.433515Z"
    },
    "papermill": {
     "duration": 0.073004,
     "end_time": "2022-07-13T12:06:14.436782",
     "exception": false,
     "start_time": "2022-07-13T12:06:14.363778",
     "status": "completed"
    },
    "tags": []
   },
   "outputs": [
    {
     "data": {
      "text/html": [
       "<div>\n",
       "<style scoped>\n",
       "    .dataframe tbody tr th:only-of-type {\n",
       "        vertical-align: middle;\n",
       "    }\n",
       "\n",
       "    .dataframe tbody tr th {\n",
       "        vertical-align: top;\n",
       "    }\n",
       "\n",
       "    .dataframe thead th {\n",
       "        text-align: right;\n",
       "    }\n",
       "</style>\n",
       "<table border=\"1\" class=\"dataframe\">\n",
       "  <thead>\n",
       "    <tr style=\"text-align: right;\">\n",
       "      <th></th>\n",
       "      <th>PassengerId</th>\n",
       "      <th>Survived</th>\n",
       "      <th>Pclass</th>\n",
       "      <th>Name</th>\n",
       "      <th>Age</th>\n",
       "      <th>SibSp</th>\n",
       "      <th>Parch</th>\n",
       "      <th>Ticket</th>\n",
       "      <th>Fare</th>\n",
       "      <th>Title</th>\n",
       "      <th>Fsize</th>\n",
       "      <th>family_size</th>\n",
       "      <th>Sex_female</th>\n",
       "      <th>Sex_male</th>\n",
       "      <th>Embarked_C</th>\n",
       "      <th>Embarked_Q</th>\n",
       "      <th>Embarked_S</th>\n",
       "      <th>Deck_A</th>\n",
       "      <th>Deck_B</th>\n",
       "      <th>Deck_C</th>\n",
       "      <th>Deck_D</th>\n",
       "      <th>Deck_E</th>\n",
       "      <th>Deck_F</th>\n",
       "      <th>Deck_G</th>\n",
       "      <th>Deck_M</th>\n",
       "      <th>Deck_T</th>\n",
       "    </tr>\n",
       "  </thead>\n",
       "  <tbody>\n",
       "    <tr>\n",
       "      <th>0</th>\n",
       "      <td>1</td>\n",
       "      <td>0.0</td>\n",
       "      <td>3</td>\n",
       "      <td>Braund, Mr. Owen Harris</td>\n",
       "      <td>22.0</td>\n",
       "      <td>1</td>\n",
       "      <td>0</td>\n",
       "      <td>A/5 21171</td>\n",
       "      <td>7.2500</td>\n",
       "      <td>1.0</td>\n",
       "      <td>1</td>\n",
       "      <td>2</td>\n",
       "      <td>0</td>\n",
       "      <td>1</td>\n",
       "      <td>0</td>\n",
       "      <td>0</td>\n",
       "      <td>1</td>\n",
       "      <td>0</td>\n",
       "      <td>0</td>\n",
       "      <td>0</td>\n",
       "      <td>0</td>\n",
       "      <td>0</td>\n",
       "      <td>0</td>\n",
       "      <td>0</td>\n",
       "      <td>1</td>\n",
       "      <td>0</td>\n",
       "    </tr>\n",
       "    <tr>\n",
       "      <th>1</th>\n",
       "      <td>2</td>\n",
       "      <td>1.0</td>\n",
       "      <td>1</td>\n",
       "      <td>Cumings, Mrs. John Bradley (Florence Briggs Th...</td>\n",
       "      <td>38.0</td>\n",
       "      <td>1</td>\n",
       "      <td>0</td>\n",
       "      <td>PC 17599</td>\n",
       "      <td>71.2833</td>\n",
       "      <td>2.0</td>\n",
       "      <td>1</td>\n",
       "      <td>2</td>\n",
       "      <td>1</td>\n",
       "      <td>0</td>\n",
       "      <td>1</td>\n",
       "      <td>0</td>\n",
       "      <td>0</td>\n",
       "      <td>0</td>\n",
       "      <td>0</td>\n",
       "      <td>1</td>\n",
       "      <td>0</td>\n",
       "      <td>0</td>\n",
       "      <td>0</td>\n",
       "      <td>0</td>\n",
       "      <td>0</td>\n",
       "      <td>0</td>\n",
       "    </tr>\n",
       "    <tr>\n",
       "      <th>2</th>\n",
       "      <td>3</td>\n",
       "      <td>1.0</td>\n",
       "      <td>3</td>\n",
       "      <td>Heikkinen, Miss. Laina</td>\n",
       "      <td>26.0</td>\n",
       "      <td>0</td>\n",
       "      <td>0</td>\n",
       "      <td>STON/O2. 3101282</td>\n",
       "      <td>7.9250</td>\n",
       "      <td>2.0</td>\n",
       "      <td>0</td>\n",
       "      <td>1</td>\n",
       "      <td>1</td>\n",
       "      <td>0</td>\n",
       "      <td>0</td>\n",
       "      <td>0</td>\n",
       "      <td>1</td>\n",
       "      <td>0</td>\n",
       "      <td>0</td>\n",
       "      <td>0</td>\n",
       "      <td>0</td>\n",
       "      <td>0</td>\n",
       "      <td>0</td>\n",
       "      <td>0</td>\n",
       "      <td>1</td>\n",
       "      <td>0</td>\n",
       "    </tr>\n",
       "    <tr>\n",
       "      <th>3</th>\n",
       "      <td>4</td>\n",
       "      <td>1.0</td>\n",
       "      <td>1</td>\n",
       "      <td>Futrelle, Mrs. Jacques Heath (Lily May Peel)</td>\n",
       "      <td>35.0</td>\n",
       "      <td>1</td>\n",
       "      <td>0</td>\n",
       "      <td>113803</td>\n",
       "      <td>53.1000</td>\n",
       "      <td>2.0</td>\n",
       "      <td>1</td>\n",
       "      <td>2</td>\n",
       "      <td>1</td>\n",
       "      <td>0</td>\n",
       "      <td>0</td>\n",
       "      <td>0</td>\n",
       "      <td>1</td>\n",
       "      <td>0</td>\n",
       "      <td>0</td>\n",
       "      <td>1</td>\n",
       "      <td>0</td>\n",
       "      <td>0</td>\n",
       "      <td>0</td>\n",
       "      <td>0</td>\n",
       "      <td>0</td>\n",
       "      <td>0</td>\n",
       "    </tr>\n",
       "    <tr>\n",
       "      <th>4</th>\n",
       "      <td>5</td>\n",
       "      <td>0.0</td>\n",
       "      <td>3</td>\n",
       "      <td>Allen, Mr. William Henry</td>\n",
       "      <td>35.0</td>\n",
       "      <td>0</td>\n",
       "      <td>0</td>\n",
       "      <td>373450</td>\n",
       "      <td>8.0500</td>\n",
       "      <td>1.0</td>\n",
       "      <td>0</td>\n",
       "      <td>1</td>\n",
       "      <td>0</td>\n",
       "      <td>1</td>\n",
       "      <td>0</td>\n",
       "      <td>0</td>\n",
       "      <td>1</td>\n",
       "      <td>0</td>\n",
       "      <td>0</td>\n",
       "      <td>0</td>\n",
       "      <td>0</td>\n",
       "      <td>0</td>\n",
       "      <td>0</td>\n",
       "      <td>0</td>\n",
       "      <td>1</td>\n",
       "      <td>0</td>\n",
       "    </tr>\n",
       "  </tbody>\n",
       "</table>\n",
       "</div>"
      ],
      "text/plain": [
       "   PassengerId  Survived  Pclass  \\\n",
       "0            1       0.0       3   \n",
       "1            2       1.0       1   \n",
       "2            3       1.0       3   \n",
       "3            4       1.0       1   \n",
       "4            5       0.0       3   \n",
       "\n",
       "                                                Name   Age  SibSp  Parch  \\\n",
       "0                            Braund, Mr. Owen Harris  22.0      1      0   \n",
       "1  Cumings, Mrs. John Bradley (Florence Briggs Th...  38.0      1      0   \n",
       "2                             Heikkinen, Miss. Laina  26.0      0      0   \n",
       "3       Futrelle, Mrs. Jacques Heath (Lily May Peel)  35.0      1      0   \n",
       "4                           Allen, Mr. William Henry  35.0      0      0   \n",
       "\n",
       "             Ticket     Fare  Title  Fsize  family_size  Sex_female  Sex_male  \\\n",
       "0         A/5 21171   7.2500    1.0      1            2           0         1   \n",
       "1          PC 17599  71.2833    2.0      1            2           1         0   \n",
       "2  STON/O2. 3101282   7.9250    2.0      0            1           1         0   \n",
       "3            113803  53.1000    2.0      1            2           1         0   \n",
       "4            373450   8.0500    1.0      0            1           0         1   \n",
       "\n",
       "   Embarked_C  Embarked_Q  Embarked_S  Deck_A  Deck_B  Deck_C  Deck_D  Deck_E  \\\n",
       "0           0           0           1       0       0       0       0       0   \n",
       "1           1           0           0       0       0       1       0       0   \n",
       "2           0           0           1       0       0       0       0       0   \n",
       "3           0           0           1       0       0       1       0       0   \n",
       "4           0           0           1       0       0       0       0       0   \n",
       "\n",
       "   Deck_F  Deck_G  Deck_M  Deck_T  \n",
       "0       0       0       1       0  \n",
       "1       0       0       0       0  \n",
       "2       0       0       1       0  \n",
       "3       0       0       0       0  \n",
       "4       0       0       1       0  "
      ]
     },
     "execution_count": 48,
     "metadata": {},
     "output_type": "execute_result"
    }
   ],
   "source": [
    "df_all['Deck']=df_all['Deck'].astype('category')\n",
    "df_all=pd.get_dummies(df_all,columns=['Deck'])\n",
    "df_all.head()\n",
    "#df_all=pd.get_dummies(df_all['Deck'],drop_first=True)"
   ]
  },
  {
   "cell_type": "code",
   "execution_count": 49,
   "id": "7c7ee327",
   "metadata": {
    "execution": {
     "iopub.execute_input": "2022-07-13T12:06:14.514084Z",
     "iopub.status.busy": "2022-07-13T12:06:14.513678Z",
     "iopub.status.idle": "2022-07-13T12:06:14.537832Z",
     "shell.execute_reply": "2022-07-13T12:06:14.536720Z"
    },
    "papermill": {
     "duration": 0.065874,
     "end_time": "2022-07-13T12:06:14.540132",
     "exception": false,
     "start_time": "2022-07-13T12:06:14.474258",
     "status": "completed"
    },
    "tags": []
   },
   "outputs": [
    {
     "data": {
      "text/html": [
       "<div>\n",
       "<style scoped>\n",
       "    .dataframe tbody tr th:only-of-type {\n",
       "        vertical-align: middle;\n",
       "    }\n",
       "\n",
       "    .dataframe tbody tr th {\n",
       "        vertical-align: top;\n",
       "    }\n",
       "\n",
       "    .dataframe thead th {\n",
       "        text-align: right;\n",
       "    }\n",
       "</style>\n",
       "<table border=\"1\" class=\"dataframe\">\n",
       "  <thead>\n",
       "    <tr style=\"text-align: right;\">\n",
       "      <th></th>\n",
       "      <th>PassengerId</th>\n",
       "      <th>Survived</th>\n",
       "      <th>Pclass</th>\n",
       "      <th>Name</th>\n",
       "      <th>Age</th>\n",
       "      <th>SibSp</th>\n",
       "      <th>Parch</th>\n",
       "      <th>Ticket</th>\n",
       "      <th>Fare</th>\n",
       "      <th>Title</th>\n",
       "      <th>Fsize</th>\n",
       "      <th>family_size</th>\n",
       "      <th>Sex_female</th>\n",
       "      <th>Sex_male</th>\n",
       "      <th>Embarked_C</th>\n",
       "      <th>Embarked_Q</th>\n",
       "      <th>Embarked_S</th>\n",
       "      <th>Deck_A</th>\n",
       "      <th>Deck_B</th>\n",
       "      <th>Deck_C</th>\n",
       "      <th>Deck_D</th>\n",
       "      <th>Deck_E</th>\n",
       "      <th>Deck_F</th>\n",
       "      <th>Deck_G</th>\n",
       "      <th>Deck_M</th>\n",
       "      <th>Deck_T</th>\n",
       "    </tr>\n",
       "  </thead>\n",
       "  <tbody>\n",
       "    <tr>\n",
       "      <th>0</th>\n",
       "      <td>1</td>\n",
       "      <td>0.0</td>\n",
       "      <td>3</td>\n",
       "      <td>Braund, Mr. Owen Harris</td>\n",
       "      <td>22.0</td>\n",
       "      <td>1</td>\n",
       "      <td>0</td>\n",
       "      <td>A/5 21171</td>\n",
       "      <td>7.2500</td>\n",
       "      <td>1.0</td>\n",
       "      <td>1</td>\n",
       "      <td>2</td>\n",
       "      <td>0</td>\n",
       "      <td>1</td>\n",
       "      <td>0</td>\n",
       "      <td>0</td>\n",
       "      <td>1</td>\n",
       "      <td>0</td>\n",
       "      <td>0</td>\n",
       "      <td>0</td>\n",
       "      <td>0</td>\n",
       "      <td>0</td>\n",
       "      <td>0</td>\n",
       "      <td>0</td>\n",
       "      <td>1</td>\n",
       "      <td>0</td>\n",
       "    </tr>\n",
       "    <tr>\n",
       "      <th>1</th>\n",
       "      <td>2</td>\n",
       "      <td>1.0</td>\n",
       "      <td>1</td>\n",
       "      <td>Cumings, Mrs. John Bradley (Florence Briggs Th...</td>\n",
       "      <td>38.0</td>\n",
       "      <td>1</td>\n",
       "      <td>0</td>\n",
       "      <td>PC 17599</td>\n",
       "      <td>71.2833</td>\n",
       "      <td>2.0</td>\n",
       "      <td>1</td>\n",
       "      <td>2</td>\n",
       "      <td>1</td>\n",
       "      <td>0</td>\n",
       "      <td>1</td>\n",
       "      <td>0</td>\n",
       "      <td>0</td>\n",
       "      <td>0</td>\n",
       "      <td>0</td>\n",
       "      <td>1</td>\n",
       "      <td>0</td>\n",
       "      <td>0</td>\n",
       "      <td>0</td>\n",
       "      <td>0</td>\n",
       "      <td>0</td>\n",
       "      <td>0</td>\n",
       "    </tr>\n",
       "    <tr>\n",
       "      <th>2</th>\n",
       "      <td>3</td>\n",
       "      <td>1.0</td>\n",
       "      <td>3</td>\n",
       "      <td>Heikkinen, Miss. Laina</td>\n",
       "      <td>26.0</td>\n",
       "      <td>0</td>\n",
       "      <td>0</td>\n",
       "      <td>STON/O2. 3101282</td>\n",
       "      <td>7.9250</td>\n",
       "      <td>2.0</td>\n",
       "      <td>0</td>\n",
       "      <td>1</td>\n",
       "      <td>1</td>\n",
       "      <td>0</td>\n",
       "      <td>0</td>\n",
       "      <td>0</td>\n",
       "      <td>1</td>\n",
       "      <td>0</td>\n",
       "      <td>0</td>\n",
       "      <td>0</td>\n",
       "      <td>0</td>\n",
       "      <td>0</td>\n",
       "      <td>0</td>\n",
       "      <td>0</td>\n",
       "      <td>1</td>\n",
       "      <td>0</td>\n",
       "    </tr>\n",
       "    <tr>\n",
       "      <th>3</th>\n",
       "      <td>4</td>\n",
       "      <td>1.0</td>\n",
       "      <td>1</td>\n",
       "      <td>Futrelle, Mrs. Jacques Heath (Lily May Peel)</td>\n",
       "      <td>35.0</td>\n",
       "      <td>1</td>\n",
       "      <td>0</td>\n",
       "      <td>113803</td>\n",
       "      <td>53.1000</td>\n",
       "      <td>2.0</td>\n",
       "      <td>1</td>\n",
       "      <td>2</td>\n",
       "      <td>1</td>\n",
       "      <td>0</td>\n",
       "      <td>0</td>\n",
       "      <td>0</td>\n",
       "      <td>1</td>\n",
       "      <td>0</td>\n",
       "      <td>0</td>\n",
       "      <td>1</td>\n",
       "      <td>0</td>\n",
       "      <td>0</td>\n",
       "      <td>0</td>\n",
       "      <td>0</td>\n",
       "      <td>0</td>\n",
       "      <td>0</td>\n",
       "    </tr>\n",
       "    <tr>\n",
       "      <th>4</th>\n",
       "      <td>5</td>\n",
       "      <td>0.0</td>\n",
       "      <td>3</td>\n",
       "      <td>Allen, Mr. William Henry</td>\n",
       "      <td>35.0</td>\n",
       "      <td>0</td>\n",
       "      <td>0</td>\n",
       "      <td>373450</td>\n",
       "      <td>8.0500</td>\n",
       "      <td>1.0</td>\n",
       "      <td>0</td>\n",
       "      <td>1</td>\n",
       "      <td>0</td>\n",
       "      <td>1</td>\n",
       "      <td>0</td>\n",
       "      <td>0</td>\n",
       "      <td>1</td>\n",
       "      <td>0</td>\n",
       "      <td>0</td>\n",
       "      <td>0</td>\n",
       "      <td>0</td>\n",
       "      <td>0</td>\n",
       "      <td>0</td>\n",
       "      <td>0</td>\n",
       "      <td>1</td>\n",
       "      <td>0</td>\n",
       "    </tr>\n",
       "  </tbody>\n",
       "</table>\n",
       "</div>"
      ],
      "text/plain": [
       "   PassengerId  Survived  Pclass  \\\n",
       "0            1       0.0       3   \n",
       "1            2       1.0       1   \n",
       "2            3       1.0       3   \n",
       "3            4       1.0       1   \n",
       "4            5       0.0       3   \n",
       "\n",
       "                                                Name   Age  SibSp  Parch  \\\n",
       "0                            Braund, Mr. Owen Harris  22.0      1      0   \n",
       "1  Cumings, Mrs. John Bradley (Florence Briggs Th...  38.0      1      0   \n",
       "2                             Heikkinen, Miss. Laina  26.0      0      0   \n",
       "3       Futrelle, Mrs. Jacques Heath (Lily May Peel)  35.0      1      0   \n",
       "4                           Allen, Mr. William Henry  35.0      0      0   \n",
       "\n",
       "             Ticket     Fare  Title  Fsize  family_size  Sex_female  Sex_male  \\\n",
       "0         A/5 21171   7.2500    1.0      1            2           0         1   \n",
       "1          PC 17599  71.2833    2.0      1            2           1         0   \n",
       "2  STON/O2. 3101282   7.9250    2.0      0            1           1         0   \n",
       "3            113803  53.1000    2.0      1            2           1         0   \n",
       "4            373450   8.0500    1.0      0            1           0         1   \n",
       "\n",
       "   Embarked_C  Embarked_Q  Embarked_S  Deck_A  Deck_B  Deck_C  Deck_D  Deck_E  \\\n",
       "0           0           0           1       0       0       0       0       0   \n",
       "1           1           0           0       0       0       1       0       0   \n",
       "2           0           0           1       0       0       0       0       0   \n",
       "3           0           0           1       0       0       1       0       0   \n",
       "4           0           0           1       0       0       0       0       0   \n",
       "\n",
       "   Deck_F  Deck_G  Deck_M  Deck_T  \n",
       "0       0       0       1       0  \n",
       "1       0       0       0       0  \n",
       "2       0       0       1       0  \n",
       "3       0       0       0       0  \n",
       "4       0       0       1       0  "
      ]
     },
     "execution_count": 49,
     "metadata": {},
     "output_type": "execute_result"
    }
   ],
   "source": [
    "df_all.head()"
   ]
  },
  {
   "cell_type": "code",
   "execution_count": 50,
   "id": "d2d86307",
   "metadata": {
    "execution": {
     "iopub.execute_input": "2022-07-13T12:06:14.619057Z",
     "iopub.status.busy": "2022-07-13T12:06:14.618642Z",
     "iopub.status.idle": "2022-07-13T12:06:14.622814Z",
     "shell.execute_reply": "2022-07-13T12:06:14.621910Z"
    },
    "papermill": {
     "duration": 0.046225,
     "end_time": "2022-07-13T12:06:14.625336",
     "exception": false,
     "start_time": "2022-07-13T12:06:14.579111",
     "status": "completed"
    },
    "tags": []
   },
   "outputs": [],
   "source": [
    "#df_all.drop(['Name','SibSp','Parch','Embarked_C','Deck_A','Sex_male'],axis=1,inplace=True)"
   ]
  },
  {
   "cell_type": "code",
   "execution_count": 51,
   "id": "d3c0494e",
   "metadata": {
    "execution": {
     "iopub.execute_input": "2022-07-13T12:06:14.702196Z",
     "iopub.status.busy": "2022-07-13T12:06:14.701238Z",
     "iopub.status.idle": "2022-07-13T12:06:14.732518Z",
     "shell.execute_reply": "2022-07-13T12:06:14.731592Z"
    },
    "papermill": {
     "duration": 0.072278,
     "end_time": "2022-07-13T12:06:14.734652",
     "exception": false,
     "start_time": "2022-07-13T12:06:14.662374",
     "status": "completed"
    },
    "tags": []
   },
   "outputs": [
    {
     "data": {
      "text/html": [
       "<div>\n",
       "<style scoped>\n",
       "    .dataframe tbody tr th:only-of-type {\n",
       "        vertical-align: middle;\n",
       "    }\n",
       "\n",
       "    .dataframe tbody tr th {\n",
       "        vertical-align: top;\n",
       "    }\n",
       "\n",
       "    .dataframe thead th {\n",
       "        text-align: right;\n",
       "    }\n",
       "</style>\n",
       "<table border=\"1\" class=\"dataframe\">\n",
       "  <thead>\n",
       "    <tr style=\"text-align: right;\">\n",
       "      <th></th>\n",
       "      <th>PassengerId</th>\n",
       "      <th>Survived</th>\n",
       "      <th>Name</th>\n",
       "      <th>Age</th>\n",
       "      <th>SibSp</th>\n",
       "      <th>Parch</th>\n",
       "      <th>Ticket</th>\n",
       "      <th>Fare</th>\n",
       "      <th>Title</th>\n",
       "      <th>Fsize</th>\n",
       "      <th>family_size</th>\n",
       "      <th>Sex_female</th>\n",
       "      <th>Sex_male</th>\n",
       "      <th>Embarked_C</th>\n",
       "      <th>Embarked_Q</th>\n",
       "      <th>Embarked_S</th>\n",
       "      <th>Deck_A</th>\n",
       "      <th>Deck_B</th>\n",
       "      <th>Deck_C</th>\n",
       "      <th>Deck_D</th>\n",
       "      <th>Deck_E</th>\n",
       "      <th>Deck_F</th>\n",
       "      <th>Deck_G</th>\n",
       "      <th>Deck_M</th>\n",
       "      <th>Deck_T</th>\n",
       "      <th>Pclass_1</th>\n",
       "      <th>Pclass_2</th>\n",
       "      <th>Pclass_3</th>\n",
       "    </tr>\n",
       "  </thead>\n",
       "  <tbody>\n",
       "    <tr>\n",
       "      <th>0</th>\n",
       "      <td>1</td>\n",
       "      <td>0.0</td>\n",
       "      <td>Braund, Mr. Owen Harris</td>\n",
       "      <td>22.0</td>\n",
       "      <td>1</td>\n",
       "      <td>0</td>\n",
       "      <td>A/5 21171</td>\n",
       "      <td>7.2500</td>\n",
       "      <td>1.0</td>\n",
       "      <td>1</td>\n",
       "      <td>2</td>\n",
       "      <td>0</td>\n",
       "      <td>1</td>\n",
       "      <td>0</td>\n",
       "      <td>0</td>\n",
       "      <td>1</td>\n",
       "      <td>0</td>\n",
       "      <td>0</td>\n",
       "      <td>0</td>\n",
       "      <td>0</td>\n",
       "      <td>0</td>\n",
       "      <td>0</td>\n",
       "      <td>0</td>\n",
       "      <td>1</td>\n",
       "      <td>0</td>\n",
       "      <td>0</td>\n",
       "      <td>0</td>\n",
       "      <td>1</td>\n",
       "    </tr>\n",
       "    <tr>\n",
       "      <th>1</th>\n",
       "      <td>2</td>\n",
       "      <td>1.0</td>\n",
       "      <td>Cumings, Mrs. John Bradley (Florence Briggs Th...</td>\n",
       "      <td>38.0</td>\n",
       "      <td>1</td>\n",
       "      <td>0</td>\n",
       "      <td>PC 17599</td>\n",
       "      <td>71.2833</td>\n",
       "      <td>2.0</td>\n",
       "      <td>1</td>\n",
       "      <td>2</td>\n",
       "      <td>1</td>\n",
       "      <td>0</td>\n",
       "      <td>1</td>\n",
       "      <td>0</td>\n",
       "      <td>0</td>\n",
       "      <td>0</td>\n",
       "      <td>0</td>\n",
       "      <td>1</td>\n",
       "      <td>0</td>\n",
       "      <td>0</td>\n",
       "      <td>0</td>\n",
       "      <td>0</td>\n",
       "      <td>0</td>\n",
       "      <td>0</td>\n",
       "      <td>1</td>\n",
       "      <td>0</td>\n",
       "      <td>0</td>\n",
       "    </tr>\n",
       "    <tr>\n",
       "      <th>2</th>\n",
       "      <td>3</td>\n",
       "      <td>1.0</td>\n",
       "      <td>Heikkinen, Miss. Laina</td>\n",
       "      <td>26.0</td>\n",
       "      <td>0</td>\n",
       "      <td>0</td>\n",
       "      <td>STON/O2. 3101282</td>\n",
       "      <td>7.9250</td>\n",
       "      <td>2.0</td>\n",
       "      <td>0</td>\n",
       "      <td>1</td>\n",
       "      <td>1</td>\n",
       "      <td>0</td>\n",
       "      <td>0</td>\n",
       "      <td>0</td>\n",
       "      <td>1</td>\n",
       "      <td>0</td>\n",
       "      <td>0</td>\n",
       "      <td>0</td>\n",
       "      <td>0</td>\n",
       "      <td>0</td>\n",
       "      <td>0</td>\n",
       "      <td>0</td>\n",
       "      <td>1</td>\n",
       "      <td>0</td>\n",
       "      <td>0</td>\n",
       "      <td>0</td>\n",
       "      <td>1</td>\n",
       "    </tr>\n",
       "    <tr>\n",
       "      <th>3</th>\n",
       "      <td>4</td>\n",
       "      <td>1.0</td>\n",
       "      <td>Futrelle, Mrs. Jacques Heath (Lily May Peel)</td>\n",
       "      <td>35.0</td>\n",
       "      <td>1</td>\n",
       "      <td>0</td>\n",
       "      <td>113803</td>\n",
       "      <td>53.1000</td>\n",
       "      <td>2.0</td>\n",
       "      <td>1</td>\n",
       "      <td>2</td>\n",
       "      <td>1</td>\n",
       "      <td>0</td>\n",
       "      <td>0</td>\n",
       "      <td>0</td>\n",
       "      <td>1</td>\n",
       "      <td>0</td>\n",
       "      <td>0</td>\n",
       "      <td>1</td>\n",
       "      <td>0</td>\n",
       "      <td>0</td>\n",
       "      <td>0</td>\n",
       "      <td>0</td>\n",
       "      <td>0</td>\n",
       "      <td>0</td>\n",
       "      <td>1</td>\n",
       "      <td>0</td>\n",
       "      <td>0</td>\n",
       "    </tr>\n",
       "    <tr>\n",
       "      <th>4</th>\n",
       "      <td>5</td>\n",
       "      <td>0.0</td>\n",
       "      <td>Allen, Mr. William Henry</td>\n",
       "      <td>35.0</td>\n",
       "      <td>0</td>\n",
       "      <td>0</td>\n",
       "      <td>373450</td>\n",
       "      <td>8.0500</td>\n",
       "      <td>1.0</td>\n",
       "      <td>0</td>\n",
       "      <td>1</td>\n",
       "      <td>0</td>\n",
       "      <td>1</td>\n",
       "      <td>0</td>\n",
       "      <td>0</td>\n",
       "      <td>1</td>\n",
       "      <td>0</td>\n",
       "      <td>0</td>\n",
       "      <td>0</td>\n",
       "      <td>0</td>\n",
       "      <td>0</td>\n",
       "      <td>0</td>\n",
       "      <td>0</td>\n",
       "      <td>1</td>\n",
       "      <td>0</td>\n",
       "      <td>0</td>\n",
       "      <td>0</td>\n",
       "      <td>1</td>\n",
       "    </tr>\n",
       "  </tbody>\n",
       "</table>\n",
       "</div>"
      ],
      "text/plain": [
       "   PassengerId  Survived                                               Name  \\\n",
       "0            1       0.0                            Braund, Mr. Owen Harris   \n",
       "1            2       1.0  Cumings, Mrs. John Bradley (Florence Briggs Th...   \n",
       "2            3       1.0                             Heikkinen, Miss. Laina   \n",
       "3            4       1.0       Futrelle, Mrs. Jacques Heath (Lily May Peel)   \n",
       "4            5       0.0                           Allen, Mr. William Henry   \n",
       "\n",
       "    Age  SibSp  Parch            Ticket     Fare  Title  Fsize  family_size  \\\n",
       "0  22.0      1      0         A/5 21171   7.2500    1.0      1            2   \n",
       "1  38.0      1      0          PC 17599  71.2833    2.0      1            2   \n",
       "2  26.0      0      0  STON/O2. 3101282   7.9250    2.0      0            1   \n",
       "3  35.0      1      0            113803  53.1000    2.0      1            2   \n",
       "4  35.0      0      0            373450   8.0500    1.0      0            1   \n",
       "\n",
       "   Sex_female  Sex_male  Embarked_C  Embarked_Q  Embarked_S  Deck_A  Deck_B  \\\n",
       "0           0         1           0           0           1       0       0   \n",
       "1           1         0           1           0           0       0       0   \n",
       "2           1         0           0           0           1       0       0   \n",
       "3           1         0           0           0           1       0       0   \n",
       "4           0         1           0           0           1       0       0   \n",
       "\n",
       "   Deck_C  Deck_D  Deck_E  Deck_F  Deck_G  Deck_M  Deck_T  Pclass_1  Pclass_2  \\\n",
       "0       0       0       0       0       0       1       0         0         0   \n",
       "1       1       0       0       0       0       0       0         1         0   \n",
       "2       0       0       0       0       0       1       0         0         0   \n",
       "3       1       0       0       0       0       0       0         1         0   \n",
       "4       0       0       0       0       0       1       0         0         0   \n",
       "\n",
       "   Pclass_3  \n",
       "0         1  \n",
       "1         0  \n",
       "2         1  \n",
       "3         0  \n",
       "4         1  "
      ]
     },
     "execution_count": 51,
     "metadata": {},
     "output_type": "execute_result"
    }
   ],
   "source": [
    "df_all[\"Pclass\"] = df_all[\"Pclass\"].astype(\"category\")\n",
    "df_all = pd.get_dummies(df_all, columns= [\"Pclass\"])\n",
    "df_all.head()"
   ]
  },
  {
   "cell_type": "code",
   "execution_count": 52,
   "id": "06b63e86",
   "metadata": {
    "execution": {
     "iopub.execute_input": "2022-07-13T12:06:14.812595Z",
     "iopub.status.busy": "2022-07-13T12:06:14.811857Z",
     "iopub.status.idle": "2022-07-13T12:06:14.845104Z",
     "shell.execute_reply": "2022-07-13T12:06:14.844084Z"
    },
    "papermill": {
     "duration": 0.075271,
     "end_time": "2022-07-13T12:06:14.847439",
     "exception": false,
     "start_time": "2022-07-13T12:06:14.772168",
     "status": "completed"
    },
    "tags": []
   },
   "outputs": [
    {
     "data": {
      "text/html": [
       "<div>\n",
       "<style scoped>\n",
       "    .dataframe tbody tr th:only-of-type {\n",
       "        vertical-align: middle;\n",
       "    }\n",
       "\n",
       "    .dataframe tbody tr th {\n",
       "        vertical-align: top;\n",
       "    }\n",
       "\n",
       "    .dataframe thead th {\n",
       "        text-align: right;\n",
       "    }\n",
       "</style>\n",
       "<table border=\"1\" class=\"dataframe\">\n",
       "  <thead>\n",
       "    <tr style=\"text-align: right;\">\n",
       "      <th></th>\n",
       "      <th>PassengerId</th>\n",
       "      <th>Survived</th>\n",
       "      <th>Name</th>\n",
       "      <th>Age</th>\n",
       "      <th>SibSp</th>\n",
       "      <th>Parch</th>\n",
       "      <th>Ticket</th>\n",
       "      <th>Fare</th>\n",
       "      <th>Fsize</th>\n",
       "      <th>family_size</th>\n",
       "      <th>Sex_female</th>\n",
       "      <th>Sex_male</th>\n",
       "      <th>Embarked_C</th>\n",
       "      <th>Embarked_Q</th>\n",
       "      <th>Embarked_S</th>\n",
       "      <th>Deck_A</th>\n",
       "      <th>Deck_B</th>\n",
       "      <th>Deck_C</th>\n",
       "      <th>Deck_D</th>\n",
       "      <th>Deck_E</th>\n",
       "      <th>Deck_F</th>\n",
       "      <th>Deck_G</th>\n",
       "      <th>Deck_M</th>\n",
       "      <th>Deck_T</th>\n",
       "      <th>Pclass_1</th>\n",
       "      <th>Pclass_2</th>\n",
       "      <th>Pclass_3</th>\n",
       "      <th>Title_1.0</th>\n",
       "      <th>Title_2.0</th>\n",
       "      <th>Title_3.0</th>\n",
       "      <th>Title_4.0</th>\n",
       "    </tr>\n",
       "  </thead>\n",
       "  <tbody>\n",
       "    <tr>\n",
       "      <th>0</th>\n",
       "      <td>1</td>\n",
       "      <td>0.0</td>\n",
       "      <td>Braund, Mr. Owen Harris</td>\n",
       "      <td>22.0</td>\n",
       "      <td>1</td>\n",
       "      <td>0</td>\n",
       "      <td>A/5 21171</td>\n",
       "      <td>7.2500</td>\n",
       "      <td>1</td>\n",
       "      <td>2</td>\n",
       "      <td>0</td>\n",
       "      <td>1</td>\n",
       "      <td>0</td>\n",
       "      <td>0</td>\n",
       "      <td>1</td>\n",
       "      <td>0</td>\n",
       "      <td>0</td>\n",
       "      <td>0</td>\n",
       "      <td>0</td>\n",
       "      <td>0</td>\n",
       "      <td>0</td>\n",
       "      <td>0</td>\n",
       "      <td>1</td>\n",
       "      <td>0</td>\n",
       "      <td>0</td>\n",
       "      <td>0</td>\n",
       "      <td>1</td>\n",
       "      <td>1</td>\n",
       "      <td>0</td>\n",
       "      <td>0</td>\n",
       "      <td>0</td>\n",
       "    </tr>\n",
       "    <tr>\n",
       "      <th>1</th>\n",
       "      <td>2</td>\n",
       "      <td>1.0</td>\n",
       "      <td>Cumings, Mrs. John Bradley (Florence Briggs Th...</td>\n",
       "      <td>38.0</td>\n",
       "      <td>1</td>\n",
       "      <td>0</td>\n",
       "      <td>PC 17599</td>\n",
       "      <td>71.2833</td>\n",
       "      <td>1</td>\n",
       "      <td>2</td>\n",
       "      <td>1</td>\n",
       "      <td>0</td>\n",
       "      <td>1</td>\n",
       "      <td>0</td>\n",
       "      <td>0</td>\n",
       "      <td>0</td>\n",
       "      <td>0</td>\n",
       "      <td>1</td>\n",
       "      <td>0</td>\n",
       "      <td>0</td>\n",
       "      <td>0</td>\n",
       "      <td>0</td>\n",
       "      <td>0</td>\n",
       "      <td>0</td>\n",
       "      <td>1</td>\n",
       "      <td>0</td>\n",
       "      <td>0</td>\n",
       "      <td>0</td>\n",
       "      <td>1</td>\n",
       "      <td>0</td>\n",
       "      <td>0</td>\n",
       "    </tr>\n",
       "    <tr>\n",
       "      <th>2</th>\n",
       "      <td>3</td>\n",
       "      <td>1.0</td>\n",
       "      <td>Heikkinen, Miss. Laina</td>\n",
       "      <td>26.0</td>\n",
       "      <td>0</td>\n",
       "      <td>0</td>\n",
       "      <td>STON/O2. 3101282</td>\n",
       "      <td>7.9250</td>\n",
       "      <td>0</td>\n",
       "      <td>1</td>\n",
       "      <td>1</td>\n",
       "      <td>0</td>\n",
       "      <td>0</td>\n",
       "      <td>0</td>\n",
       "      <td>1</td>\n",
       "      <td>0</td>\n",
       "      <td>0</td>\n",
       "      <td>0</td>\n",
       "      <td>0</td>\n",
       "      <td>0</td>\n",
       "      <td>0</td>\n",
       "      <td>0</td>\n",
       "      <td>1</td>\n",
       "      <td>0</td>\n",
       "      <td>0</td>\n",
       "      <td>0</td>\n",
       "      <td>1</td>\n",
       "      <td>0</td>\n",
       "      <td>1</td>\n",
       "      <td>0</td>\n",
       "      <td>0</td>\n",
       "    </tr>\n",
       "    <tr>\n",
       "      <th>3</th>\n",
       "      <td>4</td>\n",
       "      <td>1.0</td>\n",
       "      <td>Futrelle, Mrs. Jacques Heath (Lily May Peel)</td>\n",
       "      <td>35.0</td>\n",
       "      <td>1</td>\n",
       "      <td>0</td>\n",
       "      <td>113803</td>\n",
       "      <td>53.1000</td>\n",
       "      <td>1</td>\n",
       "      <td>2</td>\n",
       "      <td>1</td>\n",
       "      <td>0</td>\n",
       "      <td>0</td>\n",
       "      <td>0</td>\n",
       "      <td>1</td>\n",
       "      <td>0</td>\n",
       "      <td>0</td>\n",
       "      <td>1</td>\n",
       "      <td>0</td>\n",
       "      <td>0</td>\n",
       "      <td>0</td>\n",
       "      <td>0</td>\n",
       "      <td>0</td>\n",
       "      <td>0</td>\n",
       "      <td>1</td>\n",
       "      <td>0</td>\n",
       "      <td>0</td>\n",
       "      <td>0</td>\n",
       "      <td>1</td>\n",
       "      <td>0</td>\n",
       "      <td>0</td>\n",
       "    </tr>\n",
       "    <tr>\n",
       "      <th>4</th>\n",
       "      <td>5</td>\n",
       "      <td>0.0</td>\n",
       "      <td>Allen, Mr. William Henry</td>\n",
       "      <td>35.0</td>\n",
       "      <td>0</td>\n",
       "      <td>0</td>\n",
       "      <td>373450</td>\n",
       "      <td>8.0500</td>\n",
       "      <td>0</td>\n",
       "      <td>1</td>\n",
       "      <td>0</td>\n",
       "      <td>1</td>\n",
       "      <td>0</td>\n",
       "      <td>0</td>\n",
       "      <td>1</td>\n",
       "      <td>0</td>\n",
       "      <td>0</td>\n",
       "      <td>0</td>\n",
       "      <td>0</td>\n",
       "      <td>0</td>\n",
       "      <td>0</td>\n",
       "      <td>0</td>\n",
       "      <td>1</td>\n",
       "      <td>0</td>\n",
       "      <td>0</td>\n",
       "      <td>0</td>\n",
       "      <td>1</td>\n",
       "      <td>1</td>\n",
       "      <td>0</td>\n",
       "      <td>0</td>\n",
       "      <td>0</td>\n",
       "    </tr>\n",
       "  </tbody>\n",
       "</table>\n",
       "</div>"
      ],
      "text/plain": [
       "   PassengerId  Survived                                               Name  \\\n",
       "0            1       0.0                            Braund, Mr. Owen Harris   \n",
       "1            2       1.0  Cumings, Mrs. John Bradley (Florence Briggs Th...   \n",
       "2            3       1.0                             Heikkinen, Miss. Laina   \n",
       "3            4       1.0       Futrelle, Mrs. Jacques Heath (Lily May Peel)   \n",
       "4            5       0.0                           Allen, Mr. William Henry   \n",
       "\n",
       "    Age  SibSp  Parch            Ticket     Fare  Fsize  family_size  \\\n",
       "0  22.0      1      0         A/5 21171   7.2500      1            2   \n",
       "1  38.0      1      0          PC 17599  71.2833      1            2   \n",
       "2  26.0      0      0  STON/O2. 3101282   7.9250      0            1   \n",
       "3  35.0      1      0            113803  53.1000      1            2   \n",
       "4  35.0      0      0            373450   8.0500      0            1   \n",
       "\n",
       "   Sex_female  Sex_male  Embarked_C  Embarked_Q  Embarked_S  Deck_A  Deck_B  \\\n",
       "0           0         1           0           0           1       0       0   \n",
       "1           1         0           1           0           0       0       0   \n",
       "2           1         0           0           0           1       0       0   \n",
       "3           1         0           0           0           1       0       0   \n",
       "4           0         1           0           0           1       0       0   \n",
       "\n",
       "   Deck_C  Deck_D  Deck_E  Deck_F  Deck_G  Deck_M  Deck_T  Pclass_1  Pclass_2  \\\n",
       "0       0       0       0       0       0       1       0         0         0   \n",
       "1       1       0       0       0       0       0       0         1         0   \n",
       "2       0       0       0       0       0       1       0         0         0   \n",
       "3       1       0       0       0       0       0       0         1         0   \n",
       "4       0       0       0       0       0       1       0         0         0   \n",
       "\n",
       "   Pclass_3  Title_1.0  Title_2.0  Title_3.0  Title_4.0  \n",
       "0         1          1          0          0          0  \n",
       "1         0          0          1          0          0  \n",
       "2         1          0          1          0          0  \n",
       "3         0          0          1          0          0  \n",
       "4         1          1          0          0          0  "
      ]
     },
     "execution_count": 52,
     "metadata": {},
     "output_type": "execute_result"
    }
   ],
   "source": [
    "df_all[\"Title\"] = df_all[\"Title\"].astype(\"category\")\n",
    "df_all = pd.get_dummies(df_all, columns= [\"Title\"])\n",
    "df_all.head()"
   ]
  },
  {
   "cell_type": "code",
   "execution_count": 53,
   "id": "bc7bb6e6",
   "metadata": {
    "execution": {
     "iopub.execute_input": "2022-07-13T12:06:14.926428Z",
     "iopub.status.busy": "2022-07-13T12:06:14.925701Z",
     "iopub.status.idle": "2022-07-13T12:06:14.947126Z",
     "shell.execute_reply": "2022-07-13T12:06:14.944999Z"
    },
    "papermill": {
     "duration": 0.06449,
     "end_time": "2022-07-13T12:06:14.949989",
     "exception": false,
     "start_time": "2022-07-13T12:06:14.885499",
     "status": "completed"
    },
    "tags": []
   },
   "outputs": [
    {
     "name": "stdout",
     "output_type": "stream",
     "text": [
      "<class 'pandas.core.frame.DataFrame'>\n",
      "RangeIndex: 1309 entries, 0 to 1308\n",
      "Data columns (total 28 columns):\n",
      " #   Column       Non-Null Count  Dtype  \n",
      "---  ------       --------------  -----  \n",
      " 0   PassengerId  1309 non-null   int64  \n",
      " 1   Survived     891 non-null    float64\n",
      " 2   Name         1309 non-null   object \n",
      " 3   Age          1309 non-null   float64\n",
      " 4   SibSp        1309 non-null   int64  \n",
      " 5   Parch        1309 non-null   int64  \n",
      " 6   Fare         1309 non-null   float64\n",
      " 7   Fsize        1309 non-null   int64  \n",
      " 8   family_size  1309 non-null   int64  \n",
      " 9   Sex_female   1309 non-null   uint8  \n",
      " 10  Sex_male     1309 non-null   uint8  \n",
      " 11  Embarked_C   1309 non-null   uint8  \n",
      " 12  Embarked_Q   1309 non-null   uint8  \n",
      " 13  Embarked_S   1309 non-null   uint8  \n",
      " 14  Deck_A       1309 non-null   uint8  \n",
      " 15  Deck_B       1309 non-null   uint8  \n",
      " 16  Deck_C       1309 non-null   uint8  \n",
      " 17  Deck_D       1309 non-null   uint8  \n",
      " 18  Deck_E       1309 non-null   uint8  \n",
      " 19  Deck_F       1309 non-null   uint8  \n",
      " 20  Deck_G       1309 non-null   uint8  \n",
      " 21  Deck_M       1309 non-null   uint8  \n",
      " 22  Deck_T       1309 non-null   uint8  \n",
      " 23  Pclass_2     1309 non-null   uint8  \n",
      " 24  Pclass_3     1309 non-null   uint8  \n",
      " 25  Title_2.0    1309 non-null   uint8  \n",
      " 26  Title_3.0    1309 non-null   uint8  \n",
      " 27  Title_4.0    1309 non-null   uint8  \n",
      "dtypes: float64(3), int64(5), object(1), uint8(19)\n",
      "memory usage: 116.5+ KB\n"
     ]
    },
    {
     "data": {
      "text/plain": [
       "(1309, 28)"
      ]
     },
     "execution_count": 53,
     "metadata": {},
     "output_type": "execute_result"
    }
   ],
   "source": [
    "#df_all.drop(['Fsize'],inplace=True,axis=1)\n",
    "#As ticket helps to locate cabin,embarkment,Fare which is already given lets drop it too.\n",
    "df_all_new=df_all.drop(['Pclass_1','Title_1.0','Ticket'],axis=1)\n",
    "\n",
    "df_all_new.info()\n",
    "df_all_new.shape"
   ]
  },
  {
   "cell_type": "markdown",
   "id": "f60ec9b2",
   "metadata": {
    "papermill": {
     "duration": 0.03872,
     "end_time": "2022-07-13T12:06:15.027867",
     "exception": false,
     "start_time": "2022-07-13T12:06:14.989147",
     "status": "completed"
    },
    "tags": []
   },
   "source": [
    "## **2.3 PreProcessing**\n",
    "https://www.kaggle.com/code/prashant111/a-reference-guide-to-feature-engineering-methods/notebook\n",
    "\n",
    "We will be scaling and normalizing Age and Fare"
   ]
  },
  {
   "cell_type": "code",
   "execution_count": 54,
   "id": "a3c80a09",
   "metadata": {
    "execution": {
     "iopub.execute_input": "2022-07-13T12:06:15.107051Z",
     "iopub.status.busy": "2022-07-13T12:06:15.106021Z",
     "iopub.status.idle": "2022-07-13T12:06:15.603724Z",
     "shell.execute_reply": "2022-07-13T12:06:15.602578Z"
    },
    "papermill": {
     "duration": 0.539533,
     "end_time": "2022-07-13T12:06:15.606042",
     "exception": false,
     "start_time": "2022-07-13T12:06:15.066509",
     "status": "completed"
    },
    "tags": []
   },
   "outputs": [
    {
     "data": {
      "image/png": "[encoded data removed]",
      "text/plain": [
       "<Figure size 1080x432 with 2 Axes>"
      ]
     },
     "metadata": {},
     "output_type": "display_data"
    }
   ],
   "source": [
    "# plot the histograms to have a quick look at the distributions\n",
    "# we can plot Q-Q plots to visualise if the variable is normally distributed\n",
    "\n",
    "def diagnostic_plots(df, variable):\n",
    "    # function to plot a histogram and a Q-Q plot\n",
    "    # side by side, for a certain variable\n",
    "    \n",
    "    plt.figure(figsize=(15,6))\n",
    "    plt.subplot(1, 2, 1)\n",
    "    df[variable].hist()\n",
    "\n",
    "    plt.subplot(1, 2, 2)\n",
    "    stats.probplot(df[variable], dist=\"norm\", plot=pylab)\n",
    "\n",
    "    plt.show()\n",
    "    \n",
    "diagnostic_plots(df_all_new, 'Fare')"
   ]
  },
  {
   "cell_type": "code",
   "execution_count": 55,
   "id": "cf3efc3f",
   "metadata": {
    "execution": {
     "iopub.execute_input": "2022-07-13T12:06:15.685121Z",
     "iopub.status.busy": "2022-07-13T12:06:15.684245Z",
     "iopub.status.idle": "2022-07-13T12:06:15.695397Z",
     "shell.execute_reply": "2022-07-13T12:06:15.694475Z"
    },
    "papermill": {
     "duration": 0.053177,
     "end_time": "2022-07-13T12:06:15.697532",
     "exception": false,
     "start_time": "2022-07-13T12:06:15.644355",
     "status": "completed"
    },
    "tags": []
   },
   "outputs": [
    {
     "data": {
      "text/plain": [
       "PassengerId      0\n",
       "Survived       418\n",
       "Name             0\n",
       "Age              0\n",
       "SibSp            0\n",
       "Parch            0\n",
       "Fare             0\n",
       "Fsize            0\n",
       "family_size      0\n",
       "Sex_female       0\n",
       "Sex_male         0\n",
       "Embarked_C       0\n",
       "Embarked_Q       0\n",
       "Embarked_S       0\n",
       "Deck_A           0\n",
       "Deck_B           0\n",
       "Deck_C           0\n",
       "Deck_D           0\n",
       "Deck_E           0\n",
       "Deck_F           0\n",
       "Deck_G           0\n",
       "Deck_M           0\n",
       "Deck_T           0\n",
       "Pclass_2         0\n",
       "Pclass_3         0\n",
       "Title_2.0        0\n",
       "Title_3.0        0\n",
       "Title_4.0        0\n",
       "dtype: int64"
      ]
     },
     "execution_count": 55,
     "metadata": {},
     "output_type": "execute_result"
    }
   ],
   "source": [
    "df_all_new.isnull().sum()"
   ]
  },
  {
   "cell_type": "code",
   "execution_count": 56,
   "id": "54e1e419",
   "metadata": {
    "execution": {
     "iopub.execute_input": "2022-07-13T12:06:15.779175Z",
     "iopub.status.busy": "2022-07-13T12:06:15.778053Z",
     "iopub.status.idle": "2022-07-13T12:06:15.783981Z",
     "shell.execute_reply": "2022-07-13T12:06:15.782744Z"
    },
    "papermill": {
     "duration": 0.050466,
     "end_time": "2022-07-13T12:06:15.786827",
     "exception": false,
     "start_time": "2022-07-13T12:06:15.736361",
     "status": "completed"
    },
    "tags": []
   },
   "outputs": [],
   "source": [
    "#df_all['Fare_log']=np.log(df_all.Fare)\n",
    "#diagnostic_plots(df_all,'Fare_log')"
   ]
  },
  {
   "cell_type": "code",
   "execution_count": 57,
   "id": "5a6165c4",
   "metadata": {
    "execution": {
     "iopub.execute_input": "2022-07-13T12:06:15.870646Z",
     "iopub.status.busy": "2022-07-13T12:06:15.869840Z",
     "iopub.status.idle": "2022-07-13T12:06:16.378732Z",
     "shell.execute_reply": "2022-07-13T12:06:16.377384Z"
    },
    "papermill": {
     "duration": 0.552653,
     "end_time": "2022-07-13T12:06:16.381405",
     "exception": false,
     "start_time": "2022-07-13T12:06:15.828752",
     "status": "completed"
    },
    "tags": []
   },
   "outputs": [
    {
     "data": {
      "image/png": "[encoded data removed]",
      "text/plain": [
       "<Figure size 1080x432 with 2 Axes>"
      ]
     },
     "metadata": {},
     "output_type": "display_data"
    }
   ],
   "source": [
    "df_all_new['fare_sqr'] =df_all_new.Fare**(1/2)\n",
    "\n",
    "diagnostic_plots(df_all_new, 'fare_sqr')"
   ]
  },
  {
   "cell_type": "code",
   "execution_count": 58,
   "id": "0cbfe907",
   "metadata": {
    "execution": {
     "iopub.execute_input": "2022-07-13T12:06:16.465780Z",
     "iopub.status.busy": "2022-07-13T12:06:16.465005Z",
     "iopub.status.idle": "2022-07-13T12:06:16.975152Z",
     "shell.execute_reply": "2022-07-13T12:06:16.973798Z"
    },
    "papermill": {
     "duration": 0.554476,
     "end_time": "2022-07-13T12:06:16.977652",
     "exception": false,
     "start_time": "2022-07-13T12:06:16.423176",
     "status": "completed"
    },
    "tags": []
   },
   "outputs": [
    {
     "data": {
      "image/png": "[encoded data removed]",
      "text/plain": [
       "<Figure size 1080x432 with 2 Axes>"
      ]
     },
     "metadata": {},
     "output_type": "display_data"
    }
   ],
   "source": [
    "df_all_new['Fare_exp']=df_all_new.Fare**(1/1.2)\n",
    "diagnostic_plots(df_all_new,'Fare_exp')"
   ]
  },
  {
   "cell_type": "code",
   "execution_count": 59,
   "id": "0a782f14",
   "metadata": {
    "execution": {
     "iopub.execute_input": "2022-07-13T12:06:17.061669Z",
     "iopub.status.busy": "2022-07-13T12:06:17.060669Z",
     "iopub.status.idle": "2022-07-13T12:06:17.066465Z",
     "shell.execute_reply": "2022-07-13T12:06:17.065516Z"
    },
    "papermill": {
     "duration": 0.049962,
     "end_time": "2022-07-13T12:06:17.068956",
     "exception": false,
     "start_time": "2022-07-13T12:06:17.018994",
     "status": "completed"
    },
    "tags": []
   },
   "outputs": [],
   "source": [
    "#df_all_new['Fare_boxcox'], param = stats.boxcox(df_all_new.Fare) \n",
    "\n",
    "#print('Optimal λ: ', param)\n",
    "\n",
    "#diagnostic_plots(data, 'Fare_boxcox')"
   ]
  },
  {
   "cell_type": "code",
   "execution_count": 60,
   "id": "722d330f",
   "metadata": {
    "execution": {
     "iopub.execute_input": "2022-07-13T12:06:17.151983Z",
     "iopub.status.busy": "2022-07-13T12:06:17.150880Z",
     "iopub.status.idle": "2022-07-13T12:06:17.712882Z",
     "shell.execute_reply": "2022-07-13T12:06:17.711752Z"
    },
    "papermill": {
     "duration": 0.605835,
     "end_time": "2022-07-13T12:06:17.715371",
     "exception": false,
     "start_time": "2022-07-13T12:06:17.109536",
     "status": "completed"
    },
    "tags": []
   },
   "outputs": [
    {
     "name": "stdout",
     "output_type": "stream",
     "text": [
      "Optimal λ:  0.751393574356586\n"
     ]
    },
    {
     "data": {
      "image/png": "[encoded data removed]",
      "text/plain": [
       "<Figure size 1080x432 with 2 Axes>"
      ]
     },
     "metadata": {},
     "output_type": "display_data"
    }
   ],
   "source": [
    "df_all_new['Age_boxcox'], param = stats.boxcox(df_all_new.Age) \n",
    "\n",
    "print('Optimal λ: ', param)\n",
    "\n",
    "diagnostic_plots(df_all_new, 'Age_boxcox')"
   ]
  },
  {
   "cell_type": "markdown",
   "id": "0ca93e95",
   "metadata": {
    "papermill": {
     "duration": 0.040387,
     "end_time": "2022-07-13T12:06:17.797030",
     "exception": false,
     "start_time": "2022-07-13T12:06:17.756643",
     "status": "completed"
    },
    "tags": []
   },
   "source": [
    "**Conclusion: We will be using Age_boxcox and fare_sqr**"
   ]
  },
  {
   "cell_type": "code",
   "execution_count": 61,
   "id": "58ea25e4",
   "metadata": {
    "execution": {
     "iopub.execute_input": "2022-07-13T12:06:17.880458Z",
     "iopub.status.busy": "2022-07-13T12:06:17.880000Z",
     "iopub.status.idle": "2022-07-13T12:06:17.896996Z",
     "shell.execute_reply": "2022-07-13T12:06:17.896114Z"
    },
    "papermill": {
     "duration": 0.062334,
     "end_time": "2022-07-13T12:06:17.900505",
     "exception": false,
     "start_time": "2022-07-13T12:06:17.838171",
     "status": "completed"
    },
    "tags": []
   },
   "outputs": [
    {
     "name": "stdout",
     "output_type": "stream",
     "text": [
      "<class 'pandas.core.frame.DataFrame'>\n",
      "RangeIndex: 1309 entries, 0 to 1308\n",
      "Data columns (total 31 columns):\n",
      " #   Column       Non-Null Count  Dtype  \n",
      "---  ------       --------------  -----  \n",
      " 0   PassengerId  1309 non-null   int64  \n",
      " 1   Survived     891 non-null    float64\n",
      " 2   Name         1309 non-null   object \n",
      " 3   Age          1309 non-null   float64\n",
      " 4   SibSp        1309 non-null   int64  \n",
      " 5   Parch        1309 non-null   int64  \n",
      " 6   Fare         1309 non-null   float64\n",
      " 7   Fsize        1309 non-null   int64  \n",
      " 8   family_size  1309 non-null   int64  \n",
      " 9   Sex_female   1309 non-null   uint8  \n",
      " 10  Sex_male     1309 non-null   uint8  \n",
      " 11  Embarked_C   1309 non-null   uint8  \n",
      " 12  Embarked_Q   1309 non-null   uint8  \n",
      " 13  Embarked_S   1309 non-null   uint8  \n",
      " 14  Deck_A       1309 non-null   uint8  \n",
      " 15  Deck_B       1309 non-null   uint8  \n",
      " 16  Deck_C       1309 non-null   uint8  \n",
      " 17  Deck_D       1309 non-null   uint8  \n",
      " 18  Deck_E       1309 non-null   uint8  \n",
      " 19  Deck_F       1309 non-null   uint8  \n",
      " 20  Deck_G       1309 non-null   uint8  \n",
      " 21  Deck_M       1309 non-null   uint8  \n",
      " 22  Deck_T       1309 non-null   uint8  \n",
      " 23  Pclass_2     1309 non-null   uint8  \n",
      " 24  Pclass_3     1309 non-null   uint8  \n",
      " 25  Title_2.0    1309 non-null   uint8  \n",
      " 26  Title_3.0    1309 non-null   uint8  \n",
      " 27  Title_4.0    1309 non-null   uint8  \n",
      " 28  fare_sqr     1309 non-null   float64\n",
      " 29  Fare_exp     1309 non-null   float64\n",
      " 30  Age_boxcox   1309 non-null   float64\n",
      "dtypes: float64(6), int64(5), object(1), uint8(19)\n",
      "memory usage: 147.1+ KB\n"
     ]
    }
   ],
   "source": [
    "df_all_new.info()"
   ]
  },
  {
   "cell_type": "code",
   "execution_count": 62,
   "id": "5185f730",
   "metadata": {
    "execution": {
     "iopub.execute_input": "2022-07-13T12:06:17.985454Z",
     "iopub.status.busy": "2022-07-13T12:06:17.985007Z",
     "iopub.status.idle": "2022-07-13T12:06:17.991781Z",
     "shell.execute_reply": "2022-07-13T12:06:17.990844Z"
    },
    "papermill": {
     "duration": 0.051709,
     "end_time": "2022-07-13T12:06:17.994017",
     "exception": false,
     "start_time": "2022-07-13T12:06:17.942308",
     "status": "completed"
    },
    "tags": []
   },
   "outputs": [],
   "source": [
    "df_all_new.drop(['Fare_exp','Fare','Age'],axis=1,inplace=True)"
   ]
  },
  {
   "cell_type": "code",
   "execution_count": 63,
   "id": "e625dba6",
   "metadata": {
    "execution": {
     "iopub.execute_input": "2022-07-13T12:06:18.078825Z",
     "iopub.status.busy": "2022-07-13T12:06:18.078085Z",
     "iopub.status.idle": "2022-07-13T12:06:18.094958Z",
     "shell.execute_reply": "2022-07-13T12:06:18.093382Z"
    },
    "papermill": {
     "duration": 0.061617,
     "end_time": "2022-07-13T12:06:18.097643",
     "exception": false,
     "start_time": "2022-07-13T12:06:18.036026",
     "status": "completed"
    },
    "tags": []
   },
   "outputs": [
    {
     "name": "stdout",
     "output_type": "stream",
     "text": [
      "<class 'pandas.core.frame.DataFrame'>\n",
      "RangeIndex: 1309 entries, 0 to 1308\n",
      "Data columns (total 28 columns):\n",
      " #   Column       Non-Null Count  Dtype  \n",
      "---  ------       --------------  -----  \n",
      " 0   PassengerId  1309 non-null   int64  \n",
      " 1   Survived     891 non-null    float64\n",
      " 2   Name         1309 non-null   object \n",
      " 3   SibSp        1309 non-null   int64  \n",
      " 4   Parch        1309 non-null   int64  \n",
      " 5   Fsize        1309 non-null   int64  \n",
      " 6   family_size  1309 non-null   int64  \n",
      " 7   Sex_female   1309 non-null   uint8  \n",
      " 8   Sex_male     1309 non-null   uint8  \n",
      " 9   Embarked_C   1309 non-null   uint8  \n",
      " 10  Embarked_Q   1309 non-null   uint8  \n",
      " 11  Embarked_S   1309 non-null   uint8  \n",
      " 12  Deck_A       1309 non-null   uint8  \n",
      " 13  Deck_B       1309 non-null   uint8  \n",
      " 14  Deck_C       1309 non-null   uint8  \n",
      " 15  Deck_D       1309 non-null   uint8  \n",
      " 16  Deck_E       1309 non-null   uint8  \n",
      " 17  Deck_F       1309 non-null   uint8  \n",
      " 18  Deck_G       1309 non-null   uint8  \n",
      " 19  Deck_M       1309 non-null   uint8  \n",
      " 20  Deck_T       1309 non-null   uint8  \n",
      " 21  Pclass_2     1309 non-null   uint8  \n",
      " 22  Pclass_3     1309 non-null   uint8  \n",
      " 23  Title_2.0    1309 non-null   uint8  \n",
      " 24  Title_3.0    1309 non-null   uint8  \n",
      " 25  Title_4.0    1309 non-null   uint8  \n",
      " 26  fare_sqr     1309 non-null   float64\n",
      " 27  Age_boxcox   1309 non-null   float64\n",
      "dtypes: float64(3), int64(5), object(1), uint8(19)\n",
      "memory usage: 116.5+ KB\n"
     ]
    }
   ],
   "source": [
    "df_all_new.info()"
   ]
  },
  {
   "cell_type": "code",
   "execution_count": null,
   "id": "63753055",
   "metadata": {
    "papermill": {
     "duration": 0.040986,
     "end_time": "2022-07-13T12:06:18.180461",
     "exception": false,
     "start_time": "2022-07-13T12:06:18.139475",
     "status": "completed"
    },
    "tags": []
   },
   "outputs": [],
   "source": []
  },
  {
   "cell_type": "code",
   "execution_count": 64,
   "id": "e0529a27",
   "metadata": {
    "execution": {
     "iopub.execute_input": "2022-07-13T12:06:18.264562Z",
     "iopub.status.busy": "2022-07-13T12:06:18.263953Z",
     "iopub.status.idle": "2022-07-13T12:06:18.269732Z",
     "shell.execute_reply": "2022-07-13T12:06:18.268757Z"
    },
    "papermill": {
     "duration": 0.050469,
     "end_time": "2022-07-13T12:06:18.272270",
     "exception": false,
     "start_time": "2022-07-13T12:06:18.221801",
     "status": "completed"
    },
    "tags": []
   },
   "outputs": [],
   "source": [
    "def divide_df(all_data):\n",
    "    # Returns divided dfs of training and test set\n",
    "    return all_data.loc[:890].drop(['PassengerId'],axis=1), all_data.loc[891:].drop(['Survived','PassengerId'], axis=1)"
   ]
  },
  {
   "cell_type": "code",
   "execution_count": 65,
   "id": "e31c4e63",
   "metadata": {
    "execution": {
     "iopub.execute_input": "2022-07-13T12:06:18.357782Z",
     "iopub.status.busy": "2022-07-13T12:06:18.356729Z",
     "iopub.status.idle": "2022-07-13T12:06:18.364942Z",
     "shell.execute_reply": "2022-07-13T12:06:18.363918Z"
    },
    "papermill": {
     "duration": 0.05399,
     "end_time": "2022-07-13T12:06:18.367710",
     "exception": false,
     "start_time": "2022-07-13T12:06:18.313720",
     "status": "completed"
    },
    "tags": []
   },
   "outputs": [],
   "source": [
    "df_train,df_test=divide_df(df_all_new)"
   ]
  },
  {
   "cell_type": "code",
   "execution_count": 66,
   "id": "32e47085",
   "metadata": {
    "execution": {
     "iopub.execute_input": "2022-07-13T12:06:18.509539Z",
     "iopub.status.busy": "2022-07-13T12:06:18.509096Z",
     "iopub.status.idle": "2022-07-13T12:06:18.518948Z",
     "shell.execute_reply": "2022-07-13T12:06:18.517794Z"
    },
    "papermill": {
     "duration": 0.112572,
     "end_time": "2022-07-13T12:06:18.521272",
     "exception": false,
     "start_time": "2022-07-13T12:06:18.408700",
     "status": "completed"
    },
    "tags": []
   },
   "outputs": [
    {
     "data": {
      "text/plain": [
       "Index(['Survived', 'SibSp', 'Parch', 'Fsize', 'family_size', 'Sex_female',\n",
       "       'Sex_male', 'Embarked_C', 'Embarked_Q', 'Embarked_S', 'Deck_A',\n",
       "       'Deck_B', 'Deck_C', 'Deck_D', 'Deck_E', 'Deck_F', 'Deck_G', 'Deck_M',\n",
       "       'Deck_T', 'Pclass_2', 'Pclass_3', 'Title_2.0', 'Title_3.0', 'Title_4.0',\n",
       "       'fare_sqr', 'Age_boxcox'],\n",
       "      dtype='object')"
      ]
     },
     "execution_count": 66,
     "metadata": {},
     "output_type": "execute_result"
    }
   ],
   "source": [
    "\n",
    "df_train.drop('Name',inplace=True,axis=1)\n",
    "df_train.columns"
   ]
  },
  {
   "cell_type": "code",
   "execution_count": 67,
   "id": "b63fed02",
   "metadata": {
    "execution": {
     "iopub.execute_input": "2022-07-13T12:06:18.606852Z",
     "iopub.status.busy": "2022-07-13T12:06:18.606452Z",
     "iopub.status.idle": "2022-07-13T12:06:18.616566Z",
     "shell.execute_reply": "2022-07-13T12:06:18.615539Z"
    },
    "papermill": {
     "duration": 0.05639,
     "end_time": "2022-07-13T12:06:18.619039",
     "exception": false,
     "start_time": "2022-07-13T12:06:18.562649",
     "status": "completed"
    },
    "tags": []
   },
   "outputs": [
    {
     "data": {
      "text/plain": [
       "Index(['SibSp', 'Parch', 'Fsize', 'family_size', 'Sex_female', 'Sex_male',\n",
       "       'Embarked_C', 'Embarked_Q', 'Embarked_S', 'Deck_A', 'Deck_B', 'Deck_C',\n",
       "       'Deck_D', 'Deck_E', 'Deck_F', 'Deck_G', 'Deck_M', 'Deck_T', 'Pclass_2',\n",
       "       'Pclass_3', 'Title_2.0', 'Title_3.0', 'Title_4.0', 'fare_sqr',\n",
       "       'Age_boxcox'],\n",
       "      dtype='object')"
      ]
     },
     "execution_count": 67,
     "metadata": {},
     "output_type": "execute_result"
    }
   ],
   "source": [
    "\n",
    "df_test.drop('Name',inplace=True,axis=1)\n",
    "df_test.columns"
   ]
  },
  {
   "cell_type": "code",
   "execution_count": 68,
   "id": "b2286009",
   "metadata": {
    "execution": {
     "iopub.execute_input": "2022-07-13T12:06:18.708206Z",
     "iopub.status.busy": "2022-07-13T12:06:18.707423Z",
     "iopub.status.idle": "2022-07-13T12:06:18.721600Z",
     "shell.execute_reply": "2022-07-13T12:06:18.720376Z"
    },
    "papermill": {
     "duration": 0.063098,
     "end_time": "2022-07-13T12:06:18.723952",
     "exception": false,
     "start_time": "2022-07-13T12:06:18.660854",
     "status": "completed"
    },
    "tags": []
   },
   "outputs": [
    {
     "data": {
      "text/plain": [
       "((623, 25), (268, 25), (623,), (268,))"
      ]
     },
     "execution_count": 68,
     "metadata": {},
     "output_type": "execute_result"
    }
   ],
   "source": [
    "df=df_train.drop('Survived',axis=1)\n",
    "target=df_train.Survived\n",
    "X_train,X_test,y_train,y_test=train_test_split(df,target,test_size=0.3,random_state=SEED)\n",
    "X_train.shape,X_test.shape,y_train.shape,y_test.shape"
   ]
  },
  {
   "cell_type": "code",
   "execution_count": null,
   "id": "3fce99d0",
   "metadata": {
    "papermill": {
     "duration": 0.041682,
     "end_time": "2022-07-13T12:06:18.807651",
     "exception": false,
     "start_time": "2022-07-13T12:06:18.765969",
     "status": "completed"
    },
    "tags": []
   },
   "outputs": [],
   "source": []
  },
  {
   "cell_type": "code",
   "execution_count": null,
   "id": "7c139adb",
   "metadata": {
    "papermill": {
     "duration": 0.041275,
     "end_time": "2022-07-13T12:06:18.890476",
     "exception": false,
     "start_time": "2022-07-13T12:06:18.849201",
     "status": "completed"
    },
    "tags": []
   },
   "outputs": [],
   "source": []
  },
  {
   "cell_type": "markdown",
   "id": "cbc95418",
   "metadata": {
    "papermill": {
     "duration": 0.041536,
     "end_time": "2022-07-13T12:06:18.973686",
     "exception": false,
     "start_time": "2022-07-13T12:06:18.932150",
     "status": "completed"
    },
    "tags": []
   },
   "source": [
    "## **2.3 Modelling**"
   ]
  },
  {
   "cell_type": "code",
   "execution_count": 69,
   "id": "6e071c16",
   "metadata": {
    "execution": {
     "iopub.execute_input": "2022-07-13T12:06:19.060077Z",
     "iopub.status.busy": "2022-07-13T12:06:19.059098Z",
     "iopub.status.idle": "2022-07-13T12:06:58.250671Z",
     "shell.execute_reply": "2022-07-13T12:06:58.249213Z"
    },
    "papermill": {
     "duration": 39.237791,
     "end_time": "2022-07-13T12:06:58.253471",
     "exception": false,
     "start_time": "2022-07-13T12:06:19.015680",
     "status": "completed"
    },
    "tags": []
   },
   "outputs": [
    {
     "name": "stdout",
     "output_type": "stream",
     "text": [
      "--------------The Accuracy of the model----------------------------\n",
      "The cross validated score for Random Forest Classifier is: 82.83\n"
     ]
    },
    {
     "data": {
      "text/plain": [
       "Text(0.5, 1.05, 'Confusion_matrix')"
      ]
     },
     "execution_count": 69,
     "metadata": {},
     "output_type": "execute_result"
    },
    {
     "data": {
      "image/png": "[encoded data removed]",
      "text/plain": [
       "<Figure size 432x288 with 2 Axes>"
      ]
     },
     "metadata": {},
     "output_type": "display_data"
    }
   ],
   "source": [
    "model = RandomForestClassifier(criterion='gini', n_estimators=700,\n",
    "                             min_samples_split=10,min_samples_leaf=1,\n",
    "                             max_features='auto',oob_score=True,\n",
    "                             random_state=1,n_jobs=-1)\n",
    "#model.fit(X_train,y_train)\n",
    "#prediction_rm=model.predict(X_test)\n",
    "print('--------------The Accuracy of the model----------------------------')\n",
    "#print('The accuracy of the Random Forest Classifier is',round(accuracy_score(prediction_rm,y_test)*100,2))\n",
    "\n",
    "result_rm=cross_val_score(model,df,target,cv=10,scoring='accuracy')\n",
    "print('The cross validated score for Random Forest Classifier is:',round(result_rm.mean()*100,2))\n",
    "# for cross_val_pred no need of cross_val fitting\n",
    "y_pred = cross_val_predict(model,df,target,cv=10)\n",
    "sns.heatmap(confusion_matrix(target,y_pred),annot=True,fmt='3.0f',cmap=\"summer\")\n",
    "plt.title('Confusion_matrix', y=1.05, size=15)"
   ]
  },
  {
   "cell_type": "code",
   "execution_count": 70,
   "id": "79a17729",
   "metadata": {
    "execution": {
     "iopub.execute_input": "2022-07-13T12:06:58.341282Z",
     "iopub.status.busy": "2022-07-13T12:06:58.340431Z",
     "iopub.status.idle": "2022-07-13T12:07:01.352767Z",
     "shell.execute_reply": "2022-07-13T12:07:01.351402Z"
    },
    "papermill": {
     "duration": 3.059327,
     "end_time": "2022-07-13T12:07:01.355483",
     "exception": false,
     "start_time": "2022-07-13T12:06:58.296156",
     "status": "completed"
    },
    "tags": []
   },
   "outputs": [
    {
     "data": {
      "text/html": [
       "<div>\n",
       "<style scoped>\n",
       "    .dataframe tbody tr th:only-of-type {\n",
       "        vertical-align: middle;\n",
       "    }\n",
       "\n",
       "    .dataframe tbody tr th {\n",
       "        vertical-align: top;\n",
       "    }\n",
       "\n",
       "    .dataframe thead th {\n",
       "        text-align: right;\n",
       "    }\n",
       "</style>\n",
       "<table border=\"1\" class=\"dataframe\">\n",
       "  <thead>\n",
       "    <tr style=\"text-align: right;\">\n",
       "      <th></th>\n",
       "      <th>SibSp</th>\n",
       "      <th>Parch</th>\n",
       "      <th>Fsize</th>\n",
       "      <th>family_size</th>\n",
       "      <th>Sex_female</th>\n",
       "      <th>Sex_male</th>\n",
       "      <th>Embarked_C</th>\n",
       "      <th>Embarked_Q</th>\n",
       "      <th>Embarked_S</th>\n",
       "      <th>Deck_A</th>\n",
       "      <th>Deck_B</th>\n",
       "      <th>Deck_C</th>\n",
       "      <th>Deck_D</th>\n",
       "      <th>Deck_E</th>\n",
       "      <th>Deck_F</th>\n",
       "      <th>Deck_G</th>\n",
       "      <th>Deck_M</th>\n",
       "      <th>Deck_T</th>\n",
       "      <th>Pclass_2</th>\n",
       "      <th>Pclass_3</th>\n",
       "      <th>Title_2.0</th>\n",
       "      <th>Title_3.0</th>\n",
       "      <th>Title_4.0</th>\n",
       "      <th>fare_sqr</th>\n",
       "      <th>Age_boxcox</th>\n",
       "    </tr>\n",
       "  </thead>\n",
       "  <tbody>\n",
       "    <tr>\n",
       "      <th>891</th>\n",
       "      <td>0</td>\n",
       "      <td>0</td>\n",
       "      <td>0</td>\n",
       "      <td>1</td>\n",
       "      <td>0</td>\n",
       "      <td>1</td>\n",
       "      <td>0</td>\n",
       "      <td>1</td>\n",
       "      <td>0</td>\n",
       "      <td>0</td>\n",
       "      <td>0</td>\n",
       "      <td>0</td>\n",
       "      <td>0</td>\n",
       "      <td>0</td>\n",
       "      <td>0</td>\n",
       "      <td>0</td>\n",
       "      <td>1</td>\n",
       "      <td>0</td>\n",
       "      <td>0</td>\n",
       "      <td>1</td>\n",
       "      <td>0</td>\n",
       "      <td>0</td>\n",
       "      <td>0</td>\n",
       "      <td>2.798071</td>\n",
       "      <td>17.707954</td>\n",
       "    </tr>\n",
       "    <tr>\n",
       "      <th>892</th>\n",
       "      <td>1</td>\n",
       "      <td>0</td>\n",
       "      <td>1</td>\n",
       "      <td>2</td>\n",
       "      <td>1</td>\n",
       "      <td>0</td>\n",
       "      <td>0</td>\n",
       "      <td>0</td>\n",
       "      <td>1</td>\n",
       "      <td>0</td>\n",
       "      <td>0</td>\n",
       "      <td>0</td>\n",
       "      <td>0</td>\n",
       "      <td>0</td>\n",
       "      <td>0</td>\n",
       "      <td>0</td>\n",
       "      <td>1</td>\n",
       "      <td>0</td>\n",
       "      <td>0</td>\n",
       "      <td>1</td>\n",
       "      <td>1</td>\n",
       "      <td>0</td>\n",
       "      <td>0</td>\n",
       "      <td>2.645751</td>\n",
       "      <td>22.687099</td>\n",
       "    </tr>\n",
       "    <tr>\n",
       "      <th>893</th>\n",
       "      <td>0</td>\n",
       "      <td>0</td>\n",
       "      <td>0</td>\n",
       "      <td>1</td>\n",
       "      <td>0</td>\n",
       "      <td>1</td>\n",
       "      <td>0</td>\n",
       "      <td>1</td>\n",
       "      <td>0</td>\n",
       "      <td>0</td>\n",
       "      <td>0</td>\n",
       "      <td>0</td>\n",
       "      <td>0</td>\n",
       "      <td>0</td>\n",
       "      <td>0</td>\n",
       "      <td>0</td>\n",
       "      <td>1</td>\n",
       "      <td>0</td>\n",
       "      <td>1</td>\n",
       "      <td>0</td>\n",
       "      <td>0</td>\n",
       "      <td>0</td>\n",
       "      <td>0</td>\n",
       "      <td>3.112475</td>\n",
       "      <td>28.244097</td>\n",
       "    </tr>\n",
       "    <tr>\n",
       "      <th>894</th>\n",
       "      <td>0</td>\n",
       "      <td>0</td>\n",
       "      <td>0</td>\n",
       "      <td>1</td>\n",
       "      <td>0</td>\n",
       "      <td>1</td>\n",
       "      <td>0</td>\n",
       "      <td>0</td>\n",
       "      <td>1</td>\n",
       "      <td>0</td>\n",
       "      <td>0</td>\n",
       "      <td>0</td>\n",
       "      <td>0</td>\n",
       "      <td>0</td>\n",
       "      <td>0</td>\n",
       "      <td>0</td>\n",
       "      <td>1</td>\n",
       "      <td>0</td>\n",
       "      <td>0</td>\n",
       "      <td>1</td>\n",
       "      <td>0</td>\n",
       "      <td>0</td>\n",
       "      <td>0</td>\n",
       "      <td>2.943213</td>\n",
       "      <td>14.505306</td>\n",
       "    </tr>\n",
       "    <tr>\n",
       "      <th>895</th>\n",
       "      <td>1</td>\n",
       "      <td>1</td>\n",
       "      <td>2</td>\n",
       "      <td>2</td>\n",
       "      <td>1</td>\n",
       "      <td>0</td>\n",
       "      <td>0</td>\n",
       "      <td>0</td>\n",
       "      <td>1</td>\n",
       "      <td>0</td>\n",
       "      <td>0</td>\n",
       "      <td>0</td>\n",
       "      <td>0</td>\n",
       "      <td>0</td>\n",
       "      <td>0</td>\n",
       "      <td>0</td>\n",
       "      <td>1</td>\n",
       "      <td>0</td>\n",
       "      <td>0</td>\n",
       "      <td>1</td>\n",
       "      <td>1</td>\n",
       "      <td>0</td>\n",
       "      <td>0</td>\n",
       "      <td>3.505353</td>\n",
       "      <td>12.246655</td>\n",
       "    </tr>\n",
       "    <tr>\n",
       "      <th>...</th>\n",
       "      <td>...</td>\n",
       "      <td>...</td>\n",
       "      <td>...</td>\n",
       "      <td>...</td>\n",
       "      <td>...</td>\n",
       "      <td>...</td>\n",
       "      <td>...</td>\n",
       "      <td>...</td>\n",
       "      <td>...</td>\n",
       "      <td>...</td>\n",
       "      <td>...</td>\n",
       "      <td>...</td>\n",
       "      <td>...</td>\n",
       "      <td>...</td>\n",
       "      <td>...</td>\n",
       "      <td>...</td>\n",
       "      <td>...</td>\n",
       "      <td>...</td>\n",
       "      <td>...</td>\n",
       "      <td>...</td>\n",
       "      <td>...</td>\n",
       "      <td>...</td>\n",
       "      <td>...</td>\n",
       "      <td>...</td>\n",
       "      <td>...</td>\n",
       "    </tr>\n",
       "    <tr>\n",
       "      <th>1304</th>\n",
       "      <td>0</td>\n",
       "      <td>0</td>\n",
       "      <td>0</td>\n",
       "      <td>1</td>\n",
       "      <td>0</td>\n",
       "      <td>1</td>\n",
       "      <td>0</td>\n",
       "      <td>0</td>\n",
       "      <td>1</td>\n",
       "      <td>0</td>\n",
       "      <td>0</td>\n",
       "      <td>0</td>\n",
       "      <td>0</td>\n",
       "      <td>0</td>\n",
       "      <td>0</td>\n",
       "      <td>0</td>\n",
       "      <td>1</td>\n",
       "      <td>0</td>\n",
       "      <td>0</td>\n",
       "      <td>1</td>\n",
       "      <td>0</td>\n",
       "      <td>0</td>\n",
       "      <td>0</td>\n",
       "      <td>2.837252</td>\n",
       "      <td>13.615507</td>\n",
       "    </tr>\n",
       "    <tr>\n",
       "      <th>1305</th>\n",
       "      <td>0</td>\n",
       "      <td>0</td>\n",
       "      <td>0</td>\n",
       "      <td>1</td>\n",
       "      <td>1</td>\n",
       "      <td>0</td>\n",
       "      <td>1</td>\n",
       "      <td>0</td>\n",
       "      <td>0</td>\n",
       "      <td>0</td>\n",
       "      <td>0</td>\n",
       "      <td>1</td>\n",
       "      <td>0</td>\n",
       "      <td>0</td>\n",
       "      <td>0</td>\n",
       "      <td>0</td>\n",
       "      <td>0</td>\n",
       "      <td>0</td>\n",
       "      <td>0</td>\n",
       "      <td>0</td>\n",
       "      <td>0</td>\n",
       "      <td>0</td>\n",
       "      <td>1</td>\n",
       "      <td>10.435516</td>\n",
       "      <td>19.545186</td>\n",
       "    </tr>\n",
       "    <tr>\n",
       "      <th>1306</th>\n",
       "      <td>0</td>\n",
       "      <td>0</td>\n",
       "      <td>0</td>\n",
       "      <td>1</td>\n",
       "      <td>0</td>\n",
       "      <td>1</td>\n",
       "      <td>0</td>\n",
       "      <td>0</td>\n",
       "      <td>1</td>\n",
       "      <td>0</td>\n",
       "      <td>0</td>\n",
       "      <td>0</td>\n",
       "      <td>0</td>\n",
       "      <td>0</td>\n",
       "      <td>0</td>\n",
       "      <td>0</td>\n",
       "      <td>1</td>\n",
       "      <td>0</td>\n",
       "      <td>0</td>\n",
       "      <td>1</td>\n",
       "      <td>0</td>\n",
       "      <td>0</td>\n",
       "      <td>0</td>\n",
       "      <td>2.692582</td>\n",
       "      <td>19.343759</td>\n",
       "    </tr>\n",
       "    <tr>\n",
       "      <th>1307</th>\n",
       "      <td>0</td>\n",
       "      <td>0</td>\n",
       "      <td>0</td>\n",
       "      <td>1</td>\n",
       "      <td>0</td>\n",
       "      <td>1</td>\n",
       "      <td>0</td>\n",
       "      <td>0</td>\n",
       "      <td>1</td>\n",
       "      <td>0</td>\n",
       "      <td>0</td>\n",
       "      <td>0</td>\n",
       "      <td>0</td>\n",
       "      <td>0</td>\n",
       "      <td>0</td>\n",
       "      <td>0</td>\n",
       "      <td>1</td>\n",
       "      <td>0</td>\n",
       "      <td>0</td>\n",
       "      <td>1</td>\n",
       "      <td>0</td>\n",
       "      <td>0</td>\n",
       "      <td>0</td>\n",
       "      <td>2.837252</td>\n",
       "      <td>13.615507</td>\n",
       "    </tr>\n",
       "    <tr>\n",
       "      <th>1308</th>\n",
       "      <td>1</td>\n",
       "      <td>1</td>\n",
       "      <td>2</td>\n",
       "      <td>2</td>\n",
       "      <td>0</td>\n",
       "      <td>1</td>\n",
       "      <td>1</td>\n",
       "      <td>0</td>\n",
       "      <td>0</td>\n",
       "      <td>0</td>\n",
       "      <td>0</td>\n",
       "      <td>0</td>\n",
       "      <td>0</td>\n",
       "      <td>0</td>\n",
       "      <td>0</td>\n",
       "      <td>0</td>\n",
       "      <td>1</td>\n",
       "      <td>0</td>\n",
       "      <td>0</td>\n",
       "      <td>1</td>\n",
       "      <td>0</td>\n",
       "      <td>1</td>\n",
       "      <td>0</td>\n",
       "      <td>4.728456</td>\n",
       "      <td>13.615507</td>\n",
       "    </tr>\n",
       "  </tbody>\n",
       "</table>\n",
       "<p>418 rows × 25 columns</p>\n",
       "</div>"
      ],
      "text/plain": [
       "      SibSp  Parch  Fsize  family_size  Sex_female  Sex_male  Embarked_C  \\\n",
       "891       0      0      0            1           0         1           0   \n",
       "892       1      0      1            2           1         0           0   \n",
       "893       0      0      0            1           0         1           0   \n",
       "894       0      0      0            1           0         1           0   \n",
       "895       1      1      2            2           1         0           0   \n",
       "...     ...    ...    ...          ...         ...       ...         ...   \n",
       "1304      0      0      0            1           0         1           0   \n",
       "1305      0      0      0            1           1         0           1   \n",
       "1306      0      0      0            1           0         1           0   \n",
       "1307      0      0      0            1           0         1           0   \n",
       "1308      1      1      2            2           0         1           1   \n",
       "\n",
       "      Embarked_Q  Embarked_S  Deck_A  Deck_B  Deck_C  Deck_D  Deck_E  Deck_F  \\\n",
       "891            1           0       0       0       0       0       0       0   \n",
       "892            0           1       0       0       0       0       0       0   \n",
       "893            1           0       0       0       0       0       0       0   \n",
       "894            0           1       0       0       0       0       0       0   \n",
       "895            0           1       0       0       0       0       0       0   \n",
       "...          ...         ...     ...     ...     ...     ...     ...     ...   \n",
       "1304           0           1       0       0       0       0       0       0   \n",
       "1305           0           0       0       0       1       0       0       0   \n",
       "1306           0           1       0       0       0       0       0       0   \n",
       "1307           0           1       0       0       0       0       0       0   \n",
       "1308           0           0       0       0       0       0       0       0   \n",
       "\n",
       "      Deck_G  Deck_M  Deck_T  Pclass_2  Pclass_3  Title_2.0  Title_3.0  \\\n",
       "891        0       1       0         0         1          0          0   \n",
       "892        0       1       0         0         1          1          0   \n",
       "893        0       1       0         1         0          0          0   \n",
       "894        0       1       0         0         1          0          0   \n",
       "895        0       1       0         0         1          1          0   \n",
       "...      ...     ...     ...       ...       ...        ...        ...   \n",
       "1304       0       1       0         0         1          0          0   \n",
       "1305       0       0       0         0         0          0          0   \n",
       "1306       0       1       0         0         1          0          0   \n",
       "1307       0       1       0         0         1          0          0   \n",
       "1308       0       1       0         0         1          0          1   \n",
       "\n",
       "      Title_4.0   fare_sqr  Age_boxcox  \n",
       "891           0   2.798071   17.707954  \n",
       "892           0   2.645751   22.687099  \n",
       "893           0   3.112475   28.244097  \n",
       "894           0   2.943213   14.505306  \n",
       "895           0   3.505353   12.246655  \n",
       "...         ...        ...         ...  \n",
       "1304          0   2.837252   13.615507  \n",
       "1305          1  10.435516   19.545186  \n",
       "1306          0   2.692582   19.343759  \n",
       "1307          0   2.837252   13.615507  \n",
       "1308          0   4.728456   13.615507  \n",
       "\n",
       "[418 rows x 25 columns]"
      ]
     },
     "execution_count": 70,
     "metadata": {},
     "output_type": "execute_result"
    }
   ],
   "source": [
    "model.fit(df,target)\n",
    "pred_test=model.predict(df_test)\n",
    "df_test\n",
    "#Comparison between models and tuning needs to be done"
   ]
  },
  {
   "cell_type": "code",
   "execution_count": 71,
   "id": "a7dcdff0",
   "metadata": {
    "execution": {
     "iopub.execute_input": "2022-07-13T12:07:01.443438Z",
     "iopub.status.busy": "2022-07-13T12:07:01.443008Z",
     "iopub.status.idle": "2022-07-13T12:07:01.453049Z",
     "shell.execute_reply": "2022-07-13T12:07:01.452119Z"
    },
    "papermill": {
     "duration": 0.056611,
     "end_time": "2022-07-13T12:07:01.455642",
     "exception": false,
     "start_time": "2022-07-13T12:07:01.399031",
     "status": "completed"
    },
    "tags": []
   },
   "outputs": [],
   "source": [
    "\n",
    "submission_df['Survived']=pred_test\n",
    "submission_df.to_csv('submissions.csv', header=True, index=False)"
   ]
  }
 ],
 "metadata": {
  "kernelspec": {
   "display_name": "Python 3",
   "language": "python",
   "name": "python3"
  },
  "language_info": {
   "codemirror_mode": {
    "name": "ipython",
    "version": 3
   },
   "file_extension": ".py",
   "mimetype": "text/x-python",
   "name": "python",
   "nbconvert_exporter": "python",
   "pygments_lexer": "ipython3",
   "version": "3.7.12"
  },
  "papermill": {
   "default_parameters": {},
   "duration": 73.342701,
   "end_time": "2022-07-13T12:07:04.120971",
   "environment_variables": {},
   "exception": null,
   "input_path": "__notebook__.ipynb",
   "output_path": "__notebook__.ipynb",
   "parameters": {},
   "start_time": "2022-07-13T12:05:50.778270",
   "version": "2.3.4"
  }
 },
 "nbformat": 4,
 "nbformat_minor": 5
}

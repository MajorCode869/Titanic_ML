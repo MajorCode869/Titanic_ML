{
 "cells": [
  {
   "cell_type": "code",
   "execution_count": 1,
   "id": "67c02afd",
   "metadata": {
    "_cell_guid": "b1076dfc-b9ad-4769-8c92-a6c4dae69d19",
    "_uuid": "8f2839f25d086af736a60e9eeb907d3b93b6e0e5",
    "execution": {
     "iopub.execute_input": "2022-07-12T13:01:43.041920Z",
     "iopub.status.busy": "2022-07-12T13:01:43.041492Z",
     "iopub.status.idle": "2022-07-12T13:01:43.061803Z",
     "shell.execute_reply": "2022-07-12T13:01:43.060663Z"
    },
    "papermill": {
     "duration": 0.030794,
     "end_time": "2022-07-12T13:01:43.064148",
     "exception": false,
     "start_time": "2022-07-12T13:01:43.033354",
     "status": "completed"
    },
    "tags": []
   },
   "outputs": [
    {
     "name": "stdout",
     "output_type": "stream",
     "text": [
      "/kaggle/input/titanic/train.csv\n",
      "/kaggle/input/titanic/test.csv\n",
      "/kaggle/input/titanic/gender_submission.csv\n"
     ]
    }
   ],
   "source": [
    "# This Python 3 environment comes with many helpful analytics libraries installed\n",
    "# It is defined by the kaggle/python Docker image: https://github.com/kaggle/docker-python\n",
    "# For example, here's several helpful packages to load\n",
    "\n",
    "import numpy as np # linear algebra\n",
    "import pandas as pd # data processing, CSV file I/O (e.g. pd.read_csv)\n",
    "\n",
    "# Input data files are available in the read-only \"../input/\" directory\n",
    "# For example, running this (by clicking run or pressing Shift+Enter) will list all files under the input directory\n",
    "\n",
    "import os\n",
    "for dirname, _, filenames in os.walk('/kaggle/input'):\n",
    "    for filename in filenames:\n",
    "        print(os.path.join(dirname, filename))\n",
    "\n",
    "# You can write up to 20GB to the current directory (/kaggle/working/) that gets preserved as output when you create a version using \"Save & Run All\" \n",
    "# You can also write temporary files to /kaggle/temp/, but they won't be saved outside of the current session"
   ]
  },
  {
   "cell_type": "code",
   "execution_count": 2,
   "id": "fcb2af64",
   "metadata": {
    "execution": {
     "iopub.execute_input": "2022-07-12T13:01:43.078321Z",
     "iopub.status.busy": "2022-07-12T13:01:43.077737Z",
     "iopub.status.idle": "2022-07-12T13:01:45.154005Z",
     "shell.execute_reply": "2022-07-12T13:01:45.152616Z"
    },
    "papermill": {
     "duration": 2.086495,
     "end_time": "2022-07-12T13:01:45.156806",
     "exception": false,
     "start_time": "2022-07-12T13:01:43.070311",
     "status": "completed"
    },
    "tags": []
   },
   "outputs": [],
   "source": [
    "import numpy as np\n",
    "import pandas as pd\n",
    "import matplotlib.pyplot as plt\n",
    "import seaborn as sns\n",
    "%matplotlib inline\n",
    "pd.set_option('display.max_columns', None)\n",
    "sns.set(style='whitegrid')\n",
    "\n",
    "from sklearn.experimental import enable_iterative_imputer\n",
    "from sklearn.ensemble import RandomForestClassifier\n",
    "from sklearn.preprocessing import OneHotEncoder, LabelEncoder, StandardScaler\n",
    "from sklearn.impute import SimpleImputer, IterativeImputer\n",
    "from sklearn.metrics import roc_curve, auc\n",
    "from sklearn.model_selection import cross_val_score, StratifiedKFold\n",
    "from sklearn.pipeline import Pipeline\n",
    "\n"
   ]
  },
  {
   "cell_type": "code",
   "execution_count": 3,
   "id": "087bfb49",
   "metadata": {
    "execution": {
     "iopub.execute_input": "2022-07-12T13:01:45.170420Z",
     "iopub.status.busy": "2022-07-12T13:01:45.170002Z",
     "iopub.status.idle": "2022-07-12T13:01:45.216936Z",
     "shell.execute_reply": "2022-07-12T13:01:45.215985Z"
    },
    "papermill": {
     "duration": 0.05674,
     "end_time": "2022-07-12T13:01:45.219527",
     "exception": false,
     "start_time": "2022-07-12T13:01:45.162787",
     "status": "completed"
    },
    "tags": []
   },
   "outputs": [],
   "source": [
    "df_train=pd.read_csv('../input/titanic/train.csv')\n",
    "df_test=pd.read_csv('../input/titanic/test.csv')\n",
    "df_all=pd.concat([df_train,df_test],axis=0)\n",
    "\n"
   ]
  },
  {
   "cell_type": "code",
   "execution_count": 4,
   "id": "7819db4a",
   "metadata": {
    "execution": {
     "iopub.execute_input": "2022-07-12T13:01:45.240685Z",
     "iopub.status.busy": "2022-07-12T13:01:45.239992Z",
     "iopub.status.idle": "2022-07-12T13:01:45.274851Z",
     "shell.execute_reply": "2022-07-12T13:01:45.273838Z"
    },
    "papermill": {
     "duration": 0.04841,
     "end_time": "2022-07-12T13:01:45.277567",
     "exception": false,
     "start_time": "2022-07-12T13:01:45.229157",
     "status": "completed"
    },
    "tags": []
   },
   "outputs": [
    {
     "data": {
      "text/html": [
       "<div>\n",
       "<style scoped>\n",
       "    .dataframe tbody tr th:only-of-type {\n",
       "        vertical-align: middle;\n",
       "    }\n",
       "\n",
       "    .dataframe tbody tr th {\n",
       "        vertical-align: top;\n",
       "    }\n",
       "\n",
       "    .dataframe thead th {\n",
       "        text-align: right;\n",
       "    }\n",
       "</style>\n",
       "<table border=\"1\" class=\"dataframe\">\n",
       "  <thead>\n",
       "    <tr style=\"text-align: right;\">\n",
       "      <th></th>\n",
       "      <th>PassengerId</th>\n",
       "      <th>Survived</th>\n",
       "      <th>Pclass</th>\n",
       "      <th>Name</th>\n",
       "      <th>Sex</th>\n",
       "      <th>Age</th>\n",
       "      <th>SibSp</th>\n",
       "      <th>Parch</th>\n",
       "      <th>Ticket</th>\n",
       "      <th>Fare</th>\n",
       "      <th>Cabin</th>\n",
       "      <th>Embarked</th>\n",
       "    </tr>\n",
       "  </thead>\n",
       "  <tbody>\n",
       "    <tr>\n",
       "      <th>0</th>\n",
       "      <td>1</td>\n",
       "      <td>0.0</td>\n",
       "      <td>3</td>\n",
       "      <td>Braund, Mr. Owen Harris</td>\n",
       "      <td>male</td>\n",
       "      <td>22.0</td>\n",
       "      <td>1</td>\n",
       "      <td>0</td>\n",
       "      <td>A/5 21171</td>\n",
       "      <td>7.2500</td>\n",
       "      <td>NaN</td>\n",
       "      <td>S</td>\n",
       "    </tr>\n",
       "    <tr>\n",
       "      <th>1</th>\n",
       "      <td>2</td>\n",
       "      <td>1.0</td>\n",
       "      <td>1</td>\n",
       "      <td>Cumings, Mrs. John Bradley (Florence Briggs Th...</td>\n",
       "      <td>female</td>\n",
       "      <td>38.0</td>\n",
       "      <td>1</td>\n",
       "      <td>0</td>\n",
       "      <td>PC 17599</td>\n",
       "      <td>71.2833</td>\n",
       "      <td>C85</td>\n",
       "      <td>C</td>\n",
       "    </tr>\n",
       "    <tr>\n",
       "      <th>2</th>\n",
       "      <td>3</td>\n",
       "      <td>1.0</td>\n",
       "      <td>3</td>\n",
       "      <td>Heikkinen, Miss. Laina</td>\n",
       "      <td>female</td>\n",
       "      <td>26.0</td>\n",
       "      <td>0</td>\n",
       "      <td>0</td>\n",
       "      <td>STON/O2. 3101282</td>\n",
       "      <td>7.9250</td>\n",
       "      <td>NaN</td>\n",
       "      <td>S</td>\n",
       "    </tr>\n",
       "    <tr>\n",
       "      <th>3</th>\n",
       "      <td>4</td>\n",
       "      <td>1.0</td>\n",
       "      <td>1</td>\n",
       "      <td>Futrelle, Mrs. Jacques Heath (Lily May Peel)</td>\n",
       "      <td>female</td>\n",
       "      <td>35.0</td>\n",
       "      <td>1</td>\n",
       "      <td>0</td>\n",
       "      <td>113803</td>\n",
       "      <td>53.1000</td>\n",
       "      <td>C123</td>\n",
       "      <td>S</td>\n",
       "    </tr>\n",
       "    <tr>\n",
       "      <th>4</th>\n",
       "      <td>5</td>\n",
       "      <td>0.0</td>\n",
       "      <td>3</td>\n",
       "      <td>Allen, Mr. William Henry</td>\n",
       "      <td>male</td>\n",
       "      <td>35.0</td>\n",
       "      <td>0</td>\n",
       "      <td>0</td>\n",
       "      <td>373450</td>\n",
       "      <td>8.0500</td>\n",
       "      <td>NaN</td>\n",
       "      <td>S</td>\n",
       "    </tr>\n",
       "    <tr>\n",
       "      <th>...</th>\n",
       "      <td>...</td>\n",
       "      <td>...</td>\n",
       "      <td>...</td>\n",
       "      <td>...</td>\n",
       "      <td>...</td>\n",
       "      <td>...</td>\n",
       "      <td>...</td>\n",
       "      <td>...</td>\n",
       "      <td>...</td>\n",
       "      <td>...</td>\n",
       "      <td>...</td>\n",
       "      <td>...</td>\n",
       "    </tr>\n",
       "    <tr>\n",
       "      <th>1304</th>\n",
       "      <td>1305</td>\n",
       "      <td>NaN</td>\n",
       "      <td>3</td>\n",
       "      <td>Spector, Mr. Woolf</td>\n",
       "      <td>male</td>\n",
       "      <td>NaN</td>\n",
       "      <td>0</td>\n",
       "      <td>0</td>\n",
       "      <td>A.5. 3236</td>\n",
       "      <td>8.0500</td>\n",
       "      <td>NaN</td>\n",
       "      <td>S</td>\n",
       "    </tr>\n",
       "    <tr>\n",
       "      <th>1305</th>\n",
       "      <td>1306</td>\n",
       "      <td>NaN</td>\n",
       "      <td>1</td>\n",
       "      <td>Oliva y Ocana, Dona. Fermina</td>\n",
       "      <td>female</td>\n",
       "      <td>39.0</td>\n",
       "      <td>0</td>\n",
       "      <td>0</td>\n",
       "      <td>PC 17758</td>\n",
       "      <td>108.9000</td>\n",
       "      <td>C105</td>\n",
       "      <td>C</td>\n",
       "    </tr>\n",
       "    <tr>\n",
       "      <th>1306</th>\n",
       "      <td>1307</td>\n",
       "      <td>NaN</td>\n",
       "      <td>3</td>\n",
       "      <td>Saether, Mr. Simon Sivertsen</td>\n",
       "      <td>male</td>\n",
       "      <td>38.5</td>\n",
       "      <td>0</td>\n",
       "      <td>0</td>\n",
       "      <td>SOTON/O.Q. 3101262</td>\n",
       "      <td>7.2500</td>\n",
       "      <td>NaN</td>\n",
       "      <td>S</td>\n",
       "    </tr>\n",
       "    <tr>\n",
       "      <th>1307</th>\n",
       "      <td>1308</td>\n",
       "      <td>NaN</td>\n",
       "      <td>3</td>\n",
       "      <td>Ware, Mr. Frederick</td>\n",
       "      <td>male</td>\n",
       "      <td>NaN</td>\n",
       "      <td>0</td>\n",
       "      <td>0</td>\n",
       "      <td>359309</td>\n",
       "      <td>8.0500</td>\n",
       "      <td>NaN</td>\n",
       "      <td>S</td>\n",
       "    </tr>\n",
       "    <tr>\n",
       "      <th>1308</th>\n",
       "      <td>1309</td>\n",
       "      <td>NaN</td>\n",
       "      <td>3</td>\n",
       "      <td>Peter, Master. Michael J</td>\n",
       "      <td>male</td>\n",
       "      <td>NaN</td>\n",
       "      <td>1</td>\n",
       "      <td>1</td>\n",
       "      <td>2668</td>\n",
       "      <td>22.3583</td>\n",
       "      <td>NaN</td>\n",
       "      <td>C</td>\n",
       "    </tr>\n",
       "  </tbody>\n",
       "</table>\n",
       "<p>1309 rows × 12 columns</p>\n",
       "</div>"
      ],
      "text/plain": [
       "      PassengerId  Survived  Pclass  \\\n",
       "0               1       0.0       3   \n",
       "1               2       1.0       1   \n",
       "2               3       1.0       3   \n",
       "3               4       1.0       1   \n",
       "4               5       0.0       3   \n",
       "...           ...       ...     ...   \n",
       "1304         1305       NaN       3   \n",
       "1305         1306       NaN       1   \n",
       "1306         1307       NaN       3   \n",
       "1307         1308       NaN       3   \n",
       "1308         1309       NaN       3   \n",
       "\n",
       "                                                   Name     Sex   Age  SibSp  \\\n",
       "0                               Braund, Mr. Owen Harris    male  22.0      1   \n",
       "1     Cumings, Mrs. John Bradley (Florence Briggs Th...  female  38.0      1   \n",
       "2                                Heikkinen, Miss. Laina  female  26.0      0   \n",
       "3          Futrelle, Mrs. Jacques Heath (Lily May Peel)  female  35.0      1   \n",
       "4                              Allen, Mr. William Henry    male  35.0      0   \n",
       "...                                                 ...     ...   ...    ...   \n",
       "1304                                 Spector, Mr. Woolf    male   NaN      0   \n",
       "1305                       Oliva y Ocana, Dona. Fermina  female  39.0      0   \n",
       "1306                       Saether, Mr. Simon Sivertsen    male  38.5      0   \n",
       "1307                                Ware, Mr. Frederick    male   NaN      0   \n",
       "1308                           Peter, Master. Michael J    male   NaN      1   \n",
       "\n",
       "      Parch              Ticket      Fare Cabin Embarked  \n",
       "0         0           A/5 21171    7.2500   NaN        S  \n",
       "1         0            PC 17599   71.2833   C85        C  \n",
       "2         0    STON/O2. 3101282    7.9250   NaN        S  \n",
       "3         0              113803   53.1000  C123        S  \n",
       "4         0              373450    8.0500   NaN        S  \n",
       "...     ...                 ...       ...   ...      ...  \n",
       "1304      0           A.5. 3236    8.0500   NaN        S  \n",
       "1305      0            PC 17758  108.9000  C105        C  \n",
       "1306      0  SOTON/O.Q. 3101262    7.2500   NaN        S  \n",
       "1307      0              359309    8.0500   NaN        S  \n",
       "1308      1                2668   22.3583   NaN        C  \n",
       "\n",
       "[1309 rows x 12 columns]"
      ]
     },
     "execution_count": 4,
     "metadata": {},
     "output_type": "execute_result"
    }
   ],
   "source": [
    "df_all.reset_index(drop=True,inplace=True)\n",
    "df_all"
   ]
  },
  {
   "cell_type": "markdown",
   "id": "412503bc",
   "metadata": {
    "papermill": {
     "duration": 0.009735,
     "end_time": "2022-07-12T13:01:45.297078",
     "exception": false,
     "start_time": "2022-07-12T13:01:45.287343",
     "status": "completed"
    },
    "tags": []
   },
   "source": [
    "### 1.Now we will start basic EDA"
   ]
  },
  {
   "cell_type": "code",
   "execution_count": 5,
   "id": "1ae5c926",
   "metadata": {
    "execution": {
     "iopub.execute_input": "2022-07-12T13:01:45.320551Z",
     "iopub.status.busy": "2022-07-12T13:01:45.319786Z",
     "iopub.status.idle": "2022-07-12T13:01:45.331027Z",
     "shell.execute_reply": "2022-07-12T13:01:45.328927Z"
    },
    "papermill": {
     "duration": 0.025829,
     "end_time": "2022-07-12T13:01:45.333822",
     "exception": false,
     "start_time": "2022-07-12T13:01:45.307993",
     "status": "completed"
    },
    "tags": []
   },
   "outputs": [
    {
     "name": "stdout",
     "output_type": "stream",
     "text": [
      "Number of Training Examples = 891\n",
      "Number of Testing Examples = 418\n",
      "Columns of training data:  Index(['PassengerId', 'Survived', 'Pclass', 'Name', 'Sex', 'Age', 'SibSp',\n",
      "       'Parch', 'Ticket', 'Fare', 'Cabin', 'Embarked'],\n",
      "      dtype='object') Number of columns: 12\n",
      "Columns of testing data:  Index(['PassengerId', 'Pclass', 'Name', 'Sex', 'Age', 'SibSp', 'Parch',\n",
      "       'Ticket', 'Fare', 'Cabin', 'Embarked'],\n",
      "      dtype='object') Number of columns: 11\n",
      "The extra column in training data is {'Survived'}\n"
     ]
    }
   ],
   "source": [
    "print('Number of Training Examples =',df_train.shape[0])\n",
    "print('Number of Testing Examples =',df_test.shape[0])\n",
    "print('Columns of training data: ',df_train.columns,'Number of columns:',len(df_train.columns))\n",
    "print('Columns of testing data: ',df_test.columns,'Number of columns:',len(df_test.columns))\n",
    "print('The extra column in training data is',set(df_train.columns)-set(df_test.columns))"
   ]
  },
  {
   "cell_type": "markdown",
   "id": "743664fa",
   "metadata": {
    "papermill": {
     "duration": 0.005905,
     "end_time": "2022-07-12T13:01:45.346101",
     "exception": false,
     "start_time": "2022-07-12T13:01:45.340196",
     "status": "completed"
    },
    "tags": []
   },
   "source": [
    "The target variable here is **Survived**"
   ]
  },
  {
   "cell_type": "code",
   "execution_count": 6,
   "id": "ddf098ec",
   "metadata": {
    "execution": {
     "iopub.execute_input": "2022-07-12T13:01:45.360786Z",
     "iopub.status.busy": "2022-07-12T13:01:45.360346Z",
     "iopub.status.idle": "2022-07-12T13:01:45.374062Z",
     "shell.execute_reply": "2022-07-12T13:01:45.371868Z"
    },
    "papermill": {
     "duration": 0.024844,
     "end_time": "2022-07-12T13:01:45.377278",
     "exception": false,
     "start_time": "2022-07-12T13:01:45.352434",
     "status": "completed"
    },
    "tags": []
   },
   "outputs": [
    {
     "name": "stdout",
     "output_type": "stream",
     "text": [
      "3    709\n",
      "1    323\n",
      "2    277\n",
      "Name: Pclass, dtype: int64\n",
      "S    914\n",
      "C    270\n",
      "Q    123\n",
      "Name: Embarked, dtype: int64\n"
     ]
    }
   ],
   "source": [
    "print(df_all.Pclass.value_counts())\n",
    "print(df_all.Embarked.value_counts())"
   ]
  },
  {
   "cell_type": "markdown",
   "id": "049cd52d",
   "metadata": {
    "papermill": {
     "duration": 0.006077,
     "end_time": "2022-07-12T13:01:45.390039",
     "exception": false,
     "start_time": "2022-07-12T13:01:45.383962",
     "status": "completed"
    },
    "tags": []
   },
   "source": [
    "#### 1.1 **Overview of features**\n",
    "* PassengerId has no effect on target var.\n",
    "* Survived is the target variable(0 or 1):\n",
    "    * 1=Survived\n",
    "    * 0=Deceased\n",
    "* Pclass( Passenger Class) is a categorical variable(ordinal) having 3 unique values (1,2,3):\n",
    "    * 1=Upper Class\n",
    "    * 2=Middle Class\n",
    "    * 3=Lower Class\n",
    "* Name, Sex and Age are self-explanatory\n",
    "* SibSp is the total number of the passengers' siblings and spouse\n",
    "* Parch is the total number of the passengers' parents and children\n",
    "* Ticket is the ticket number of the passenger\n",
    "* Fare is the passenger fare\n",
    "* Cabin is the cabin number of the passenger\n",
    "* Embarked is port of embarkation and it is a categorical feature which has 3 unique values (C, Q or S):\n",
    "     * S is Southampton\n",
    "     * C is Cherbourg\n",
    "     * Q is Queenstown"
   ]
  },
  {
   "cell_type": "markdown",
   "id": "35cb1dde",
   "metadata": {
    "papermill": {
     "duration": 0.005864,
     "end_time": "2022-07-12T13:01:45.402362",
     "exception": false,
     "start_time": "2022-07-12T13:01:45.396498",
     "status": "completed"
    },
    "tags": []
   },
   "source": [
    "One can see the types of features"
   ]
  },
  {
   "cell_type": "markdown",
   "id": "cd685b09",
   "metadata": {
    "papermill": {
     "duration": 0.005777,
     "end_time": "2022-07-12T13:01:45.414312",
     "exception": false,
     "start_time": "2022-07-12T13:01:45.408535",
     "status": "completed"
    },
    "tags": []
   },
   "source": [
    "\n",
    "features_obj=[]\n",
    "features_num=[]\n",
    "for features in df_all.columns:\n"
   ]
  },
  {
   "cell_type": "code",
   "execution_count": 7,
   "id": "1f5a3205",
   "metadata": {
    "execution": {
     "iopub.execute_input": "2022-07-12T13:01:45.429005Z",
     "iopub.status.busy": "2022-07-12T13:01:45.427625Z",
     "iopub.status.idle": "2022-07-12T13:01:45.434103Z",
     "shell.execute_reply": "2022-07-12T13:01:45.433079Z"
    },
    "papermill": {
     "duration": 0.015985,
     "end_time": "2022-07-12T13:01:45.436511",
     "exception": false,
     "start_time": "2022-07-12T13:01:45.420526",
     "status": "completed"
    },
    "tags": []
   },
   "outputs": [],
   "source": [
    "\n",
    "features_obj=[]\n",
    "features_num=[]\n",
    "for features in df_all.columns:\n",
    "    if df_all[features].dtype=='object':\n",
    "        features_obj.append(features)\n",
    "    else:\n",
    "        features_num.append(features)\n"
   ]
  },
  {
   "cell_type": "markdown",
   "id": "f1d647d5",
   "metadata": {
    "papermill": {
     "duration": 0.009366,
     "end_time": "2022-07-12T13:01:45.455726",
     "exception": false,
     "start_time": "2022-07-12T13:01:45.446360",
     "status": "completed"
    },
    "tags": []
   },
   "source": [
    "**Here we have segregated the types of features**"
   ]
  },
  {
   "cell_type": "code",
   "execution_count": 8,
   "id": "ae0fd780",
   "metadata": {
    "execution": {
     "iopub.execute_input": "2022-07-12T13:01:45.479488Z",
     "iopub.status.busy": "2022-07-12T13:01:45.478013Z",
     "iopub.status.idle": "2022-07-12T13:01:45.484447Z",
     "shell.execute_reply": "2022-07-12T13:01:45.482992Z"
    },
    "papermill": {
     "duration": 0.020541,
     "end_time": "2022-07-12T13:01:45.486840",
     "exception": false,
     "start_time": "2022-07-12T13:01:45.466299",
     "status": "completed"
    },
    "tags": []
   },
   "outputs": [
    {
     "name": "stdout",
     "output_type": "stream",
     "text": [
      "String Features : ['Name', 'Sex', 'Ticket', 'Cabin', 'Embarked']\n",
      "Numerical Features : ['PassengerId', 'Survived', 'Pclass', 'Age', 'SibSp', 'Parch', 'Fare']\n"
     ]
    }
   ],
   "source": [
    "print('String Features :', features_obj)\n",
    "print('Numerical Features :',features_num )"
   ]
  },
  {
   "cell_type": "code",
   "execution_count": 9,
   "id": "456b5bbf",
   "metadata": {
    "execution": {
     "iopub.execute_input": "2022-07-12T13:01:45.508278Z",
     "iopub.status.busy": "2022-07-12T13:01:45.507728Z",
     "iopub.status.idle": "2022-07-12T13:01:45.526219Z",
     "shell.execute_reply": "2022-07-12T13:01:45.525139Z"
    },
    "papermill": {
     "duration": 0.032049,
     "end_time": "2022-07-12T13:01:45.528768",
     "exception": false,
     "start_time": "2022-07-12T13:01:45.496719",
     "status": "completed"
    },
    "tags": []
   },
   "outputs": [
    {
     "data": {
      "text/html": [
       "<div>\n",
       "<style scoped>\n",
       "    .dataframe tbody tr th:only-of-type {\n",
       "        vertical-align: middle;\n",
       "    }\n",
       "\n",
       "    .dataframe tbody tr th {\n",
       "        vertical-align: top;\n",
       "    }\n",
       "\n",
       "    .dataframe thead th {\n",
       "        text-align: right;\n",
       "    }\n",
       "</style>\n",
       "<table border=\"1\" class=\"dataframe\">\n",
       "  <thead>\n",
       "    <tr style=\"text-align: right;\">\n",
       "      <th></th>\n",
       "      <th>PassengerId</th>\n",
       "      <th>Survived</th>\n",
       "      <th>Pclass</th>\n",
       "      <th>Age</th>\n",
       "      <th>SibSp</th>\n",
       "      <th>Parch</th>\n",
       "      <th>Fare</th>\n",
       "    </tr>\n",
       "  </thead>\n",
       "  <tbody>\n",
       "    <tr>\n",
       "      <th>PassengerId</th>\n",
       "      <td>1.000000</td>\n",
       "      <td>-0.005007</td>\n",
       "      <td>-0.038354</td>\n",
       "      <td>0.028814</td>\n",
       "      <td>-0.055224</td>\n",
       "      <td>0.008942</td>\n",
       "      <td>0.031428</td>\n",
       "    </tr>\n",
       "    <tr>\n",
       "      <th>Survived</th>\n",
       "      <td>-0.005007</td>\n",
       "      <td>1.000000</td>\n",
       "      <td>-0.338481</td>\n",
       "      <td>-0.077221</td>\n",
       "      <td>-0.035322</td>\n",
       "      <td>0.081629</td>\n",
       "      <td>0.257307</td>\n",
       "    </tr>\n",
       "    <tr>\n",
       "      <th>Pclass</th>\n",
       "      <td>-0.038354</td>\n",
       "      <td>-0.338481</td>\n",
       "      <td>1.000000</td>\n",
       "      <td>-0.408106</td>\n",
       "      <td>0.060832</td>\n",
       "      <td>0.018322</td>\n",
       "      <td>-0.558629</td>\n",
       "    </tr>\n",
       "    <tr>\n",
       "      <th>Age</th>\n",
       "      <td>0.028814</td>\n",
       "      <td>-0.077221</td>\n",
       "      <td>-0.408106</td>\n",
       "      <td>1.000000</td>\n",
       "      <td>-0.243699</td>\n",
       "      <td>-0.150917</td>\n",
       "      <td>0.178740</td>\n",
       "    </tr>\n",
       "    <tr>\n",
       "      <th>SibSp</th>\n",
       "      <td>-0.055224</td>\n",
       "      <td>-0.035322</td>\n",
       "      <td>0.060832</td>\n",
       "      <td>-0.243699</td>\n",
       "      <td>1.000000</td>\n",
       "      <td>0.373587</td>\n",
       "      <td>0.160238</td>\n",
       "    </tr>\n",
       "    <tr>\n",
       "      <th>Parch</th>\n",
       "      <td>0.008942</td>\n",
       "      <td>0.081629</td>\n",
       "      <td>0.018322</td>\n",
       "      <td>-0.150917</td>\n",
       "      <td>0.373587</td>\n",
       "      <td>1.000000</td>\n",
       "      <td>0.221539</td>\n",
       "    </tr>\n",
       "    <tr>\n",
       "      <th>Fare</th>\n",
       "      <td>0.031428</td>\n",
       "      <td>0.257307</td>\n",
       "      <td>-0.558629</td>\n",
       "      <td>0.178740</td>\n",
       "      <td>0.160238</td>\n",
       "      <td>0.221539</td>\n",
       "      <td>1.000000</td>\n",
       "    </tr>\n",
       "  </tbody>\n",
       "</table>\n",
       "</div>"
      ],
      "text/plain": [
       "             PassengerId  Survived    Pclass       Age     SibSp     Parch  \\\n",
       "PassengerId     1.000000 -0.005007 -0.038354  0.028814 -0.055224  0.008942   \n",
       "Survived       -0.005007  1.000000 -0.338481 -0.077221 -0.035322  0.081629   \n",
       "Pclass         -0.038354 -0.338481  1.000000 -0.408106  0.060832  0.018322   \n",
       "Age             0.028814 -0.077221 -0.408106  1.000000 -0.243699 -0.150917   \n",
       "SibSp          -0.055224 -0.035322  0.060832 -0.243699  1.000000  0.373587   \n",
       "Parch           0.008942  0.081629  0.018322 -0.150917  0.373587  1.000000   \n",
       "Fare            0.031428  0.257307 -0.558629  0.178740  0.160238  0.221539   \n",
       "\n",
       "                 Fare  \n",
       "PassengerId  0.031428  \n",
       "Survived     0.257307  \n",
       "Pclass      -0.558629  \n",
       "Age          0.178740  \n",
       "SibSp        0.160238  \n",
       "Parch        0.221539  \n",
       "Fare         1.000000  "
      ]
     },
     "execution_count": 9,
     "metadata": {},
     "output_type": "execute_result"
    }
   ],
   "source": [
    "df_all.corr()"
   ]
  },
  {
   "cell_type": "code",
   "execution_count": 10,
   "id": "301fc3ad",
   "metadata": {
    "execution": {
     "iopub.execute_input": "2022-07-12T13:01:45.552051Z",
     "iopub.status.busy": "2022-07-12T13:01:45.551477Z",
     "iopub.status.idle": "2022-07-12T13:01:45.574082Z",
     "shell.execute_reply": "2022-07-12T13:01:45.572362Z"
    },
    "papermill": {
     "duration": 0.038054,
     "end_time": "2022-07-12T13:01:45.578008",
     "exception": false,
     "start_time": "2022-07-12T13:01:45.539954",
     "status": "completed"
    },
    "tags": []
   },
   "outputs": [
    {
     "name": "stdout",
     "output_type": "stream",
     "text": [
      "<class 'pandas.core.frame.DataFrame'>\n",
      "RangeIndex: 1309 entries, 0 to 1308\n",
      "Data columns (total 12 columns):\n",
      " #   Column       Non-Null Count  Dtype  \n",
      "---  ------       --------------  -----  \n",
      " 0   PassengerId  1309 non-null   int64  \n",
      " 1   Survived     891 non-null    float64\n",
      " 2   Pclass       1309 non-null   int64  \n",
      " 3   Name         1309 non-null   object \n",
      " 4   Sex          1309 non-null   object \n",
      " 5   Age          1046 non-null   float64\n",
      " 6   SibSp        1309 non-null   int64  \n",
      " 7   Parch        1309 non-null   int64  \n",
      " 8   Ticket       1309 non-null   object \n",
      " 9   Fare         1308 non-null   float64\n",
      " 10  Cabin        295 non-null    object \n",
      " 11  Embarked     1307 non-null   object \n",
      "dtypes: float64(3), int64(4), object(5)\n",
      "memory usage: 122.8+ KB\n"
     ]
    }
   ],
   "source": [
    "df_all.info()"
   ]
  },
  {
   "cell_type": "markdown",
   "id": "c6540987",
   "metadata": {
    "papermill": {
     "duration": 0.009963,
     "end_time": "2022-07-12T13:01:45.598665",
     "exception": false,
     "start_time": "2022-07-12T13:01:45.588702",
     "status": "completed"
    },
    "tags": []
   },
   "source": [
    "Do some univariate analysis before filling out/Tableau"
   ]
  },
  {
   "cell_type": "code",
   "execution_count": null,
   "id": "79c39d03",
   "metadata": {
    "papermill": {
     "duration": 0.010035,
     "end_time": "2022-07-12T13:01:45.618782",
     "exception": false,
     "start_time": "2022-07-12T13:01:45.608747",
     "status": "completed"
    },
    "tags": []
   },
   "outputs": [],
   "source": []
  },
  {
   "cell_type": "markdown",
   "id": "e2b1b6f8",
   "metadata": {
    "papermill": {
     "duration": 0.009961,
     "end_time": "2022-07-12T13:01:45.639340",
     "exception": false,
     "start_time": "2022-07-12T13:01:45.629379",
     "status": "completed"
    },
    "tags": []
   },
   "source": [
    "**1.2 Missing Values**\n",
    "It is convenient to work on concatenated training and test set while dealing with missing values, otherwise filled data may overfit to training or test set samples. \n",
    "The count of missing values in Age, Embarked and Fare are smaller compared to total sample, but roughly 80% of the Cabin is missing. Missing values in **Age, Embarked and Fare** can be filled with *descriptive statistical measures* but that wouldn't work for Cabin.\n",
    "\n",
    "Studying correlations will help us a lot.\n"
   ]
  },
  {
   "cell_type": "code",
   "execution_count": 11,
   "id": "a2147d7d",
   "metadata": {
    "execution": {
     "iopub.execute_input": "2022-07-12T13:01:45.661966Z",
     "iopub.status.busy": "2022-07-12T13:01:45.661554Z",
     "iopub.status.idle": "2022-07-12T13:01:45.674312Z",
     "shell.execute_reply": "2022-07-12T13:01:45.672905Z"
    },
    "papermill": {
     "duration": 0.028277,
     "end_time": "2022-07-12T13:01:45.678202",
     "exception": false,
     "start_time": "2022-07-12T13:01:45.649925",
     "status": "completed"
    },
    "tags": []
   },
   "outputs": [
    {
     "name": "stdout",
     "output_type": "stream",
     "text": [
      "PassengerId  percent missing value: 0.0\n",
      "Survived  percent missing value: 31.932773109243698\n",
      "Pclass  percent missing value: 0.0\n",
      "Name  percent missing value: 0.0\n",
      "Sex  percent missing value: 0.0\n",
      "Age  percent missing value: 20.091673032849503\n",
      "SibSp  percent missing value: 0.0\n",
      "Parch  percent missing value: 0.0\n",
      "Ticket  percent missing value: 0.0\n",
      "Fare  percent missing value: 0.07639419404125286\n",
      "Cabin  percent missing value: 77.46371275783041\n",
      "Embarked  percent missing value: 0.15278838808250572\n"
     ]
    }
   ],
   "source": [
    "for feature in df_all.columns:\n",
    "    print(feature,' percent missing value:',100*df_all[feature].isnull().sum()/df_all.shape[0])"
   ]
  },
  {
   "cell_type": "code",
   "execution_count": 12,
   "id": "58b596fa",
   "metadata": {
    "execution": {
     "iopub.execute_input": "2022-07-12T13:01:45.702458Z",
     "iopub.status.busy": "2022-07-12T13:01:45.701748Z",
     "iopub.status.idle": "2022-07-12T13:01:46.287895Z",
     "shell.execute_reply": "2022-07-12T13:01:46.285764Z"
    },
    "papermill": {
     "duration": 0.601971,
     "end_time": "2022-07-12T13:01:46.291171",
     "exception": false,
     "start_time": "2022-07-12T13:01:45.689200",
     "status": "completed"
    },
    "tags": []
   },
   "outputs": [
    {
     "data": {
      "text/plain": [
       "Text(0.5, 1.0, 'Pearson Correlation Heatmap')"
      ]
     },
     "execution_count": 12,
     "metadata": {},
     "output_type": "execute_result"
    },
    {
     "data": {
      "image/png": "[encoded data removed]",
      "text/plain": [
       "<Figure size 1152x432 with 2 Axes>"
      ]
     },
     "metadata": {},
     "output_type": "display_data"
    }
   ],
   "source": [
    "plt.figure(figsize=(16,6))\n",
    "heatmap=sns.heatmap(df_all.corr(),vmin=-1,vmax=1,annot=True,cmap='BrBG')\n",
    "heatmap.set_title('Pearson Correlation Heatmap',fontdict={'fontsize':18},pad=12)\n"
   ]
  },
  {
   "cell_type": "markdown",
   "id": "a9098c74",
   "metadata": {
    "papermill": {
     "duration": 0.011487,
     "end_time": "2022-07-12T13:01:46.315326",
     "exception": false,
     "start_time": "2022-07-12T13:01:46.303839",
     "status": "completed"
    },
    "tags": []
   },
   "source": [
    "**1.2.1 Age**\n",
    "Missing values in Age are filled with"
   ]
  },
  {
   "cell_type": "code",
   "execution_count": 13,
   "id": "a5ac1ab8",
   "metadata": {
    "execution": {
     "iopub.execute_input": "2022-07-12T13:01:46.340078Z",
     "iopub.status.busy": "2022-07-12T13:01:46.339664Z",
     "iopub.status.idle": "2022-07-12T13:01:46.609970Z",
     "shell.execute_reply": "2022-07-12T13:01:46.608587Z"
    },
    "papermill": {
     "duration": 0.286046,
     "end_time": "2022-07-12T13:01:46.612684",
     "exception": false,
     "start_time": "2022-07-12T13:01:46.326638",
     "status": "completed"
    },
    "tags": []
   },
   "outputs": [
    {
     "data": {
      "text/plain": [
       "<AxesSubplot:>"
      ]
     },
     "execution_count": 13,
     "metadata": {},
     "output_type": "execute_result"
    },
    {
     "data": {
      "image/png": "[encoded data removed]",
      "text/plain": [
       "<Figure size 432x288 with 1 Axes>"
      ]
     },
     "metadata": {},
     "output_type": "display_data"
    }
   ],
   "source": [
    "df_all.Age.hist(bins=10)"
   ]
  },
  {
   "cell_type": "markdown",
   "id": "2db5e5be",
   "metadata": {
    "papermill": {
     "duration": 0.007434,
     "end_time": "2022-07-12T13:01:46.628205",
     "exception": false,
     "start_time": "2022-07-12T13:01:46.620771",
     "status": "completed"
    },
    "tags": []
   },
   "source": [
    "You can clearly see that the younger age bracket is mostly present"
   ]
  },
  {
   "cell_type": "code",
   "execution_count": 14,
   "id": "48ac2e4a",
   "metadata": {
    "execution": {
     "iopub.execute_input": "2022-07-12T13:01:46.645963Z",
     "iopub.status.busy": "2022-07-12T13:01:46.645547Z",
     "iopub.status.idle": "2022-07-12T13:01:46.669554Z",
     "shell.execute_reply": "2022-07-12T13:01:46.668688Z"
    },
    "papermill": {
     "duration": 0.035293,
     "end_time": "2022-07-12T13:01:46.671293",
     "exception": false,
     "start_time": "2022-07-12T13:01:46.636000",
     "status": "completed"
    },
    "tags": []
   },
   "outputs": [
    {
     "data": {
      "text/html": [
       "<div>\n",
       "<style scoped>\n",
       "    .dataframe tbody tr th:only-of-type {\n",
       "        vertical-align: middle;\n",
       "    }\n",
       "\n",
       "    .dataframe tbody tr th {\n",
       "        vertical-align: top;\n",
       "    }\n",
       "\n",
       "    .dataframe thead th {\n",
       "        text-align: right;\n",
       "    }\n",
       "</style>\n",
       "<table border=\"1\" class=\"dataframe\">\n",
       "  <thead>\n",
       "    <tr style=\"text-align: right;\">\n",
       "      <th></th>\n",
       "      <th>PassengerId</th>\n",
       "      <th>Survived</th>\n",
       "      <th>Pclass</th>\n",
       "      <th>Name</th>\n",
       "      <th>Sex</th>\n",
       "      <th>Age</th>\n",
       "      <th>SibSp</th>\n",
       "      <th>Parch</th>\n",
       "      <th>Ticket</th>\n",
       "      <th>Fare</th>\n",
       "      <th>Cabin</th>\n",
       "      <th>Embarked</th>\n",
       "    </tr>\n",
       "  </thead>\n",
       "  <tbody>\n",
       "    <tr>\n",
       "      <th>5</th>\n",
       "      <td>6</td>\n",
       "      <td>0.0</td>\n",
       "      <td>3</td>\n",
       "      <td>Moran, Mr. James</td>\n",
       "      <td>male</td>\n",
       "      <td>NaN</td>\n",
       "      <td>0</td>\n",
       "      <td>0</td>\n",
       "      <td>330877</td>\n",
       "      <td>8.4583</td>\n",
       "      <td>NaN</td>\n",
       "      <td>Q</td>\n",
       "    </tr>\n",
       "    <tr>\n",
       "      <th>17</th>\n",
       "      <td>18</td>\n",
       "      <td>1.0</td>\n",
       "      <td>2</td>\n",
       "      <td>Williams, Mr. Charles Eugene</td>\n",
       "      <td>male</td>\n",
       "      <td>NaN</td>\n",
       "      <td>0</td>\n",
       "      <td>0</td>\n",
       "      <td>244373</td>\n",
       "      <td>13.0000</td>\n",
       "      <td>NaN</td>\n",
       "      <td>S</td>\n",
       "    </tr>\n",
       "    <tr>\n",
       "      <th>19</th>\n",
       "      <td>20</td>\n",
       "      <td>1.0</td>\n",
       "      <td>3</td>\n",
       "      <td>Masselmani, Mrs. Fatima</td>\n",
       "      <td>female</td>\n",
       "      <td>NaN</td>\n",
       "      <td>0</td>\n",
       "      <td>0</td>\n",
       "      <td>2649</td>\n",
       "      <td>7.2250</td>\n",
       "      <td>NaN</td>\n",
       "      <td>C</td>\n",
       "    </tr>\n",
       "    <tr>\n",
       "      <th>26</th>\n",
       "      <td>27</td>\n",
       "      <td>0.0</td>\n",
       "      <td>3</td>\n",
       "      <td>Emir, Mr. Farred Chehab</td>\n",
       "      <td>male</td>\n",
       "      <td>NaN</td>\n",
       "      <td>0</td>\n",
       "      <td>0</td>\n",
       "      <td>2631</td>\n",
       "      <td>7.2250</td>\n",
       "      <td>NaN</td>\n",
       "      <td>C</td>\n",
       "    </tr>\n",
       "    <tr>\n",
       "      <th>28</th>\n",
       "      <td>29</td>\n",
       "      <td>1.0</td>\n",
       "      <td>3</td>\n",
       "      <td>O'Dwyer, Miss. Ellen \"Nellie\"</td>\n",
       "      <td>female</td>\n",
       "      <td>NaN</td>\n",
       "      <td>0</td>\n",
       "      <td>0</td>\n",
       "      <td>330959</td>\n",
       "      <td>7.8792</td>\n",
       "      <td>NaN</td>\n",
       "      <td>Q</td>\n",
       "    </tr>\n",
       "    <tr>\n",
       "      <th>...</th>\n",
       "      <td>...</td>\n",
       "      <td>...</td>\n",
       "      <td>...</td>\n",
       "      <td>...</td>\n",
       "      <td>...</td>\n",
       "      <td>...</td>\n",
       "      <td>...</td>\n",
       "      <td>...</td>\n",
       "      <td>...</td>\n",
       "      <td>...</td>\n",
       "      <td>...</td>\n",
       "      <td>...</td>\n",
       "    </tr>\n",
       "    <tr>\n",
       "      <th>1299</th>\n",
       "      <td>1300</td>\n",
       "      <td>NaN</td>\n",
       "      <td>3</td>\n",
       "      <td>Riordan, Miss. Johanna Hannah\"\"</td>\n",
       "      <td>female</td>\n",
       "      <td>NaN</td>\n",
       "      <td>0</td>\n",
       "      <td>0</td>\n",
       "      <td>334915</td>\n",
       "      <td>7.7208</td>\n",
       "      <td>NaN</td>\n",
       "      <td>Q</td>\n",
       "    </tr>\n",
       "    <tr>\n",
       "      <th>1301</th>\n",
       "      <td>1302</td>\n",
       "      <td>NaN</td>\n",
       "      <td>3</td>\n",
       "      <td>Naughton, Miss. Hannah</td>\n",
       "      <td>female</td>\n",
       "      <td>NaN</td>\n",
       "      <td>0</td>\n",
       "      <td>0</td>\n",
       "      <td>365237</td>\n",
       "      <td>7.7500</td>\n",
       "      <td>NaN</td>\n",
       "      <td>Q</td>\n",
       "    </tr>\n",
       "    <tr>\n",
       "      <th>1304</th>\n",
       "      <td>1305</td>\n",
       "      <td>NaN</td>\n",
       "      <td>3</td>\n",
       "      <td>Spector, Mr. Woolf</td>\n",
       "      <td>male</td>\n",
       "      <td>NaN</td>\n",
       "      <td>0</td>\n",
       "      <td>0</td>\n",
       "      <td>A.5. 3236</td>\n",
       "      <td>8.0500</td>\n",
       "      <td>NaN</td>\n",
       "      <td>S</td>\n",
       "    </tr>\n",
       "    <tr>\n",
       "      <th>1307</th>\n",
       "      <td>1308</td>\n",
       "      <td>NaN</td>\n",
       "      <td>3</td>\n",
       "      <td>Ware, Mr. Frederick</td>\n",
       "      <td>male</td>\n",
       "      <td>NaN</td>\n",
       "      <td>0</td>\n",
       "      <td>0</td>\n",
       "      <td>359309</td>\n",
       "      <td>8.0500</td>\n",
       "      <td>NaN</td>\n",
       "      <td>S</td>\n",
       "    </tr>\n",
       "    <tr>\n",
       "      <th>1308</th>\n",
       "      <td>1309</td>\n",
       "      <td>NaN</td>\n",
       "      <td>3</td>\n",
       "      <td>Peter, Master. Michael J</td>\n",
       "      <td>male</td>\n",
       "      <td>NaN</td>\n",
       "      <td>1</td>\n",
       "      <td>1</td>\n",
       "      <td>2668</td>\n",
       "      <td>22.3583</td>\n",
       "      <td>NaN</td>\n",
       "      <td>C</td>\n",
       "    </tr>\n",
       "  </tbody>\n",
       "</table>\n",
       "<p>263 rows × 12 columns</p>\n",
       "</div>"
      ],
      "text/plain": [
       "      PassengerId  Survived  Pclass                             Name     Sex  \\\n",
       "5               6       0.0       3                 Moran, Mr. James    male   \n",
       "17             18       1.0       2     Williams, Mr. Charles Eugene    male   \n",
       "19             20       1.0       3          Masselmani, Mrs. Fatima  female   \n",
       "26             27       0.0       3          Emir, Mr. Farred Chehab    male   \n",
       "28             29       1.0       3    O'Dwyer, Miss. Ellen \"Nellie\"  female   \n",
       "...           ...       ...     ...                              ...     ...   \n",
       "1299         1300       NaN       3  Riordan, Miss. Johanna Hannah\"\"  female   \n",
       "1301         1302       NaN       3           Naughton, Miss. Hannah  female   \n",
       "1304         1305       NaN       3               Spector, Mr. Woolf    male   \n",
       "1307         1308       NaN       3              Ware, Mr. Frederick    male   \n",
       "1308         1309       NaN       3         Peter, Master. Michael J    male   \n",
       "\n",
       "      Age  SibSp  Parch     Ticket     Fare Cabin Embarked  \n",
       "5     NaN      0      0     330877   8.4583   NaN        Q  \n",
       "17    NaN      0      0     244373  13.0000   NaN        S  \n",
       "19    NaN      0      0       2649   7.2250   NaN        C  \n",
       "26    NaN      0      0       2631   7.2250   NaN        C  \n",
       "28    NaN      0      0     330959   7.8792   NaN        Q  \n",
       "...   ...    ...    ...        ...      ...   ...      ...  \n",
       "1299  NaN      0      0     334915   7.7208   NaN        Q  \n",
       "1301  NaN      0      0     365237   7.7500   NaN        Q  \n",
       "1304  NaN      0      0  A.5. 3236   8.0500   NaN        S  \n",
       "1307  NaN      0      0     359309   8.0500   NaN        S  \n",
       "1308  NaN      1      1       2668  22.3583   NaN        C  \n",
       "\n",
       "[263 rows x 12 columns]"
      ]
     },
     "execution_count": 14,
     "metadata": {},
     "output_type": "execute_result"
    }
   ],
   "source": [
    "df_all[df_all.Age.isnull()]"
   ]
  },
  {
   "cell_type": "code",
   "execution_count": 15,
   "id": "a56ec26f",
   "metadata": {
    "execution": {
     "iopub.execute_input": "2022-07-12T13:01:46.688876Z",
     "iopub.status.busy": "2022-07-12T13:01:46.688327Z",
     "iopub.status.idle": "2022-07-12T13:01:46.701012Z",
     "shell.execute_reply": "2022-07-12T13:01:46.699704Z"
    },
    "papermill": {
     "duration": 0.025035,
     "end_time": "2022-07-12T13:01:46.704310",
     "exception": false,
     "start_time": "2022-07-12T13:01:46.679275",
     "status": "completed"
    },
    "tags": []
   },
   "outputs": [
    {
     "data": {
      "text/html": [
       "<div>\n",
       "<style scoped>\n",
       "    .dataframe tbody tr th:only-of-type {\n",
       "        vertical-align: middle;\n",
       "    }\n",
       "\n",
       "    .dataframe tbody tr th {\n",
       "        vertical-align: top;\n",
       "    }\n",
       "\n",
       "    .dataframe thead th {\n",
       "        text-align: right;\n",
       "    }\n",
       "</style>\n",
       "<table border=\"1\" class=\"dataframe\">\n",
       "  <thead>\n",
       "    <tr style=\"text-align: right;\">\n",
       "      <th></th>\n",
       "      <th>Age</th>\n",
       "    </tr>\n",
       "  </thead>\n",
       "  <tbody>\n",
       "    <tr>\n",
       "      <th>Age</th>\n",
       "      <td>1.000000</td>\n",
       "    </tr>\n",
       "    <tr>\n",
       "      <th>Fare</th>\n",
       "      <td>0.178740</td>\n",
       "    </tr>\n",
       "    <tr>\n",
       "      <th>PassengerId</th>\n",
       "      <td>0.028814</td>\n",
       "    </tr>\n",
       "    <tr>\n",
       "      <th>Survived</th>\n",
       "      <td>-0.077221</td>\n",
       "    </tr>\n",
       "    <tr>\n",
       "      <th>Parch</th>\n",
       "      <td>-0.150917</td>\n",
       "    </tr>\n",
       "    <tr>\n",
       "      <th>SibSp</th>\n",
       "      <td>-0.243699</td>\n",
       "    </tr>\n",
       "    <tr>\n",
       "      <th>Pclass</th>\n",
       "      <td>-0.408106</td>\n",
       "    </tr>\n",
       "  </tbody>\n",
       "</table>\n",
       "</div>"
      ],
      "text/plain": [
       "                  Age\n",
       "Age          1.000000\n",
       "Fare         0.178740\n",
       "PassengerId  0.028814\n",
       "Survived    -0.077221\n",
       "Parch       -0.150917\n",
       "SibSp       -0.243699\n",
       "Pclass      -0.408106"
      ]
     },
     "execution_count": 15,
     "metadata": {},
     "output_type": "execute_result"
    }
   ],
   "source": [
    "df_all.corr()[['Age']].sort_values(by='Age',ascending=False)"
   ]
  },
  {
   "cell_type": "markdown",
   "id": "4e71693c",
   "metadata": {
    "papermill": {
     "duration": 0.007666,
     "end_time": "2022-07-12T13:01:46.720330",
     "exception": false,
     "start_time": "2022-07-12T13:01:46.712664",
     "status": "completed"
    },
    "tags": []
   },
   "source": []
  },
  {
   "cell_type": "code",
   "execution_count": 16,
   "id": "15cfbc83",
   "metadata": {
    "execution": {
     "iopub.execute_input": "2022-07-12T13:01:46.737875Z",
     "iopub.status.busy": "2022-07-12T13:01:46.737541Z",
     "iopub.status.idle": "2022-07-12T13:01:47.027442Z",
     "shell.execute_reply": "2022-07-12T13:01:47.026447Z"
    },
    "papermill": {
     "duration": 0.301107,
     "end_time": "2022-07-12T13:01:47.029412",
     "exception": false,
     "start_time": "2022-07-12T13:01:46.728305",
     "status": "completed"
    },
    "tags": []
   },
   "outputs": [
    {
     "data": {
      "image/png": "[encoded data removed]",
      "text/plain": [
       "<Figure size 576x864 with 2 Axes>"
      ]
     },
     "metadata": {},
     "output_type": "display_data"
    }
   ],
   "source": [
    "plt.figure(figsize=(8, 12))\n",
    "heatmap = sns.heatmap(df_all.corr()[['Age']].sort_values(by='Age',ascending=False), vmin=-1, vmax=1, annot=True, cmap='BrBG')\n",
    "heatmap.set_title('Features Correlating with Age', fontdict={'fontsize':18}, pad=16);"
   ]
  },
  {
   "cell_type": "markdown",
   "id": "05d5c492",
   "metadata": {
    "papermill": {
     "duration": 0.008764,
     "end_time": "2022-07-12T13:01:47.046474",
     "exception": false,
     "start_time": "2022-07-12T13:01:47.037710",
     "status": "completed"
    },
    "tags": []
   },
   "source": [
    "From here we can clearly assume that Pclass and Age are highly related.Therefore we will impute the missing value by median of the corresponding Pclass."
   ]
  }
 ],
 "metadata": {
  "kernelspec": {
   "display_name": "Python 3",
   "language": "python",
   "name": "python3"
  },
  "language_info": {
   "codemirror_mode": {
    "name": "ipython",
    "version": 3
   },
   "file_extension": ".py",
   "mimetype": "text/x-python",
   "name": "python",
   "nbconvert_exporter": "python",
   "pygments_lexer": "ipython3",
   "version": "3.7.12"
  },
  "papermill": {
   "default_parameters": {},
   "duration": 17.857133,
   "end_time": "2022-07-12T13:01:48.178338",
   "environment_variables": {},
   "exception": null,
   "input_path": "__notebook__.ipynb",
   "output_path": "__notebook__.ipynb",
   "parameters": {},
   "start_time": "2022-07-12T13:01:30.321205",
   "version": "2.3.4"
  }
 },
 "nbformat": 4,
 "nbformat_minor": 5
}
